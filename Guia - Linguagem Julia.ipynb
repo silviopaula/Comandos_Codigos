{
 "cells": [
  {
   "cell_type": "markdown",
   "id": "1e92444d",
   "metadata": {},
   "source": [
    "# JULIA FUNDAMENTOS\n",
    "\n",
    "![enter image description here](https://encrypted-tbn0.gstatic.com/images?q=tbn:ANd9GcRzNriFiq6S5H3xWX9fIs-PrPQ51sc2gvVeQbnATLjQBlEAwEO0MwBsE5zeD5F_WHJEp4g&usqp=CAU)\n",
    "\n",
    "*Autor: Silvio da Rosa Paula*              "
   ]
  },
  {
   "cell_type": "markdown",
   "id": "1da32527",
   "metadata": {},
   "source": [
    "---------------------------------------------------------------------------\n",
    "## Pacotes e Configurações"
   ]
  },
  {
   "cell_type": "markdown",
   "id": "3386b0b2",
   "metadata": {},
   "source": [
    "**Para abrir o Jupyter notebook direto da pasta onde estão os scripts com windows** \n",
    "\n",
    "* Pressione shift + Botão direto do mouse / seleciona abrir janela do powershel aqui / digite: jupyter notebook "
   ]
  },
  {
   "cell_type": "markdown",
   "id": "30ec0673",
   "metadata": {},
   "source": [
    "**LINKS ÚTEIS**     \n",
    "\n",
    "* Página oficial https://julialang.org/\n",
    "\n",
    "* Documentação Julia https://docs.julialang.org/en/v1/\n",
    "\n",
    "* wikibooks https://en.wikibooks.org/wiki/Introducing_Julia/Arrays_and_tuples#Arrays\n",
    "\n",
    "**Material basedo em:**\n",
    "\n",
    "* Material em Português https://juliaintro.github.io/JuliaIntroBR.jl/ \n",
    "\n",
    "* Material em inglês https://riptutorial.com/julia-lang/\n",
    "\n",
    "* Curso de programação em Julia UDEMY https://www.udemy.com/course/curso-de-programacao-em-julia/\n"
   ]
  },
  {
   "cell_type": "markdown",
   "id": "c1bd6b82",
   "metadata": {},
   "source": [
    "**Como instalar Julia no Jupyter notebook/lab**              \n",
    "\n",
    "https://datatofish.com/add-julia-to-jupyter/\n",
    "\n",
    "* Execute a linha de comando do Julia              \n",
    "Comandos\n",
    "* using Pkg   \n",
    "* Pkg.add(\"IJulia\")"
   ]
  },
  {
   "cell_type": "markdown",
   "id": "c7577624",
   "metadata": {},
   "source": [
    "---------------\n",
    "## Glosário\n",
    "\n",
    "**REPL**                  \n",
    "Um programa que repetidamente lê entradas, executa e exibe os resultados.\n",
    "\n",
    "**prompt**                  \n",
    "Caratecteres exibido pelo REPL para indicar que está pronto para receber informações do usuário.\n",
    "\n",
    "**declaração de impressão\n",
    "Uma instrução que faz com o que o Julia REPL exiba o valor na tela.\n",
    "\n",
    "**operador**                  \n",
    "Um símbolo que representa um simples cálculo como adição, multiplicação, ou uma concatenação de strings.\n",
    "\n",
    "**valor**                  \n",
    "Uma (\"valores\" das unidades de dados mais básicas, como um número ou string, é o que um programa manipula.\n",
    "\n",
    "**tipo**                  \n",
    "Uma categoria de valores. Os tipos que vimos até agora são números inteiros (Int64), números de ponto flutuante (Float64) e seqüências de caracteres (String).\n",
    "\n",
    "**inteiros**                  \n",
    "Um tipo de que representa todos os números.\n",
    "\n",
    "**ponto-flutuante**                  \n",
    "Um tipo que representa números com pontos decimais.\n",
    "\n",
    "**string**                  \n",
    "Um tipo que representa uma sequência de caracteres.\n",
    "\n",
    "**linguagem natural**                  \n",
    "Qualquer uma das linguagens que as pessoas falam que se envolvem naturalmente.\n",
    "\n",
    "**sintaxe**                  \n",
    "As regras que governam a estrutura de um programa.\n",
    "\n",
    "**símbolo**                  \n",
    "Um dos elementos mais básicos de uma estrutura de sintaxes de um programa, análogo a uma palavra numa linguagem natural.\n",
    "\n",
    "**estrutura**                  \n",
    "A maneira que os símbolos são combinados.\n",
    "\n",
    "**depurar**                  \n",
    "O processo de encontrar e corrigir bugs.\n",
    "---------------"
   ]
  },
  {
   "cell_type": "markdown",
   "id": "af383969",
   "metadata": {},
   "source": [
    "* O Julia possui as seguintes palavras chave:\n",
    "|               |            |        |                |                |\n",
    "| ------------- | ---------- | ------ | -------------- | -------------- |\n",
    "| abstract type | baremodule | begin  | break          | catch          |\n",
    "| const         | continue   | do     | else           | elseif         |\n",
    "| end           | export     | false  | finally        | for            |\n",
    "| function      | global     | if     | import         | let            |\n",
    "| local         | macro      | module | mutable struct | primitive type |\n",
    "| quote         | return     | true   | using          | struct         |\n",
    "| while         |            |        |                |                |\n",
    "\n",
    "------------"
   ]
  },
  {
   "cell_type": "code",
   "execution_count": null,
   "id": "87c0de6e",
   "metadata": {},
   "outputs": [],
   "source": [
    "# Ver a versão do Julia que estamos utilizando\n",
    "VERSION"
   ]
  },
  {
   "cell_type": "code",
   "execution_count": null,
   "id": "8f39fe9b",
   "metadata": {},
   "outputs": [],
   "source": [
    "# Para ver a arquitetura do sistema operacional \n",
    "Sys.WORD_SIZE"
   ]
  },
  {
   "cell_type": "code",
   "execution_count": null,
   "id": "138f25aa",
   "metadata": {},
   "outputs": [],
   "source": [
    "# Para inserir comentários maiores ou texto\n",
    "\"\"\"cole o texto aqui\"\"\""
   ]
  },
  {
   "cell_type": "code",
   "execution_count": null,
   "id": "6d51d79d",
   "metadata": {},
   "outputs": [],
   "source": [
    "# Ver pasta de trabalho\n",
    "%pwd"
   ]
  },
  {
   "cell_type": "code",
   "execution_count": null,
   "id": "8f1d6381",
   "metadata": {},
   "outputs": [],
   "source": [
    "# Alterar pasta de trabalho\n",
    "%cd C:\\..."
   ]
  },
  {
   "cell_type": "markdown",
   "id": "dfb171c2",
   "metadata": {},
   "source": [
    "--------------------------------------------------------------------------\n",
    "##   Números inteiros\n",
    "\n",
    "A linguagem Julia oferece suporte para os números inteiros que variam entre: Int8,\n",
    "Int16, Int32, Int64 e Int128, sendo que os números junto com a palavra Int refere-se\n",
    "a largura de bits utilizado para representar os números inteiros.\n",
    "\n",
    "Julia adota como padrão Int64 ou Int32 dependendo da arquitetura do computador."
   ]
  },
  {
   "cell_type": "code",
   "execution_count": null,
   "id": "525f9aa0",
   "metadata": {},
   "outputs": [],
   "source": [
    "# Exemplo de número inteiro\n",
    "32"
   ]
  },
  {
   "cell_type": "code",
   "execution_count": null,
   "id": "b0e82b9b",
   "metadata": {},
   "outputs": [],
   "source": [
    "# Ver o tipo do objeto\n",
    "typeof(32)"
   ]
  },
  {
   "cell_type": "code",
   "execution_count": null,
   "id": "be029ec8",
   "metadata": {},
   "outputs": [],
   "source": [
    "# Gerar um inteiro de 32bits\n",
    "Int32(32)"
   ]
  },
  {
   "cell_type": "code",
   "execution_count": null,
   "id": "477df324",
   "metadata": {},
   "outputs": [],
   "source": [
    "typeof(Int32(32))"
   ]
  },
  {
   "cell_type": "markdown",
   "id": "f000b9a9",
   "metadata": {},
   "source": [
    "**Comportamento de estouro**\n",
    "\n",
    "Quando trabalhamos com números inteiros em Julia podemos sofrer com o comportamento de estouro. Tal comportamento pode ocorrer em duas situações em Julia:    \n",
    "\n",
    "* Quando tentamos armazenar um valor maior que o permitido           \n",
    "* Quando tentamos armazenar um valor menor que o permitido.  \n",
    "\n",
    "Limites pertidos por tipo de número\n",
    "\n",
    "   Int8: [-128,127]            \n",
    "  Int16: [-32768,32767]            \n",
    "  Int32: [-2147483648,2147483647]            \n",
    "  Int64: [-9223372036854775808,9223372036854775807]            \n",
    " Int128: [-170141183460469231731687303715884105728,170141183460469231731687303715884105727]            \n",
    "  UInt8: [0,255]            \n",
    " UInt16: [0,65535]            \n",
    " UInt32: [0,4294967295]            \n",
    " UInt64: [0,18446744073709551615]            \n",
    "UInt128: [0,340282366920938463463374607431768211455]            "
   ]
  },
  {
   "cell_type": "code",
   "execution_count": null,
   "id": "12871db5",
   "metadata": {},
   "outputs": [],
   "source": [
    "# Ver os valores minimos e maximos de cada arquitetura\n",
    "typemin(Int64) # -9223372036854775808\n",
    "typemax(Int64) # 9223372036854775807"
   ]
  },
  {
   "cell_type": "markdown",
   "id": "0d76ac9a",
   "metadata": {},
   "source": [
    "**Aritmética modular**\n",
    "\n",
    "A aritmética empregada em Julia é na verdade uma\n",
    "forma de aritmética modular. Então, uma forma de contornarmos esse problema é\n",
    "utilizar um tipo de Int maior daquele que estamos utilizando, ou a utilização de um\n",
    "BigInt()"
   ]
  },
  {
   "cell_type": "code",
   "execution_count": null,
   "id": "abcfd2bf",
   "metadata": {},
   "outputs": [],
   "source": [
    "# Contornar limitações da aritmética modular\n",
    "BigInt(typemax(Int64))+1"
   ]
  },
  {
   "cell_type": "markdown",
   "id": "a29af5eb",
   "metadata": {},
   "source": [
    "## Números de ponto flutuante (Float)\n",
    "\n",
    "Números de ponto flutuante podem ser representados com um ponto separando a parte a parte inteira da parte decimal. Ademais, Podemos utilizar na declaraçãao de um numero de ponto flutuante a notação ***e*** quando necessário, ou a utilizaçãao de literais."
   ]
  },
  {
   "cell_type": "code",
   "execution_count": null,
   "id": "9648ca4a",
   "metadata": {},
   "outputs": [],
   "source": [
    "# Exemplo 1\n",
    "1.5"
   ]
  },
  {
   "cell_type": "code",
   "execution_count": null,
   "id": "dabdf442",
   "metadata": {},
   "outputs": [],
   "source": [
    "# Exemplo 1\n",
    "1e-4"
   ]
  },
  {
   "cell_type": "code",
   "execution_count": null,
   "id": "f3a07a79",
   "metadata": {},
   "outputs": [],
   "source": [
    "# O Julia aceita valores literais\n",
    "1f4"
   ]
  },
  {
   "cell_type": "code",
   "execution_count": null,
   "id": "65c3295c",
   "metadata": {},
   "outputs": [],
   "source": [
    "# No Julia temos dois tipos de zero -0.0 e 0.0\n",
    "-0.0 == 0.0"
   ]
  },
  {
   "cell_type": "code",
   "execution_count": null,
   "id": "1503c5b5",
   "metadata": {},
   "outputs": [],
   "source": [
    "# Valores Especiais\n",
    "-Inf # Menos Infinito\n",
    "Inf # Mais Infinito\n",
    "NaN # valor ausente"
   ]
  },
  {
   "cell_type": "markdown",
   "id": "90c1a887",
   "metadata": {},
   "source": [
    "## Números complexos\n",
    "\n",
    "Os números complexos são números compostos por uma parte real e uma imaginária. Eles representam o conjunto de todos os pares ordenados (x, y), cujos elementos pertencem ao conjunto dos números reais (R)."
   ]
  },
  {
   "cell_type": "code",
   "execution_count": null,
   "id": "353e4af1",
   "metadata": {},
   "outputs": [],
   "source": [
    "# Exemplo\n",
    "z = 1+2im\n",
    "\n",
    "# ver o tipo\n",
    "typeof(z)"
   ]
  },
  {
   "cell_type": "code",
   "execution_count": null,
   "id": "1287678a",
   "metadata": {},
   "outputs": [],
   "source": [
    "# Pedir somente a parte real do número\n",
    "real(z)"
   ]
  },
  {
   "cell_type": "code",
   "execution_count": null,
   "id": "e8eb5c3d",
   "metadata": {},
   "outputs": [],
   "source": [
    "# Pedir somente a parte imaginária do número\n",
    "imag(z)"
   ]
  },
  {
   "cell_type": "code",
   "execution_count": null,
   "id": "9472f046",
   "metadata": {},
   "outputs": [],
   "source": [
    "# Pedir o conjugado\n",
    "conj(z)"
   ]
  },
  {
   "cell_type": "code",
   "execution_count": null,
   "id": "955a8718",
   "metadata": {},
   "outputs": [],
   "source": [
    "# Pedir o ângulo em radianos\n",
    "angle(z)"
   ]
  },
  {
   "cell_type": "markdown",
   "id": "7b991ef6",
   "metadata": {},
   "source": [
    "## Números Racionais\n",
    "\n",
    "Em matemática, um número racional é todo número que pode ser representado por uma fração de dois números inteiros, um numerador a e um denominador não nulo b. Como b pode ser igual a 1, todo número inteiro também é um número racional."
   ]
  },
  {
   "cell_type": "code",
   "execution_count": null,
   "id": "b0a2aa10",
   "metadata": {},
   "outputs": [],
   "source": [
    "R = 2//3\n",
    "\n",
    "# ver o tipo\n",
    "typeof(R)"
   ]
  },
  {
   "cell_type": "code",
   "execution_count": null,
   "id": "1ea3bca3",
   "metadata": {},
   "outputs": [],
   "source": [
    "# Julia simplifica sempre que possível\n",
    "6//9"
   ]
  },
  {
   "cell_type": "markdown",
   "id": "966f0d22",
   "metadata": {},
   "source": [
    "## Operadores Matemáticos e de comparação"
   ]
  },
  {
   "cell_type": "code",
   "execution_count": null,
   "id": "d386ea91",
   "metadata": {},
   "outputs": [],
   "source": [
    "# Operadoções em Julia\n",
    "1 + 1  # soma\n",
    "4 - 3  # Subtração\n",
    "3 * 3  # Multiplicação\n",
    "3 / 2  # Divisão\n",
    "3 \\ 2  # Divisão inversa\n",
    "4^2 # Potência\n",
    "abs(-8) # Retorna o valor absoluto\n",
    "10 % 3 # resto da divisão\n",
    "6 > 3 # sinal de maior\n",
    "4 < 8 # sinal de menor\n",
    "4 >= 4 # maior ou igual\n",
    "4 <= 4 # menor ou igual\n",
    "4 != 3 # Diferença\n",
    "=  # sinal de atribuição\n",
    "== # sinal de comparação\n",
    "sqrt(25) # Raiz quadrada "
   ]
  },
  {
   "cell_type": "markdown",
   "id": "5de30f38",
   "metadata": {},
   "source": [
    "###  STRINGS \n",
    "\n",
    "* As strings são sequências de caracteres, de forma que podemos acessar um caractere em uma dada posição utilizando um índice. \n",
    "\n",
    "* Para criar uma string em Python você pode usar aspas simples ou duplas."
   ]
  },
  {
   "cell_type": "code",
   "execution_count": null,
   "id": "e614b41d",
   "metadata": {},
   "outputs": [],
   "source": [
    "# Gerando uma string\n",
    "typeof(\"Criando uma string em Julia\")"
   ]
  },
  {
   "cell_type": "code",
   "execution_count": null,
   "id": "7b69b704",
   "metadata": {},
   "outputs": [],
   "source": [
    "# String com aspas internas\n",
    "\"Criando uma sintring com \\\"aspas\\\" internas\""
   ]
  },
  {
   "cell_type": "code",
   "execution_count": null,
   "id": "b30cc57f",
   "metadata": {},
   "outputs": [],
   "source": [
    "# Imprimir uma string\n",
    "println(\"Criando uma string em Julia\")"
   ]
  },
  {
   "cell_type": "markdown",
   "id": "0369e379",
   "metadata": {},
   "source": [
    "## Character \n",
    "\n",
    "Serve para quando queremos declarar apenas um caractere"
   ]
  },
  {
   "cell_type": "code",
   "execution_count": null,
   "id": "3ef49f70",
   "metadata": {},
   "outputs": [],
   "source": [
    "# Gerar um charcter\n",
    "typeof('a')"
   ]
  },
  {
   "cell_type": "markdown",
   "id": "56ec5eae",
   "metadata": {},
   "source": [
    "## Concatenação de Strings"
   ]
  },
  {
   "cell_type": "code",
   "execution_count": null,
   "id": "9429ee08",
   "metadata": {},
   "outputs": [],
   "source": [
    "\"Olá\" *\" Julia!\""
   ]
  },
  {
   "cell_type": "markdown",
   "id": "755ca371",
   "metadata": {},
   "source": [
    "## Interpolação de Strings"
   ]
  },
  {
   "cell_type": "code",
   "execution_count": null,
   "id": "48344c22",
   "metadata": {},
   "outputs": [],
   "source": [
    "# Declarando strings\n",
    "Nome = \"Silvio\"\n",
    "Idade = 37\n",
    "\n",
    "# Interpolando\n",
    "string(\"nome: \", Nome, \", idade: \", Idade)"
   ]
  },
  {
   "cell_type": "code",
   "execution_count": null,
   "id": "baa0ef5c",
   "metadata": {},
   "outputs": [],
   "source": [
    "# Sintax da interpolação\n",
    "\"Nome: $Nome Idade: $Idade\""
   ]
  },
  {
   "cell_type": "markdown",
   "id": "e72a1a66",
   "metadata": {},
   "source": [
    "## Manipulação de Strings\n",
    "\n",
    "* Em Julia a indexação começa por 1"
   ]
  },
  {
   "cell_type": "code",
   "execution_count": null,
   "id": "bff049fe",
   "metadata": {},
   "outputs": [],
   "source": [
    "# Declarar uma string\n",
    "str=\"Uma string declarada em Julia\""
   ]
  },
  {
   "cell_type": "code",
   "execution_count": null,
   "id": "f5675c67",
   "metadata": {},
   "outputs": [],
   "source": [
    "# Acessar a primeira letra \n",
    "str[1]"
   ]
  },
  {
   "cell_type": "code",
   "execution_count": null,
   "id": "9ee15e4e",
   "metadata": {},
   "outputs": [],
   "source": [
    "# Fazer slice na string gerada\n",
    "str[5:10]"
   ]
  },
  {
   "cell_type": "code",
   "execution_count": null,
   "id": "b8aa9fec",
   "metadata": {},
   "outputs": [],
   "source": [
    "# Observe a diferença\n",
    "str[1] == str[1:1]"
   ]
  },
  {
   "cell_type": "markdown",
   "id": "999fd059",
   "metadata": {},
   "source": [
    "Isso ocorre pois:\n",
    "* str[1]   # é um objeto do tipo character\n",
    "* str[1:1] # é um objeto do tipo string"
   ]
  },
  {
   "cell_type": "code",
   "execution_count": null,
   "id": "1ca731dc",
   "metadata": {},
   "outputs": [],
   "source": [
    "# Ver tipo de objeto gerado\n",
    "typeof(str[1])"
   ]
  },
  {
   "cell_type": "code",
   "execution_count": null,
   "id": "c6cca863",
   "metadata": {},
   "outputs": [],
   "source": [
    "# Ver tipo de objeto gerado\n",
    "typeof(str[1:1])"
   ]
  },
  {
   "cell_type": "markdown",
   "id": "2150be74",
   "metadata": {},
   "source": [
    "## Operações com String\n",
    "\n",
    "* Comparação de strings\n",
    "* findfirst\n",
    "* findlast\n",
    "* findnext\n",
    "* findprev"
   ]
  },
  {
   "cell_type": "code",
   "execution_count": null,
   "id": "ce53cfb5",
   "metadata": {},
   "outputs": [],
   "source": [
    "# Comparando strings\n",
    "\"abc\" < \"abcd\""
   ]
  },
  {
   "cell_type": "code",
   "execution_count": null,
   "id": "aa8ba0ad",
   "metadata": {},
   "outputs": [],
   "source": [
    "# Comparando strings\n",
    "\"abc\" == \"abcd\""
   ]
  },
  {
   "cell_type": "code",
   "execution_count": null,
   "id": "5000cb01",
   "metadata": {},
   "outputs": [],
   "source": [
    "# Ver a posição do primeiro caractere apontado\n",
    "findfirst('H', \"Hello world\")"
   ]
  },
  {
   "cell_type": "code",
   "execution_count": null,
   "id": "292bf9d6",
   "metadata": {},
   "outputs": [],
   "source": [
    "# Ver a última posição do caractere apontado\n",
    "findlast('l', \"Hello world\")"
   ]
  },
  {
   "cell_type": "code",
   "execution_count": null,
   "id": "bf3d71c0",
   "metadata": {},
   "outputs": [],
   "source": [
    "# Ver posição de um caractere apartir de uma determinada posição\n",
    "findnext('l', \"Hello world\", 5)"
   ]
  },
  {
   "cell_type": "code",
   "execution_count": null,
   "id": "2391a0fa",
   "metadata": {},
   "outputs": [],
   "source": [
    "# Ver posição de um caractere anterior a uma determinada posição\n",
    "findprev('l', \"Hello world\", 5)"
   ]
  },
  {
   "cell_type": "markdown",
   "id": "36c268da",
   "metadata": {},
   "source": [
    "## Tipos Abstratos\n",
    "\n",
    "* O Julia permite que seja criado um objeto abstrato ao qual iremos dizer de qual tipo ele é"
   ]
  },
  {
   "cell_type": "code",
   "execution_count": null,
   "id": "590e0c4a",
   "metadata": {},
   "outputs": [],
   "source": [
    "# Criando um objeto abstrato que atribuiremos o tipo de Number\n",
    "abstract type Numero end\n",
    "\n",
    "# Criar um subtipo de objeto que irá pertencer ao Numero\n",
    "abstract type Real <: Numero end\n",
    "\n",
    "# Verificar se o subtipo Real pertênce a Numero\n",
    "Real <: Numero"
   ]
  },
  {
   "cell_type": "markdown",
   "id": "1a9863ca",
   "metadata": {},
   "source": [
    "## Tipo Composto Imutável"
   ]
  },
  {
   "cell_type": "code",
   "execution_count": null,
   "id": "2a1b908c",
   "metadata": {},
   "outputs": [],
   "source": [
    "# Gerando uma estrutura composta imutável\n",
    "struct Usuario\n",
    "    nome:: String\n",
    "    idade:: Int64\n",
    "    sexo:: Char\n",
    "end    "
   ]
  },
  {
   "cell_type": "code",
   "execution_count": null,
   "id": "2f4613f1",
   "metadata": {},
   "outputs": [],
   "source": [
    "# Adicionando informações na estrutura gerada\n",
    "user = Usuario(\"Silvio\", 38, 'M')"
   ]
  },
  {
   "cell_type": "code",
   "execution_count": null,
   "id": "3cbe311b",
   "metadata": {},
   "outputs": [],
   "source": [
    "# Visualizar campos da estrutura\n",
    "fieldnames(Usuario)"
   ]
  },
  {
   "cell_type": "code",
   "execution_count": null,
   "id": "c01a1309",
   "metadata": {},
   "outputs": [],
   "source": [
    "# Visualizar nomes\n",
    "user.nome\n",
    "\n",
    "# idades\n",
    "#user.idade\n",
    "\n",
    "# Sexo\n",
    "#user.sexo"
   ]
  },
  {
   "cell_type": "markdown",
   "id": "76946216",
   "metadata": {},
   "source": [
    "## Tipo Composto Mutável"
   ]
  },
  {
   "cell_type": "code",
   "execution_count": null,
   "id": "5a440b9d",
   "metadata": {},
   "outputs": [],
   "source": [
    "# Gerando uma estrutura composta mutável\n",
    "mutable struct Pessoa\n",
    "    nome:: String\n",
    "    idade:: Int64\n",
    "    sexo:: Char\n",
    "end  "
   ]
  },
  {
   "cell_type": "code",
   "execution_count": null,
   "id": "da7d0f1f",
   "metadata": {},
   "outputs": [],
   "source": [
    "# Adicionando informações na estrutura gerada\n",
    "user = Pessoa(\"Silvio\", 38, 'M')"
   ]
  },
  {
   "cell_type": "code",
   "execution_count": null,
   "id": "f0db5830",
   "metadata": {},
   "outputs": [],
   "source": [
    "# Alterando nome\n",
    "user.nome= \"Silvio de Paula\""
   ]
  },
  {
   "cell_type": "code",
   "execution_count": null,
   "id": "10af7b5b",
   "metadata": {},
   "outputs": [],
   "source": [
    "# Visualizar nomes\n",
    "user.nome"
   ]
  },
  {
   "cell_type": "code",
   "execution_count": null,
   "id": "8f5988ee",
   "metadata": {},
   "outputs": [],
   "source": [
    "# ver o tipo\n",
    "typeof(user)"
   ]
  },
  {
   "cell_type": "markdown",
   "id": "b1da3519",
   "metadata": {},
   "source": [
    "-------------------\n",
    "## COLEÇÕES\n",
    "\n",
    "## Arrays\n",
    "\n",
    "Um array é uma coleção ordenada de elementos. Geralmente é indicado com colchetes e itens separados por vírgulas. Você pode criar matrizes cheias ou vazias e matrizes que contêm valores de tipos diferentes ou restritos a valores de um tipo específico.\n",
    "\n",
    "Em Julia, arrays são usados para listas, vetores, tabelas e matrizes.\n",
    "\n",
    "Um array unidimensional atua como um vetor ou lista. Uma matriz 2-D pode ser usada como uma tabela ou matriz. E matrizes 3-D e mais-D também são consideradas matrizes multidimensionais."
   ]
  },
  {
   "cell_type": "code",
   "execution_count": null,
   "id": "268049d7",
   "metadata": {},
   "outputs": [],
   "source": [
    "# Gerar arrays\n",
    "[1,2,3]"
   ]
  },
  {
   "cell_type": "code",
   "execution_count": null,
   "id": "fb0563fc",
   "metadata": {},
   "outputs": [],
   "source": [
    "# Gerar arrays\n",
    "[1, 1.2, 3+4im, 1//2, 'c', \"string, [1,2,3]\"]"
   ]
  },
  {
   "cell_type": "code",
   "execution_count": null,
   "id": "1a43292c",
   "metadata": {},
   "outputs": [],
   "source": [
    "# Gerar arrays/Matriz\n",
    "[1 2 3;4 5 6]"
   ]
  },
  {
   "cell_type": "markdown",
   "id": "20824d3e",
   "metadata": {},
   "source": [
    "### Funções em arrays\n",
    "\n",
    "* Função **ones** para criar arrays de 1. (Tipo, linha, coluna))"
   ]
  },
  {
   "cell_type": "code",
   "execution_count": null,
   "id": "b79d78b4",
   "metadata": {},
   "outputs": [],
   "source": [
    "# Usar função ones para gerar uma matriz com números inteiros 1\n",
    "ones(Int64, 1, 3)"
   ]
  },
  {
   "cell_type": "code",
   "execution_count": null,
   "id": "e235d096",
   "metadata": {},
   "outputs": [],
   "source": [
    "# Usar função ones para gerar uma matriz com números complexos\n",
    "ones(Complex, 4, 4)"
   ]
  },
  {
   "cell_type": "markdown",
   "id": "79146f15",
   "metadata": {},
   "source": [
    "* Função **zeros** para criar arrays de 0. (Tipo, linha, coluna))"
   ]
  },
  {
   "cell_type": "code",
   "execution_count": null,
   "id": "e094258b",
   "metadata": {},
   "outputs": [],
   "source": [
    "# Usar função ones para gerar uma matriz com números inteiros 0\n",
    "zeros(Int64, 4, 5)"
   ]
  },
  {
   "cell_type": "code",
   "execution_count": null,
   "id": "24dda675",
   "metadata": {},
   "outputs": [],
   "source": [
    "# Usar função ones para gerar uma matriz com números complexos\n",
    "zeros(Complex, 4, 4)"
   ]
  },
  {
   "cell_type": "markdown",
   "id": "55f4b5ac",
   "metadata": {},
   "source": [
    "* Funções **trues** e **falses** gera uma Bitarray"
   ]
  },
  {
   "cell_type": "code",
   "execution_count": null,
   "id": "19d3578d",
   "metadata": {},
   "outputs": [],
   "source": [
    "# Gerar Bitarrays\n",
    "trues(4, 5)"
   ]
  },
  {
   "cell_type": "code",
   "execution_count": null,
   "id": "6473b5d8",
   "metadata": {},
   "outputs": [],
   "source": [
    "# Gerar Bitarrays\n",
    "falses(4, 5)"
   ]
  },
  {
   "cell_type": "markdown",
   "id": "7a0b4054",
   "metadata": {},
   "source": [
    "* Função **similar**"
   ]
  },
  {
   "cell_type": "code",
   "execution_count": null,
   "id": "6f3215c2",
   "metadata": {},
   "outputs": [],
   "source": [
    "# Gerar arrays\n",
    "arr=[1,2,3]\n",
    "\n",
    "# similar\n",
    "(arr, Int8, 4, 4)"
   ]
  },
  {
   "cell_type": "markdown",
   "id": "0ce86c8a",
   "metadata": {},
   "source": [
    "* Função **size** para ver as dimensões do array"
   ]
  },
  {
   "cell_type": "code",
   "execution_count": null,
   "id": "b44f6cc3",
   "metadata": {},
   "outputs": [],
   "source": [
    "# Gerar arrays\n",
    "arr2=[1 2 3;4 5 6;7 8 9]\n",
    "\n",
    "# size\n",
    "size(arr2)"
   ]
  },
  {
   "cell_type": "code",
   "execution_count": null,
   "id": "7ef52968",
   "metadata": {},
   "outputs": [],
   "source": [
    "# Gerar arrays com valores aleatórios de 0 a 1\n",
    "rand(5,5)"
   ]
  },
  {
   "cell_type": "markdown",
   "id": "795b98ae",
   "metadata": {},
   "source": [
    "### Manipulação de arrays"
   ]
  },
  {
   "cell_type": "code",
   "execution_count": null,
   "id": "eeacd2b9",
   "metadata": {},
   "outputs": [],
   "source": [
    "# Gerar array\n",
    "array_1=[1,2,3,4,5,6,7,8,9,10]\n",
    "\n",
    "# Pegar a primeira posição de um array\n",
    "array_1[1]"
   ]
  },
  {
   "cell_type": "code",
   "execution_count": null,
   "id": "9202dbd5",
   "metadata": {},
   "outputs": [],
   "source": [
    "# Pegar a última posição de um array\n",
    "array_1[end]"
   ]
  },
  {
   "cell_type": "code",
   "execution_count": null,
   "id": "f4f4b799",
   "metadata": {},
   "outputs": [],
   "source": [
    "# Pegar as 5 primeiras posições do array\n",
    "array_1[1:5]"
   ]
  },
  {
   "cell_type": "code",
   "execution_count": null,
   "id": "24a2cae5",
   "metadata": {},
   "outputs": [],
   "source": [
    "# Pegar as 3 últimas posições do array\n",
    "array_1[end-2:end]"
   ]
  },
  {
   "cell_type": "code",
   "execution_count": null,
   "id": "f230e8ab",
   "metadata": {},
   "outputs": [],
   "source": [
    "# Gerar array matriz\n",
    "array_2 = rand(5,5)"
   ]
  },
  {
   "cell_type": "code",
   "execution_count": null,
   "id": "dade4c78",
   "metadata": {},
   "outputs": [],
   "source": [
    "# Para acessar as linhas e colunas utilizamos:\n",
    "# array_2[linha_inicial:linha_final, coluna_inicial:coluna_final]\n",
    "array_2[3:5, 1:3]"
   ]
  },
  {
   "cell_type": "markdown",
   "id": "47022a40",
   "metadata": {},
   "source": [
    "### Funções para manipulação de arrays"
   ]
  },
  {
   "cell_type": "markdown",
   "id": "93aa4628",
   "metadata": {},
   "source": [
    "### Mutabilidade"
   ]
  },
  {
   "cell_type": "code",
   "execution_count": null,
   "id": "6298a6d5",
   "metadata": {},
   "outputs": [],
   "source": [
    "# Gerar array\n",
    "array_1=[1,2,3,4,5,6,7,8,9,10]"
   ]
  },
  {
   "cell_type": "code",
   "execution_count": null,
   "id": "7b1cea4a",
   "metadata": {},
   "outputs": [],
   "source": [
    "# Mudar valor do primeiro elemento do array\n",
    "array_1[1]=10\n",
    "\n",
    "# visualizar\n",
    "array_1"
   ]
  },
  {
   "cell_type": "markdown",
   "id": "3a1cc326",
   "metadata": {},
   "source": [
    "### Função push! \n",
    "serve para adicionar elemento no final do array"
   ]
  },
  {
   "cell_type": "code",
   "execution_count": null,
   "id": "e413b4e9",
   "metadata": {},
   "outputs": [],
   "source": [
    "# Gerar array\n",
    "array_1=[1,2,3,4,5,6,7,8,9,10]\n",
    "\n",
    "# Adicionar elemento no final do array\n",
    "push!(array_1, 11)"
   ]
  },
  {
   "cell_type": "markdown",
   "id": "2271761e",
   "metadata": {},
   "source": [
    "### Função pop! \n",
    "serve para deletar o útilmo elemento do array"
   ]
  },
  {
   "cell_type": "code",
   "execution_count": null,
   "id": "8c83468a",
   "metadata": {},
   "outputs": [],
   "source": [
    "# Gerar array\n",
    "array_1=[1,2,3,4,5,6,7,8,9,10]\n",
    "\n",
    "# remover útimo elemento\n",
    "pop!(array_1)\n",
    "\n",
    "# visualizar\n",
    "array_1"
   ]
  },
  {
   "cell_type": "markdown",
   "id": "b03d64f3",
   "metadata": {},
   "source": [
    "### Função deleteat! \n",
    "serve para deletar um elemento qualquer de um array"
   ]
  },
  {
   "cell_type": "code",
   "execution_count": null,
   "id": "55e62d00",
   "metadata": {},
   "outputs": [],
   "source": [
    "# Gerar array\n",
    "array_1=[1,2,3,4,5,6,7,8,9,10]\n",
    "\n",
    "# remover o segundo elemento\n",
    "deleteat!(array_1, 2)\n",
    "\n",
    "# visualizar\n",
    "array_1"
   ]
  },
  {
   "cell_type": "markdown",
   "id": "3c1ccdcc",
   "metadata": {},
   "source": [
    "### Função copy! \n",
    "serve para copiar um array"
   ]
  },
  {
   "cell_type": "code",
   "execution_count": null,
   "id": "b06654cf",
   "metadata": {},
   "outputs": [],
   "source": [
    "# Gerar array\n",
    "array_1=[1,2,3,4,5,6,7,8,9,10]\n",
    "\n",
    "# Copiar array\n",
    "array_copia = copy(array_1)\n",
    "\n",
    "# visualizar\n",
    "array_copia"
   ]
  },
  {
   "cell_type": "markdown",
   "id": "cff97b8d",
   "metadata": {},
   "source": [
    "### Operadores de ponto vetorizado"
   ]
  },
  {
   "cell_type": "code",
   "execution_count": null,
   "id": "263b1119",
   "metadata": {},
   "outputs": [],
   "source": [
    "# Elevar um array ao quadrado\n",
    "[2,4,6].^2\n",
    "\n",
    "# ou\n",
    "array=[2,4,6]\n",
    "array.^2\n",
    "\n",
    "#ou\n",
    "(^).(array, 2)"
   ]
  },
  {
   "cell_type": "code",
   "execution_count": null,
   "id": "b73d7f8c",
   "metadata": {},
   "outputs": [],
   "source": [
    "# Aplicando o seno no array\n",
    "sin.([2,4,6])"
   ]
  },
  {
   "cell_type": "markdown",
   "id": "b5810894",
   "metadata": {},
   "source": [
    "## TUPLAS\n",
    "\n",
    "Uma tupla é uma sequência de valores. Estes valores podem ser de qualquer tipo e são indexados por números inteiros; logo, neste aspecto, as tuplas são muito similares às listas. A diferença importante é que as tuplas são imutáveis e que cada elemento pode ter seu próprio tipo.\n",
    "\n",
    "Sintaticamente, uma tupla é uma lista de valores separados por vírgula:"
   ]
  },
  {
   "cell_type": "code",
   "execution_count": null,
   "id": "daedfd1c",
   "metadata": {},
   "outputs": [],
   "source": [
    "# Gerar uma tupla\n",
    "1,2,3,4,5\n",
    "\n",
    "# ou\n",
    "(1,2,3,4,5)"
   ]
  },
  {
   "cell_type": "code",
   "execution_count": null,
   "id": "9b496e45",
   "metadata": {},
   "outputs": [],
   "source": [
    "# Gerar tupla\n",
    "tupla_1 = (1,2,3,4,5)"
   ]
  },
  {
   "cell_type": "code",
   "execution_count": null,
   "id": "78cd4364",
   "metadata": {},
   "outputs": [],
   "source": [
    "# Slice em tuplas\n",
    "tupla_1[2:3]"
   ]
  },
  {
   "cell_type": "markdown",
   "id": "6ab1722f",
   "metadata": {},
   "source": [
    "### Tuplas nomeadas"
   ]
  },
  {
   "cell_type": "code",
   "execution_count": null,
   "id": "d68ae8da",
   "metadata": {},
   "outputs": [],
   "source": [
    "# Gerar uma tupla nomeada\n",
    "tupla_nomeada=(nome=\"Silvio\", idade=38, sexo='M')\n",
    "tupla_nomeada"
   ]
  },
  {
   "cell_type": "code",
   "execution_count": null,
   "id": "59e31e19",
   "metadata": {},
   "outputs": [],
   "source": [
    "# slice de tupla nomeada\n",
    "tupla_nomeada[1]\n",
    "\n",
    "# ou\n",
    "tupla_nomeada.nome"
   ]
  },
  {
   "cell_type": "markdown",
   "id": "d6c600bd",
   "metadata": {},
   "source": [
    "## CONJUNTOS\n",
    "\n",
    "O Julia fornece outro tipo embutido, chamado de conjunto (Set), que se comporta como uma coleção de chaves de dicionário mas sem valores. Adicionar elementos à um conjunto é rápido; assim como verificar que um elemento pertence à ele. Além disso, conjuntos fornecem funções e operadores para computar operações comuns de conjunto.\n",
    "\n",
    "* A grande diferença de conjuntos para tuplas e listas é que um elemento não se repete."
   ]
  },
  {
   "cell_type": "code",
   "execution_count": null,
   "id": "63823b13",
   "metadata": {},
   "outputs": [],
   "source": [
    "# Gerar conjunto\n",
    "conjunto = Set([\"elemento1\", \"elemento1\", \"elemento2\", \"elemento3\"])\n",
    "conjunto"
   ]
  },
  {
   "cell_type": "markdown",
   "id": "ffcf58e7",
   "metadata": {},
   "source": [
    "### Operações com conjuntos\n",
    "\n",
    "Semelhante a conjuntos matemáticos"
   ]
  },
  {
   "cell_type": "code",
   "execution_count": null,
   "id": "95c9949d",
   "metadata": {},
   "outputs": [],
   "source": [
    "# Gerar conjunto de números impares\n",
    "s1 = Set([1,3,5,7,9])\n",
    "\n",
    "# Gerar conjunto de números pares\n",
    "s2 = Set([2,4,6,8,10])"
   ]
  },
  {
   "cell_type": "code",
   "execution_count": null,
   "id": "bac24e0b",
   "metadata": {},
   "outputs": [],
   "source": [
    "# Fazer a união dos conjuntos\n",
    "union(s1, s2)"
   ]
  },
  {
   "cell_type": "code",
   "execution_count": null,
   "id": "9cf97019",
   "metadata": {},
   "outputs": [],
   "source": [
    "# fazer a interseção\n",
    "intersect(s1,s2)"
   ]
  },
  {
   "cell_type": "code",
   "execution_count": null,
   "id": "1007ca27",
   "metadata": {},
   "outputs": [],
   "source": [
    "# diferença do conjunto s1 que não estão em s2\n",
    "setdiff(s1,s2)"
   ]
  },
  {
   "cell_type": "code",
   "execution_count": null,
   "id": "733b996a",
   "metadata": {},
   "outputs": [],
   "source": [
    "# subconjunto (elementos contidos em outro conjunto)\n",
    "issubset([1,3],s1)"
   ]
  },
  {
   "cell_type": "markdown",
   "id": "acfde0b4",
   "metadata": {},
   "source": [
    "## DICIONÁRIOS\n",
    "\n",
    "Um dicionário é como uma lista, porém, mais geral. Em uma lista, os índices devem ser inteiros e em um dicionário, eles podem ser de (quase) qualquer tipo.\n",
    "\n",
    "Um dicionário contém uma coleção de índices, que são chamados de chaves, e uma coleção de valores. Cada chave é associada a um único valor. A associação de uma chave e um valor é chamada de par chave-valor ou, às vezes, de item.\n",
    "\n",
    "Na linguagem matemática, um dicionário representa um mapeamento das chaves para os valores, então você também pode dizer que cada chave “é mapeada” para um valor. Como um exemplo, iremos construir um dicionário que mapeia palavras em Português para palavras em Espanhol, com as chaves e os valores todos strings.\n",
    "\n",
    "A função Dict cria um novo dicionário sem items. Como Dict é um nome de uma função embutida, devemos evitar usar ele como um nome de variável."
   ]
  },
  {
   "cell_type": "code",
   "execution_count": null,
   "id": "0f41a7c4",
   "metadata": {},
   "outputs": [],
   "source": [
    "# Gerar dicionário\n",
    "Dict(\"chaveA\"=>\"valorA\", \"chaveB\"=>\"valorB\")"
   ]
  },
  {
   "cell_type": "code",
   "execution_count": null,
   "id": "ffc0de49",
   "metadata": {},
   "outputs": [],
   "source": [
    "# Gerar dicionário\n",
    "Dict(1=>2.3, 2=>5.4)"
   ]
  },
  {
   "cell_type": "code",
   "execution_count": null,
   "id": "d30af726",
   "metadata": {},
   "outputs": [],
   "source": [
    "# Gerar dicionário\n",
    "Dict1 =Dict(\"chaveA\"=>\"valorA\", \"chaveB\"=>\"valorB\")\n",
    "\n",
    "# Inserir novos elementos a um dicionário\n",
    "Dict1[\"chaveC\"]=\"valorC\"\n",
    "\n",
    "# Visualizar\n",
    "Dict1"
   ]
  },
  {
   "cell_type": "code",
   "execution_count": null,
   "id": "8b1fde1c",
   "metadata": {},
   "outputs": [],
   "source": [
    "# Acessar elemtentos de um dicionário\n",
    "Dict1[\"chaveA\"]"
   ]
  },
  {
   "cell_type": "code",
   "execution_count": null,
   "id": "4c8015f6",
   "metadata": {},
   "outputs": [],
   "source": [
    "# Júlia aceita chaves repetidas sobreescrevendo os valores\n",
    "Dict(\"A\"=>1, \"A\"=>2)"
   ]
  },
  {
   "cell_type": "markdown",
   "id": "9f578279",
   "metadata": {},
   "source": [
    "### Funções em dicionários"
   ]
  },
  {
   "cell_type": "markdown",
   "id": "dda8b73f",
   "metadata": {},
   "source": [
    "**Função length**\n",
    "\n",
    "Essa função retorna o número pares de chaves valores"
   ]
  },
  {
   "cell_type": "code",
   "execution_count": null,
   "id": "3cb0f89a",
   "metadata": {},
   "outputs": [],
   "source": [
    "# Gerar dicionário\n",
    "Dict1 =Dict(\"chaveA\"=>\"valorA\", \"chaveB\"=>\"valorB\")\n",
    "\n",
    "# length\n",
    "length(Dict1)"
   ]
  },
  {
   "cell_type": "markdown",
   "id": "c98ef9e0",
   "metadata": {},
   "source": [
    "**Função keys**\n",
    "\n",
    "Essa função retorna uma coleção com as chaves dos dicionários"
   ]
  },
  {
   "cell_type": "code",
   "execution_count": null,
   "id": "b3584c3f",
   "metadata": {},
   "outputs": [],
   "source": [
    "# Aplicando a função keys\n",
    "chaves = keys(Dict1)\n",
    "chaves"
   ]
  },
  {
   "cell_type": "markdown",
   "id": "1a796f45",
   "metadata": {},
   "source": [
    "**Função values**\n",
    "\n",
    "Essa função retorna uma coleção com os valores dos dicionários"
   ]
  },
  {
   "cell_type": "code",
   "execution_count": null,
   "id": "c3e3509c",
   "metadata": {},
   "outputs": [],
   "source": [
    "# Aplicando a função values\n",
    "valores = values(Dict1)\n",
    "valores"
   ]
  },
  {
   "cell_type": "code",
   "execution_count": null,
   "id": "16550152",
   "metadata": {},
   "outputs": [],
   "source": [
    "# Verificar se uma chave está contida em um dicionário\n",
    "\"chaveA\" in chaves"
   ]
  },
  {
   "cell_type": "code",
   "execution_count": null,
   "id": "a553ddc1",
   "metadata": {},
   "outputs": [],
   "source": [
    "# Verificar se um valor está contida em um dicionário\n",
    "\"valorA\" in valores"
   ]
  },
  {
   "cell_type": "markdown",
   "id": "d27f993a-fe81-4303-9f21-1b5954091aa3",
   "metadata": {},
   "source": [
    "## Declaração de variáveis"
   ]
  },
  {
   "cell_type": "code",
   "execution_count": null,
   "id": "677136fd",
   "metadata": {},
   "outputs": [],
   "source": [
    "# Declarar uma variável int\n",
    "var1 = 12\n",
    "println(var1)"
   ]
  },
  {
   "cell_type": "code",
   "execution_count": null,
   "id": "a3a41fd0",
   "metadata": {},
   "outputs": [],
   "source": [
    "# Declarar uma constante (constantes não podem ter seu tipo alterado)\n",
    "const var2=12"
   ]
  },
  {
   "cell_type": "code",
   "execution_count": null,
   "id": "090d8feb",
   "metadata": {},
   "outputs": [],
   "source": [
    "# Tentar redefinir constante e receberemos um erro\n",
    "var2=\"12\""
   ]
  },
  {
   "cell_type": "markdown",
   "id": "7c09c20d-50a4-49f1-8fe1-16f8911cd17b",
   "metadata": {},
   "source": [
    "### Escopo das variáveis\n",
    "\n",
    "O Julia introduz módulos para criar uma área de trabalho de variáveis separada, isto é, novos escopos globais.\n",
    "\n",
    "Um módulo inicia com a palavra-chave module e termina com end. Conflitos de nomes são evitados entre suas próprias definições de alto nível e aquelas encontradas em código de outra pessoa. import permite o controle de quais nomes de outros módulos são visíveis e export específica quais nomes são públicos, isto é, podem ser usados fora do módulo sem a necessidade de serem prefixados com o nome do módulo."
   ]
  },
  {
   "cell_type": "markdown",
   "id": "b964ee51-df11-414d-beaf-159b5caa870e",
   "metadata": {},
   "source": [
    "**Escopo Global**"
   ]
  },
  {
   "cell_type": "code",
   "execution_count": null,
   "id": "24ba867b",
   "metadata": {},
   "outputs": [],
   "source": [
    "# Gerar um módulo\n",
    "module A\n",
    "    Var_a =2\n",
    "end"
   ]
  },
  {
   "cell_type": "code",
   "execution_count": null,
   "id": "1c512a41",
   "metadata": {},
   "outputs": [],
   "source": [
    "# Importar um módulo para dentro de outro\n",
    "module B\n",
    "    import ..A\n",
    "    var_b=2\n",
    "    println(\"A variável a :$(A. Var_a) do modulo A\")\n",
    "end"
   ]
  },
  {
   "cell_type": "markdown",
   "id": "788d90f4-ace6-4314-8e47-cb15f692c987",
   "metadata": {},
   "source": [
    "**Escopo Local**"
   ]
  },
  {
   "cell_type": "code",
   "execution_count": null,
   "id": "555547ae-682b-4be5-bb65-90bc335e3a45",
   "metadata": {},
   "outputs": [],
   "source": [
    "# Gerar um loop para exemplificar\n",
    "for i=1:5\n",
    "    z=i\n",
    "    println(z)\n",
    "end"
   ]
  },
  {
   "cell_type": "code",
   "execution_count": null,
   "id": "af5955c2-40be-4238-b663-a85ddd5760bd",
   "metadata": {},
   "outputs": [],
   "source": [
    "# Tentando novamente imprimir z (receberemos um erro pois é um modulo local, só vale entro do for)\n",
    "println(z)"
   ]
  },
  {
   "cell_type": "code",
   "execution_count": null,
   "id": "6744f7c3-d425-4d56-b731-f949fb11e5a7",
   "metadata": {},
   "outputs": [],
   "source": [
    "# Podemos forçar uma variável local virar global\n",
    "for i=1:5\n",
    "    global z=i\n",
    "    println(z)\n",
    "end"
   ]
  },
  {
   "cell_type": "code",
   "execution_count": null,
   "id": "06f1bf31-50ee-4aa1-bf1c-595ba588fcae",
   "metadata": {},
   "outputs": [],
   "source": [
    "# Tentando novamente imprimir z (Agora não receberemos um erro pois ela foi forçada a ser global)\n",
    "println(z)"
   ]
  },
  {
   "cell_type": "markdown",
   "id": "6f6468ff-d507-487a-8f88-80997defc78e",
   "metadata": {},
   "source": [
    "## Operadores lógicos\n",
    "\n",
    "Existem três operadores lógicos: && (e), || (ou) e ! (não). \n",
    "\n",
    "A semântica (significado) destes operadores são similiares aos seus significados em Português. "
   ]
  },
  {
   "cell_type": "markdown",
   "id": "b1409809-986f-443b-99fc-7ce26557f2a3",
   "metadata": {},
   "source": [
    "#### Operador lógico and(&&)\n",
    "\n",
    "Utilizaremos a tabela verdade\n",
    "\n",
    "| **P**      | **Q**      | **P&&Q**   |\n",
    "| ---------- | ---------- | ---------- |\n",
    "| VERDADEIRO | VERDADEIRO | VERDADEIRO |\n",
    "| VERDADEIRO | FALSO      | FALSO      |\n",
    "| FALSO      | VERDADEIRO | FALSO      |\n",
    "| FALSO      | FALSO      | FALSO      |\n",
    "\n",
    "O perador **and** só retornará TRUE (verdadeiro) se caso as duas sentenças forem verdadeiras"
   ]
  },
  {
   "cell_type": "code",
   "execution_count": null,
   "id": "f389d64e-5abc-47e8-a7c1-f8eed92a4541",
   "metadata": {},
   "outputs": [],
   "source": [
    "# Gerar as condições\n",
    "x = 7\n",
    "p= x>5  # Verdadeiro\n",
    "q= x<15 # Verdadeiro\n",
    "\n",
    "# Aplicar o and\n",
    "println(p&&q)"
   ]
  },
  {
   "cell_type": "code",
   "execution_count": null,
   "id": "c5565519-f41f-4bdf-a8cf-a00f1ffb36a0",
   "metadata": {},
   "outputs": [],
   "source": [
    "# Gerar as condições\n",
    "x = 7\n",
    "p= x>5 # Verdadeiro\n",
    "q= x<4 # Falso\n",
    "\n",
    "# Aplicar o and\n",
    "println(p&&q)"
   ]
  },
  {
   "cell_type": "markdown",
   "id": "003a9e1f-e6b8-489b-89f1-5c5b3c4a9cf5",
   "metadata": {},
   "source": [
    "#### Operador lógico or(||)\n",
    "\n",
    "Utilizaremos a tabela verdade\n",
    "\n",
    "| **P**      | **Q**      | **P//Q**   |\n",
    "| ---------- | ---------- | ---------- |\n",
    "| VERDADEIRO | VERDADEIRO | VERDADEIRO |\n",
    "| VERDADEIRO | FALSO      | VERDADEIRO |\n",
    "| FALSO      | VERDADEIRO | VERDADEIRO |\n",
    "| FALSO      | FALSO      | FALSO      |\n",
    "\n",
    "O perador **or** retornará TRUE se apenas uma sentença for verdadeira, e só retornará falso se as duas sentenças forem falsas."
   ]
  },
  {
   "cell_type": "code",
   "execution_count": null,
   "id": "9f25e03a-589e-4bcd-ac8a-954c32b09f59",
   "metadata": {},
   "outputs": [],
   "source": [
    "# Gerar as condições\n",
    "x = 7\n",
    "p= x>5  # Verdadeiro\n",
    "q= x<15 # Verdadeiro\n",
    "\n",
    "# Aplicar o and\n",
    "println(p||q)"
   ]
  },
  {
   "cell_type": "code",
   "execution_count": null,
   "id": "1f4eb1db-7d13-439e-8ebd-70d0beb30275",
   "metadata": {},
   "outputs": [],
   "source": [
    "# Gerar as condições\n",
    "x = 7\n",
    "p= x>5 # Verdadeiro\n",
    "q= x<4 # Falso\n",
    "\n",
    "# Aplicar o and\n",
    "println(p||q)"
   ]
  },
  {
   "cell_type": "code",
   "execution_count": null,
   "id": "42cbfe8e-5ef7-495f-b3bb-3a1549b786f7",
   "metadata": {},
   "outputs": [],
   "source": [
    "# Gerar as condições\n",
    "x = 7\n",
    "p= x>8 # Falso\n",
    "q= x<15 # Verdadeiro\n",
    "\n",
    "# Aplicar o and\n",
    "println(p||q)"
   ]
  },
  {
   "cell_type": "code",
   "execution_count": null,
   "id": "46c1ef0c-8e1c-483e-a504-a658ed3929a1",
   "metadata": {},
   "outputs": [],
   "source": [
    "# Gerar as condições\n",
    "x = 7\n",
    "p= x>8 # Falso\n",
    "q= x<6 # Falso\n",
    "\n",
    "# Aplicar o and\n",
    "println(p||q)"
   ]
  },
  {
   "cell_type": "markdown",
   "id": "45d4be02-e0d5-4837-bbfc-d9af63fc6578",
   "metadata": {},
   "source": [
    "#### Operador lógico de negação !"
   ]
  },
  {
   "cell_type": "code",
   "execution_count": null,
   "id": "9f8fc662-3a50-4ad0-8b15-1b9e36ef4afc",
   "metadata": {},
   "outputs": [],
   "source": [
    "# Gerar as condições\n",
    "x = 5\n",
    "p= x>10 # Falso\n",
    "\n",
    "# Deveriamos receber o resultado false, mas a negação nos dará o inverso\n",
    "println(!p)"
   ]
  },
  {
   "cell_type": "markdown",
   "id": "b07366a2-31e8-43f6-94d0-19841a684fba",
   "metadata": {},
   "source": [
    "## Estruturas Condicionais\n",
    "\n",
    "Para escrever programas úteis, quase sempre precisamos verificar as condições e alterar o comportamento de acordo com o programa. Comandos condicionais nos fornecem essa habilidade. A forma mais simples é o comando if (da conjunção se em Inglês).\n",
    "\n",
    "Algumas vezes há mais do que duas possibilidades e precisamos de mais que dois ramos. Uma maneira de expressar um comando como esse é através de condicionais encadeadas (else, elseif)"
   ]
  },
  {
   "cell_type": "markdown",
   "id": "fb72811b-a7ce-4be7-95f3-c23548354fa6",
   "metadata": {},
   "source": [
    "### IF ELSE ELSEIF"
   ]
  },
  {
   "cell_type": "code",
   "execution_count": null,
   "id": "3201395d-0304-4360-8429-fae1a79f5258",
   "metadata": {},
   "outputs": [],
   "source": [
    "# Exemplo IF\n",
    "var1= 5\n",
    "if var1>4\n",
    "    println(\"var1 é maior que 4\")\n",
    "end"
   ]
  },
  {
   "cell_type": "code",
   "execution_count": null,
   "id": "3af082ab-f815-49d5-bfc0-53df34e92b5e",
   "metadata": {},
   "outputs": [],
   "source": [
    "# Exemplo IF-ELSE\n",
    "if var1>4\n",
    "    println(\"var1 é maior que 4\")\n",
    "else\n",
    "    println(\"var1 é menor que 4\")\n",
    "end"
   ]
  },
  {
   "cell_type": "code",
   "execution_count": null,
   "id": "a14f2a58-1f48-4f61-9523-91ebe92613ec",
   "metadata": {},
   "outputs": [],
   "source": [
    "# Exemplo ELSEIF\n",
    "var1= 5\n",
    "if var1>5\n",
    "    println(\"var1 é maior que 5\")\n",
    "elseif var1==5\n",
    "    println(\"var1 é igual a 5\")\n",
    "else \n",
    "    println(\"var1 é menor que 5\")\n",
    "end"
   ]
  },
  {
   "cell_type": "markdown",
   "id": "9fcc15da-8c6b-4264-867c-69f93711a59b",
   "metadata": {},
   "source": [
    "### Operador Ternário"
   ]
  },
  {
   "cell_type": "code",
   "execution_count": null,
   "id": "1ff52d6c-89df-4ca3-8ef6-a5f409127b2d",
   "metadata": {},
   "outputs": [],
   "source": [
    "# Exemplo\n",
    "x=10\n",
    "x%10==0 ? println(\"x é par\") : println(\"x é impar\")"
   ]
  },
  {
   "cell_type": "markdown",
   "id": "d8a2893d-6bf0-4d16-9b77-0c4c0c2899a4",
   "metadata": {},
   "source": [
    "## Estrutura de Repetição\n",
    "\n",
    "Esse capítulo é sobre iteração, que é a habilidade de executar um bloco de argumentos repetidamente. Vimos um tipo de iteração usando recursão em Recursão. Vimos também outro tipo, usando um laço for em Repetição Simples. Neste capítulo, veremos um outro tipo, que usa uma declaração while (enquanto em Português). Mas antes temos que falar um pouco mais sobre atribuição de variável."
   ]
  },
  {
   "cell_type": "markdown",
   "id": "ff5e13a1-d09a-4d3a-b418-84f3b8949c61",
   "metadata": {},
   "source": [
    "### FOR"
   ]
  },
  {
   "cell_type": "code",
   "execution_count": null,
   "id": "f210a3ae-ffdb-49ff-bcf0-59017cef109a",
   "metadata": {},
   "outputs": [],
   "source": [
    "# Exemplo de For\n",
    "for i=0:3\n",
    "    println(\"O valor da variável i é: $(i)\")\n",
    "end"
   ]
  },
  {
   "cell_type": "code",
   "execution_count": null,
   "id": "7fab5d12-11de-4914-9543-f435f080dab3",
   "metadata": {},
   "outputs": [],
   "source": [
    "# Exemplo de For aninhado\n",
    "for i=0:2\n",
    "    for j=3:5\n",
    "        println(\"O valor da variável i é: $(i) e 0 valor da variável j é: $(j)\")\n",
    "    end\n",
    "end"
   ]
  },
  {
   "cell_type": "code",
   "execution_count": null,
   "id": "91ab434a-4b1e-4561-90ba-ac1d67680c3e",
   "metadata": {},
   "outputs": [],
   "source": [
    "# Exemplo de For com if\n",
    "for i=1:5\n",
    "    if i%2==0\n",
    "        println(\"$i é par\")\n",
    "    else\n",
    "         println(\"$i é impar\")\n",
    "    end\n",
    "end"
   ]
  },
  {
   "cell_type": "code",
   "execution_count": null,
   "id": "19c41587-1a2f-47e0-bf63-5e77fdf8ef81",
   "metadata": {},
   "outputs": [],
   "source": [
    "# Aplicando o passo ao for\n",
    "for i=1:2:10 # pular de 2 em 2 até 10\n",
    "    println(i)\n",
    "end"
   ]
  },
  {
   "cell_type": "code",
   "execution_count": null,
   "id": "ead49127-21a5-4363-8b88-8eb2ca4ff3e4",
   "metadata": {},
   "outputs": [],
   "source": [
    "# Iteração com listas e Arrays\n",
    "lista=[\"Arroz\", \"Feijão\", \"Carne\"] \n",
    "\n",
    "# Aplicando o for na lista\n",
    "for i in eachindex(lista)\n",
    "    println(lista[i])\n",
    "end"
   ]
  },
  {
   "cell_type": "code",
   "execution_count": null,
   "id": "d8c4d3ab-a3d0-4cd4-94e3-7d918632f5af",
   "metadata": {},
   "outputs": [],
   "source": [
    "# Iteração com Dicionário\n",
    "dict= Dict(\"chave_A\" => \"valor_A\", \"chave_B\" => \"valor_B\", \"chave_C\" => \"valor_C\")\n",
    "chave = keys(dict)\n",
    "\n",
    "# Aplicando o for\n",
    "for chave in keys(dict)\n",
    "    println(dict[chave])\n",
    "end"
   ]
  },
  {
   "cell_type": "markdown",
   "id": "3917afcb-c28c-4a1d-86d0-4b10c75e176a",
   "metadata": {},
   "source": [
    "### WHILE"
   ]
  },
  {
   "cell_type": "code",
   "execution_count": null,
   "id": "8176ded9-c713-45a2-b130-71d19fccad25",
   "metadata": {},
   "outputs": [],
   "source": [
    "# Exemplo while\n",
    "aux=1\n",
    "while aux<=3\n",
    "    println(\"O valor da variável aux: $aux\")\n",
    "    global aux+=1\n",
    "end"
   ]
  },
  {
   "cell_type": "code",
   "execution_count": null,
   "id": "6d3c971c-270b-4025-8278-9df34e08c4a4",
   "metadata": {},
   "outputs": [],
   "source": [
    "# Exemplo de while com if\n",
    "num=1\n",
    "while num<=6\n",
    "    if num%2==0\n",
    "        println(\"$num é par\")\n",
    "    else\n",
    "         println(\"$num é impar\")\n",
    "    end\n",
    "    global num+=1\n",
    "end"
   ]
  },
  {
   "cell_type": "markdown",
   "id": "48fae02e-c0b8-4b23-87ce-9985d7e39b98",
   "metadata": {},
   "source": [
    "### BREAK"
   ]
  },
  {
   "cell_type": "code",
   "execution_count": null,
   "id": "cacf6373-f35d-4db2-b8cb-9b99fab22888",
   "metadata": {},
   "outputs": [],
   "source": [
    "# Exemplo com break\n",
    "for i=1:10\n",
    "    println(\"valor de i: $i\")\n",
    "    break\n",
    "end"
   ]
  },
  {
   "cell_type": "markdown",
   "id": "c8db5389-473f-4fe6-bfeb-522fd4508cca",
   "metadata": {},
   "source": [
    "## Funções\n",
    "\n",
    "No contexto da programação, uma função é uma sequência nomeada de comandos que executa uma tarefa. Ao definir uma função, você especifica o nome e a sequência de comandos. Mais tarde, você pode \"chamar\" a função pelo nome dado.\n",
    "\n",
    "### Chamadas de funções"
   ]
  },
  {
   "cell_type": "code",
   "execution_count": null,
   "id": "5c7c77f2-138a-45f9-9d4f-6ce6ad1e7c40",
   "metadata": {},
   "outputs": [],
   "source": [
    "# Função Println\n",
    "println(\"Olá, Mundo!\")"
   ]
  },
  {
   "cell_type": "code",
   "execution_count": null,
   "id": "9f6390ea-4d53-43d7-8183-27f7d2a29adb",
   "metadata": {},
   "outputs": [],
   "source": [
    "# A função parse recebe uma string e a converte em qualquer tipo de número se puder, ou dá erro caso contrário:\n",
    "parse(Int64, \"32\")"
   ]
  },
  {
   "cell_type": "code",
   "execution_count": null,
   "id": "54acd1dc-2785-4bf1-9e7b-ccb3bb51f164",
   "metadata": {},
   "outputs": [],
   "source": [
    "# A função trunc pode converter valores de ponto flutuante em valores inteiros, mas não os arredonda; o comando trunca a parte fracionária:\n",
    "trunc(Int64, 3.99999)"
   ]
  },
  {
   "cell_type": "code",
   "execution_count": null,
   "id": "0ef17df2-d66b-49d8-aebf-c378730f8eb6",
   "metadata": {},
   "outputs": [],
   "source": [
    "# A função float converte números inteiros em números de ponto flutuante:\n",
    "float(32)"
   ]
  },
  {
   "cell_type": "code",
   "execution_count": null,
   "id": "23065cad-4d58-439e-b3f6-7a7cdd704062",
   "metadata": {},
   "outputs": [],
   "source": [
    "# A função  string converte o seu argumento em uma string:\n",
    "string(32)"
   ]
  },
  {
   "cell_type": "markdown",
   "id": "d0146656-11e1-467b-a61e-cebf16dda00c",
   "metadata": {},
   "source": [
    "### Funções matemáticas"
   ]
  },
  {
   "cell_type": "code",
   "execution_count": null,
   "id": "ef004768-2130-4494-a08c-48a72f30dfe6",
   "metadata": {},
   "outputs": [],
   "source": [
    "# A função log, que calcula logaritmos naturais\n",
    "log(5)"
   ]
  },
  {
   "cell_type": "code",
   "execution_count": null,
   "id": "07b75ee6-51c7-457b-b8bd-11b626af9a02",
   "metadata": {},
   "outputs": [],
   "source": [
    "# Função seno\n",
    "sin(1)\n",
    "\n",
    "# Cosseno\n",
    "cos(1)"
   ]
  },
  {
   "cell_type": "markdown",
   "id": "1cf76ad6-a4e7-4c46-a106-77cb1fd85c8f",
   "metadata": {},
   "source": [
    "### Adicionando novas funções\n",
    "\n",
    "Embora tenhamos usado só as funções que vêm com Julia até agora, também é possível adicionar novas funções. A definição da função especifica o nome de uma nova função e a sequência de comandos que são executados quando a função é chamada."
   ]
  },
  {
   "cell_type": "code",
   "execution_count": null,
   "id": "203241e7-1220-48b1-b1ca-536144b7b092",
   "metadata": {},
   "outputs": [],
   "source": [
    "# Exemplo\n",
    "function olajulia(nome)\n",
    "    println(\"Olá $nome\")\n",
    "end"
   ]
  },
  {
   "cell_type": "code",
   "execution_count": null,
   "id": "fa507517-b237-4eb1-809d-9a7ea5a654e6",
   "metadata": {},
   "outputs": [],
   "source": [
    "# Aplicando a função\n",
    "olajulia(\"silvio\")"
   ]
  },
  {
   "cell_type": "markdown",
   "id": "07c5c65d-516f-4c0f-b439-8c57f8a763c7",
   "metadata": {},
   "source": [
    "### Parâmetros e argumentos\n",
    "\n",
    "Algumas das funções que vimos exigem argumentos. Por exemplo, quando você chama sin, um número é passado como argumento. Algumas funções usam mais de um argumento: parse necessita de dois, um tipo de número e uma string."
   ]
  },
  {
   "cell_type": "code",
   "execution_count": null,
   "id": "de72696b-cf29-4c3e-8a39-f8f63bbc23fe",
   "metadata": {},
   "outputs": [],
   "source": [
    "# Gerando uma função\n",
    "function olajulia(nome)  # nome é um parâmetro\n",
    "    println(\"Olá $nome\") # nome é um parâmetro\n",
    "end\n",
    "\n",
    "# Aplicando a função\n",
    "olajulia(\"silvio\") # silvio é um argumento, que será atribuido a um parâmetro"
   ]
  },
  {
   "cell_type": "markdown",
   "id": "47a03061-a39d-48f3-9335-4e5d10883a92",
   "metadata": {},
   "source": [
    "### Funções frutíferas e funções nulas\n",
    "\n",
    "Algumas das funções que usamos, como as funções matemáticas que retornam resultados; por falta de um nome melhor, chamaremos de funções frutíferas. "
   ]
  },
  {
   "cell_type": "code",
   "execution_count": null,
   "id": "f0eb877f-c944-4a1a-8cac-433068c99183",
   "metadata": {},
   "outputs": [],
   "source": [
    "# Exemplo função frutífera\n",
    "result=sin(1)\n",
    "println(result)"
   ]
  },
  {
   "cell_type": "code",
   "execution_count": null,
   "id": "6e8a68a8-bffd-435d-8e75-aa48c498c01a",
   "metadata": {},
   "outputs": [],
   "source": [
    "# Exemplo função nula\n",
    "function olamundo(nome)\n",
    "    println(\"Olá mundo! Eu sou o(a): $nome\")\n",
    "end\n",
    "\n",
    "# Printar a funçã e ela não retornará nada\n",
    "result = olamundo(\"Silvio\")\n",
    "println(result)"
   ]
  },
  {
   "cell_type": "markdown",
   "id": "1775eb72-7f19-4519-8bea-04c4155fb206",
   "metadata": {},
   "source": [
    "### Funções anónimas\n"
   ]
  },
  {
   "cell_type": "code",
   "execution_count": null,
   "id": "47f0dcee-f5fa-4d2e-aff0-aa6677d335dd",
   "metadata": {},
   "outputs": [],
   "source": [
    "# Exemplo\n",
    "f = (a,b) -> a+b\n",
    "\n",
    "# Aplicando a função\n",
    "println(f(1,2))"
   ]
  },
  {
   "cell_type": "markdown",
   "id": "0cd06abe-16f8-44c6-b0bd-e893d8a5fd54",
   "metadata": {},
   "source": [
    "### Assinatura de Tipos"
   ]
  },
  {
   "cell_type": "code",
   "execution_count": null,
   "id": "743ce69d-cb74-4628-8ae1-ff381e39be03",
   "metadata": {},
   "outputs": [],
   "source": [
    "# Exemplo\n",
    "function soma(a::Int64, b::Int64)\n",
    "    return a+b\n",
    "end"
   ]
  },
  {
   "cell_type": "code",
   "execution_count": null,
   "id": "677dca11-478b-4613-bf68-2900bdba391d",
   "metadata": {},
   "outputs": [],
   "source": [
    "# Aplicando a função um int64\n",
    "println(soma(1, 2))"
   ]
  },
  {
   "cell_type": "code",
   "execution_count": null,
   "id": "e5dfe72b-0dc9-43cc-b8f6-001a2d3847a1",
   "metadata": {},
   "outputs": [],
   "source": [
    "# Aplicando a função um int32 (receberemos um erro)\n",
    "println(soma(Int32(1), Int32(2)))"
   ]
  },
  {
   "cell_type": "markdown",
   "id": "2e324e93-fea5-4717-977d-4ff5f942c1a1",
   "metadata": {},
   "source": [
    "### Argumentos opcionais e de palavra chave\n"
   ]
  },
  {
   "cell_type": "code",
   "execution_count": null,
   "id": "a6d3bcd2-3f5c-4667-858a-557d231d252a",
   "metadata": {},
   "outputs": [],
   "source": [
    "# Exemplo\n",
    "function soma(a, b)\n",
    "    return a+b\n",
    "end"
   ]
  },
  {
   "cell_type": "code",
   "execution_count": null,
   "id": "1e12427b-a1a9-4564-bcd2-87a5ddf319d3",
   "metadata": {},
   "outputs": [],
   "source": [
    "# Aplicando a função sem dizer os dois parâmetros (receberemos um erro)\n",
    "println(soma(1))"
   ]
  },
  {
   "cell_type": "code",
   "execution_count": null,
   "id": "c221e49c-c7da-4214-9245-56dbab380781",
   "metadata": {},
   "outputs": [],
   "source": [
    "# Para impedir de receber erros podemos atribuir um valor default na função para caso falta parâmetros\n",
    "function soma(a=0, b=0)\n",
    "    return a+b\n",
    "end"
   ]
  },
  {
   "cell_type": "code",
   "execution_count": null,
   "id": "74c4d0ff-9230-4edf-9c87-ef4f848da54e",
   "metadata": {},
   "outputs": [],
   "source": [
    "# Aplicando a função sem dizer os dois parâmetros\n",
    "println(soma(1))"
   ]
  },
  {
   "cell_type": "code",
   "execution_count": null,
   "id": "e991e19f-fd04-4acb-982a-f969896a8c38",
   "metadata": {},
   "outputs": [],
   "source": [
    "### Passando número de parâmetros variáveis para uma função (é utilizado quando não sabemos quantos parâmetros serão passados)\n",
    "function soma(args...)\n",
    "    soma=0\n",
    "    for i in args\n",
    "        soma+= args[i] # soma = soma + args[i]\n",
    "    end\n",
    "    return soma\n",
    "end\n",
    "\n",
    "println(soma(1,2,3,4,5))"
   ]
  },
  {
   "cell_type": "code",
   "execution_count": null,
   "id": "1134ef65-c860-42e3-af9d-bbcf04d32906",
   "metadata": {},
   "outputs": [],
   "source": [
    "# Funções genéricas de despacho múltiplo (Unir varias funções em uma)\n",
    "function soma(a::Int64, b::Int64)\n",
    "    return a+b\n",
    "end\n",
    "\n",
    "function soma(a::String, b::String)\n",
    "    return a+b\n",
    "end\n",
    "\n",
    "function soma(a::Rational, b::Rational)\n",
    "    return a+b\n",
    "end\n",
    "\n",
    "# Testando\n",
    "soma(1//2, 4//5)"
   ]
  },
  {
   "cell_type": "markdown",
   "id": "a772767a-12b6-4be5-88cc-e1d6dfc0e308",
   "metadata": {},
   "source": [
    "## MAP, REDUCE, FILTER\n",
    "\n",
    "Duas das funções de ordem superior mais fundamentais incluídas na biblioteca padrão são mape filter. Essas funções são genéricas e podem operar em qualquer iterável . Em particular, eles são adequados para cálculos em arrays ."
   ]
  },
  {
   "cell_type": "markdown",
   "id": "f9ead209-71fe-475c-9125-4bc2dc1d4b41",
   "metadata": {},
   "source": [
    "### Função Map"
   ]
  },
  {
   "cell_type": "code",
   "execution_count": null,
   "id": "a2a70e29-ff09-491c-be13-80283b2a894b",
   "metadata": {},
   "outputs": [],
   "source": [
    "# Exemplo 1\n",
    "println(map(x->x^2,[1,2,3,4]))"
   ]
  },
  {
   "cell_type": "code",
   "execution_count": null,
   "id": "0a481b54-eb63-413a-b73e-8bdaaa505022",
   "metadata": {},
   "outputs": [],
   "source": [
    "# Exemplo 2\n",
    "lista_1 = [5,6,7,8,9,10]\n",
    "println(map(x->x^3, lista_1))"
   ]
  },
  {
   "cell_type": "code",
   "execution_count": null,
   "id": "f8d52b24-17b7-47dd-8528-b92c9301558e",
   "metadata": {},
   "outputs": [],
   "source": [
    "# Exemplo 3\n",
    "lista_2 = [5,6,7,8,9,10]\n",
    "function quadrado(numero)\n",
    "    return numero^2\n",
    "end\n",
    "\n",
    "println(map(quadrado,lista_2))"
   ]
  },
  {
   "cell_type": "code",
   "execution_count": null,
   "id": "b6b88c28-64de-4dd6-9e44-930a4ce411aa",
   "metadata": {},
   "outputs": [],
   "source": [
    "# Exemplo 4\n",
    "x=[1,2,3,4]\n",
    "y=[5,6,7,8]\n",
    "\n",
    "println(map((x,y)->x+y, x,y))"
   ]
  },
  {
   "cell_type": "markdown",
   "id": "5aae3ebf-af24-49a5-9dbf-a54756bb4eba",
   "metadata": {},
   "source": [
    "### Função Reduce"
   ]
  },
  {
   "cell_type": "code",
   "execution_count": null,
   "id": "79ec90be",
   "metadata": {},
   "outputs": [],
   "source": [
    "# Exemplo 1 (A função pegará os dois primeiros elementos e irá somar, pegar o resultado e somar com o terceiro elemento)\n",
    "println(reduce(+,[1,2,3]))"
   ]
  },
  {
   "cell_type": "markdown",
   "id": "ba86ea7b-dfed-4ea0-b08a-aa27c2e3eac5",
   "metadata": {},
   "source": [
    "#### foldl e foldr"
   ]
  },
  {
   "cell_type": "code",
   "execution_count": null,
   "id": "5a8e8797-6fbd-4b13-b7ca-45354288fab9",
   "metadata": {},
   "outputs": [],
   "source": [
    "# Exemplo foldl (da esquerda para direita)\n",
    "println(foldl(-,[1,2,3]))"
   ]
  },
  {
   "cell_type": "code",
   "execution_count": null,
   "id": "1b64175c-f578-458b-bfb5-4e121177e914",
   "metadata": {},
   "outputs": [],
   "source": [
    "# Exemplo foldr (da direita para esquerda)\n",
    "println(foldr(-,[1,2,3]))"
   ]
  },
  {
   "cell_type": "markdown",
   "id": "eab09b4d-432a-403f-b0e4-6ee59f49958e",
   "metadata": {},
   "source": [
    "### Função Filter"
   ]
  },
  {
   "cell_type": "code",
   "execution_count": null,
   "id": "97751adc-edba-4b4a-a87e-eaaca26cfeb8",
   "metadata": {},
   "outputs": [],
   "source": [
    "# Exemplo 1\n",
    "println(filter(x->iseven(x),[1,2,3,4])) # Filtrar os pares"
   ]
  },
  {
   "cell_type": "code",
   "execution_count": null,
   "id": "a717fc4c-a7ce-418f-89de-66a755d4d8e5",
   "metadata": {},
   "outputs": [],
   "source": [
    "# Exemplo 2\n",
    "println(filter(x->isodd(x),[1,2,3,4])) # Filtrar os impares"
   ]
  },
  {
   "cell_type": "code",
   "execution_count": null,
   "id": "09aea9a4-6a2d-4a82-a1c6-6c63443cd250",
   "metadata": {},
   "outputs": [],
   "source": [
    "# Exemplo 4\n",
    "Lista_1=[1,2,3,4]\n",
    "println(filter(x->iseven(x),Lista_1)) # Filtrar os pares"
   ]
  },
  {
   "cell_type": "code",
   "execution_count": null,
   "id": "a1402190-b507-4101-b3e2-537bbb226472",
   "metadata": {},
   "outputs": [],
   "source": [
    "# Exemplo 5\n",
    "Lista_1=[1,2,3,4]\n",
    "println(filter(x->isodd(x),Lista_1)) # Filtrar os impares"
   ]
  },
  {
   "cell_type": "markdown",
   "id": "5b93c493-730c-49b3-a85a-91f1a905c9db",
   "metadata": {},
   "source": [
    "### Função Map Reduce"
   ]
  },
  {
   "cell_type": "code",
   "execution_count": null,
   "id": "a4576f20-7be0-4457-a358-fb049c3eafee",
   "metadata": {},
   "outputs": [],
   "source": [
    "# Exemplo 1\n",
    "Lista_1=[1,9,25]\n",
    "println(mapreduce(x->sqrt(x),+,Lista_1))"
   ]
  },
  {
   "cell_type": "markdown",
   "id": "4737d90e-b50a-4440-8edb-4b3d51c37a0a",
   "metadata": {},
   "source": [
    "## Generators e Comprehensions"
   ]
  },
  {
   "cell_type": "code",
   "execution_count": null,
   "id": "9e9dce40-1d34-499c-a885-a5f364ce2ec0",
   "metadata": {},
   "outputs": [],
   "source": [
    "# Exemplo 1 Generators\n",
    "var_1=collect(x for x in 1:100 if x%2==0 && x%3==0)\n",
    "println(var_1)"
   ]
  },
  {
   "cell_type": "code",
   "execution_count": null,
   "id": "076eb236-0a9f-4cab-8564-676eb0d4f1a1",
   "metadata": {},
   "outputs": [],
   "source": [
    "# Exemplo 2 Generators\n",
    "Lista=[1,2,3,4,5,6]\n",
    "var_2=collect(x for x in Lista if x%2==0 && x%3==0)\n",
    "println(var_2)"
   ]
  },
  {
   "cell_type": "code",
   "execution_count": null,
   "id": "85e88ca9-4c93-4d14-8744-87dddee71c04",
   "metadata": {},
   "outputs": [],
   "source": [
    "# Exemplo 1 Comprehensions\n",
    "array=[1,2,3,4]\n",
    "println([x^2 for x in 1:6])"
   ]
  },
  {
   "cell_type": "code",
   "execution_count": null,
   "id": "6b255a97-be1e-4ffc-95a0-b5d2fcf6a4c4",
   "metadata": {},
   "outputs": [],
   "source": [
    "# Exemplo 2 Comprehensions\n",
    "x=[1,2,3,4]\n",
    "y=[10,11,12,13]\n",
    "println([x+y for x in x,y in y])"
   ]
  },
  {
   "cell_type": "code",
   "execution_count": null,
   "id": "d50ae57f-a3eb-497e-89b3-a8d98cba108a",
   "metadata": {},
   "outputs": [],
   "source": [
    "# Exemplo 3 Comprehensions\n",
    "df = [x*y for x in 1:10, y in 1:10]"
   ]
  },
  {
   "cell_type": "markdown",
   "id": "09852f6d-13b4-415c-9835-e67ed8530236",
   "metadata": {},
   "source": [
    "## Tratamento de Exceções"
   ]
  },
  {
   "cell_type": "code",
   "execution_count": null,
   "id": "48da22fc-bafe-4d39-9fd3-ca995c0b26ee",
   "metadata": {},
   "outputs": [],
   "source": [
    "# No Julia podemos listar todas as exceções, aqui no jupyter ele não lista\n",
    "Exception"
   ]
  },
  {
   "cell_type": "markdown",
   "id": "c267130b-dc72-4b16-a12c-1dafde082f18",
   "metadata": {},
   "source": [
    "### Função Throw()"
   ]
  },
  {
   "cell_type": "code",
   "execution_count": null,
   "id": "840146e9-8f16-40bf-9eb3-f8ee07a89c33",
   "metadata": {},
   "outputs": [],
   "source": [
    "# Exemplo 1 (receberemos o erro que programamos)\n",
    "function exponencial(numero)\n",
    "    if numero>0\n",
    "        return exp(numero)\n",
    "    else\n",
    "        thow(DomainError())\n",
    "    end\n",
    "end\n",
    "\n",
    "# Aplicando\n",
    "println(exponencial(-1))"
   ]
  },
  {
   "cell_type": "code",
   "execution_count": null,
   "id": "6b299be4-1051-47f4-911a-bb2f29558497",
   "metadata": {},
   "outputs": [],
   "source": [
    "# Exemplo 2 (receberemos o erro que programamos)\n",
    "z= x-> typeof(x)== Complex{Int64} ? cos(x) : error(\"somente números complexos\")\n",
    "\n",
    "# Aplicando\n",
    "println(z(2))"
   ]
  },
  {
   "cell_type": "markdown",
   "id": "7cb51a20-c596-428d-aa07-fd743e790f54",
   "metadata": {},
   "source": [
    "### Função try catch"
   ]
  },
  {
   "cell_type": "code",
   "execution_count": null,
   "id": "467a7e6a-9806-4870-b634-40bd38b0b245",
   "metadata": {},
   "outputs": [],
   "source": [
    "# Exemplo 1 (Receberemos o erro programado, porém de uma forma mais discreta)\n",
    "function raizquadrada(numero)\n",
    "    try\n",
    "        sqrt(numero)\n",
    "    catch err\n",
    "        typeof(err)\n",
    "    end\n",
    "end\n",
    "\n",
    "# Aplicar\n",
    "println(raizquadrada(-1))"
   ]
  },
  {
   "cell_type": "code",
   "execution_count": null,
   "id": "13c58af6-c9b6-4dbd-a3f6-70ca1df1bcfc",
   "metadata": {},
   "outputs": [],
   "source": [
    "# Exemplo 2 (Resolvendo o problema utilizando número complexo)\n",
    "function raizquadrada(numero)\n",
    "    try\n",
    "        sqrt(numero)\n",
    "    catch err\n",
    "        if isa(err, DomainError)\n",
    "            sqrt(complex(numero))\n",
    "        end\n",
    "    end\n",
    "end\n",
    "\n",
    "# Aplicar\n",
    "println(raizquadrada(-1))"
   ]
  },
  {
   "cell_type": "markdown",
   "id": "05c6c3f9-c635-441d-a0ef-c44e5f61ac57",
   "metadata": {},
   "source": [
    "## Input e Output"
   ]
  },
  {
   "cell_type": "markdown",
   "id": "29ecb82a-757a-4b13-8f94-dc9ad00aa9b1",
   "metadata": {},
   "source": [
    "### Função readline()"
   ]
  },
  {
   "cell_type": "code",
   "execution_count": null,
   "id": "846030b2-abe9-447d-a01f-7445fa49afa7",
   "metadata": {},
   "outputs": [],
   "source": [
    "# Exemplo 1\n",
    "readline()"
   ]
  },
  {
   "cell_type": "code",
   "execution_count": null,
   "id": "13c32fac-25a1-4663-a0e2-d575e47e7894",
   "metadata": {},
   "outputs": [],
   "source": [
    "# Exemplo 2 (tudo digitado dentro do readline será string)\n",
    "typeof(readline())"
   ]
  },
  {
   "cell_type": "code",
   "execution_count": null,
   "id": "30df0650-85b4-4796-9b17-aa5ae47e0033",
   "metadata": {},
   "outputs": [],
   "source": [
    "# Exemplo 3 (tudo digitado dentro do readline e convertendo para numérico)\n",
    "leitor=parse(Int,readline())\n",
    "typeof(leitor)"
   ]
  },
  {
   "cell_type": "markdown",
   "id": "330f9547-2176-4b75-aa65-414ce8ed6e21",
   "metadata": {},
   "source": [
    "### Função Write()"
   ]
  },
  {
   "cell_type": "code",
   "execution_count": null,
   "id": "bcb5628f-92b0-4566-91fc-ed3d6f646248",
   "metadata": {},
   "outputs": [],
   "source": [
    "# Exemplo 1 \n",
    "write(stdout,\"Exemplo 1\")"
   ]
  },
  {
   "cell_type": "markdown",
   "id": "66e7cdde-c841-44a1-8773-bed4c37623b1",
   "metadata": {},
   "source": [
    "## Lendo e Escrevendo arquivos\n",
    "   \n",
    "Um arquivo de texto é uma sequência de caracteres armazenado em um meio permanente como um disco rígido ou memória flash.\n"
   ]
  },
  {
   "cell_type": "code",
   "execution_count": null,
   "id": "72dac187-ee98-4bfe-8a18-6d5e9dabcf34",
   "metadata": {},
   "outputs": [],
   "source": [
    "# Exemplo 1 (Para escrever em um arquivo, você tem que abri-lo com modo \"w\" como segundo parâmetro:)\n",
    "open(\"teste.txt\",\"w\") do file\n",
    "    write(file, \"Arquivo\")\n",
    "    close(file)\n",
    "end"
   ]
  },
  {
   "cell_type": "markdown",
   "id": "64c66f73-310a-4b7b-acda-6e2a79b628ed",
   "metadata": {},
   "source": [
    "## Pacotes e bibliotecas"
   ]
  },
  {
   "cell_type": "code",
   "execution_count": null,
   "id": "2a6fc185-1083-48a4-9fef-d0c1a155618d",
   "metadata": {},
   "outputs": [],
   "source": [
    "# Instalando pacote Gadfly para fazer gráficos\n",
    "# using Pkg\n",
    "# Pkg.add(\"Gadfly\")"
   ]
  },
  {
   "cell_type": "code",
   "execution_count": null,
   "id": "5c094753-52fa-4b5d-9ffb-1289be64a65f",
   "metadata": {},
   "outputs": [],
   "source": [
    "# Ver o status do pacote\n",
    "Pkg.status()"
   ]
  },
  {
   "cell_type": "code",
   "execution_count": null,
   "id": "209ebbc4-f8b9-4592-a88e-16759110c398",
   "metadata": {},
   "outputs": [],
   "source": [
    "# Desinstalar pacote\n",
    "# Pkg.rm(\"Gadfly\")"
   ]
  },
  {
   "cell_type": "code",
   "execution_count": null,
   "id": "842627e5-1817-4e5c-b000-de7b5262b4a9",
   "metadata": {},
   "outputs": [],
   "source": [
    "# Fazer update de pacote \n",
    "#Pkg.update(\"Gadfly\")"
   ]
  },
  {
   "cell_type": "markdown",
   "id": "0eb160b6-f13b-4f31-8594-9acd22baedc6",
   "metadata": {},
   "source": [
    "## Gráficos\n",
    "\n",
    "Gerar gráficos com o pacote Gadfly\n",
    "\n",
    "* Mais informações: http://gadflyjl.org/stable/"
   ]
  },
  {
   "cell_type": "code",
   "execution_count": null,
   "id": "454883c0-5f3d-47d3-ac51-3a56c6d22e0c",
   "metadata": {},
   "outputs": [],
   "source": [
    "# Carregar pacote dos gráficos\n",
    "using Gadfly"
   ]
  },
  {
   "cell_type": "code",
   "execution_count": null,
   "id": "9cf489df-5ecd-41db-b48a-f88f2d537d85",
   "metadata": {},
   "outputs": [],
   "source": [
    "# Exemplo 1 Gerar gráfico (Demora pois é compilado)\n",
    "p1=plot([sin,cos],0,2pi)"
   ]
  },
  {
   "cell_type": "code",
   "execution_count": null,
   "id": "e81c2415-df73-4d46-9a77-1bb08c596602",
   "metadata": {},
   "outputs": [],
   "source": [
    "# Exemplo 1 Gerar gráfico (Demora pois é compilado)\n",
    "Gadfly.with_theme(:dark) do\n",
    "    p2=plot([sin,cos],0,2pi)   \n",
    "end"
   ]
  },
  {
   "cell_type": "markdown",
   "id": "adb86a65-8c22-4ab2-abed-02bb935925e2",
   "metadata": {},
   "source": [
    "## Datasets\n",
    "\n",
    "Pacote com varios datasets para testar\n",
    "\n",
    "* Ver mais: https://github.com/JuliaStats/RDatasets.jl"
   ]
  },
  {
   "cell_type": "code",
   "execution_count": null,
   "id": "38b838bc-850d-4f93-b729-7ef497a1e445",
   "metadata": {},
   "outputs": [],
   "source": [
    "# Instalando pacote RDatasets para fazer gráficos\n",
    "using Pkg\n",
    "#Pkg.add(\"RDatasets\")"
   ]
  },
  {
   "cell_type": "code",
   "execution_count": null,
   "id": "6b1dc685-0103-4b54-ba4a-a6ea9209cb66",
   "metadata": {},
   "outputs": [],
   "source": [
    "# Carregar pacotes\n",
    "using RDatasets"
   ]
  },
  {
   "cell_type": "markdown",
   "id": "422a3477",
   "metadata": {},
   "source": [
    "# Referências\n",
    "\n",
    "* Página oficial https://julialang.org/\n",
    "\n",
    "* Documentação Julia https://docs.julialang.org/en/v1/\n",
    "\n",
    "* wikibooks https://en.wikibooks.org/wiki/Introducing_Julia/Arrays_and_tuples#Arrays\n",
    "\n",
    "* Material em Português https://juliaintro.github.io/JuliaIntroBR.jl/ \n",
    "\n",
    "* Material em inglês https://riptutorial.com/julia-lang/\n",
    "\n",
    "* Curso de programação em Julia UDEMY https://www.udemy.com/course/curso-de-programacao-em-julia/\n",
    "\n",
    "* Adicionar Julia no notebook anaconda https://datatofish.com/add-julia-to-jupyter/\n",
    "\n",
    "* https://datatofish.com/add-julia-to-jupyter/\n"
   ]
  }
 ],
 "metadata": {
  "kernelspec": {
   "display_name": "Julia 1.6.4",
   "language": "julia",
   "name": "julia-1.6"
  },
  "language_info": {
   "file_extension": ".jl",
   "mimetype": "application/julia",
   "name": "julia",
   "version": "1.6.4"
  },
  "nbTranslate": {
   "displayLangs": [
    "*"
   ],
   "hotkey": "alt-t",
   "langInMainMenu": true,
   "sourceLang": "en",
   "targetLang": "fr",
   "useGoogleTranslate": true
  },
  "toc": {
   "base_numbering": 1,
   "nav_menu": {},
   "number_sections": true,
   "sideBar": true,
   "skip_h1_title": false,
   "title_cell": "Table of Contents",
   "title_sidebar": "Contents",
   "toc_cell": false,
   "toc_position": {
    "height": "calc(100% - 180px)",
    "left": "10px",
    "top": "150px",
    "width": "459.091px"
   },
   "toc_section_display": true,
   "toc_window_display": true
  },
  "varInspector": {
   "cols": {
    "lenName": 16,
    "lenType": 16,
    "lenVar": 40
   },
   "kernels_config": {
    "python": {
     "delete_cmd_postfix": "",
     "delete_cmd_prefix": "del ",
     "library": "var_list.py",
     "varRefreshCmd": "print(var_dic_list())"
    },
    "r": {
     "delete_cmd_postfix": ") ",
     "delete_cmd_prefix": "rm(",
     "library": "var_list.r",
     "varRefreshCmd": "cat(var_dic_list()) "
    }
   },
   "oldHeight": 122.72736400000001,
   "position": {
    "height": "40px",
    "left": "1475.45px",
    "right": "20px",
    "top": "120px",
    "width": "250px"
   },
   "types_to_exclude": [
    "module",
    "function",
    "builtin_function_or_method",
    "instance",
    "_Feature"
   ],
   "varInspector_section_display": "none",
   "window_display": false
  }
 },
 "nbformat": 4,
 "nbformat_minor": 5
}
