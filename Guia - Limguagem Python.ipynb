{
 "cells": [
  {
   "cell_type": "markdown",
   "id": "c5480f69",
   "metadata": {},
   "source": [
    "# PYTHON FUNDAMENTOS \n",
    "\n",
    "![enter image description here](https://cms-assets.tutsplus.com/uploads/users/34/posts/26502/preview_image/python.png)\n",
    "\n",
    "*Autor: Silvio da Rosa Paula*               "
   ]
  },
  {
   "cell_type": "markdown",
   "id": "17cacc2c",
   "metadata": {},
   "source": [
    "**---------------------------------------------------------------------------**\n",
    "##  MÓDULO 1 - Pacotes e Configurações"
   ]
  },
  {
   "cell_type": "markdown",
   "id": "72228509",
   "metadata": {},
   "source": [
    "**Para abrir o Jupyter notebook direto da pasta onde estão os scripts** \n",
    "\n",
    "* Pressione shift + Botão direto do mouse / seleciona abrir janela do powershel aqui / digite: jupyter notebook "
   ]
  },
  {
   "cell_type": "markdown",
   "id": "2f08462c",
   "metadata": {},
   "source": [
    "**LINKS ÚTEIS**     \n",
    "\n",
    "* Documentação Python https://docs.python.org/release/3.6.4/\n",
    "\n",
    "* PyPi https://pypi.python.org/pypiData "
   ]
  },
  {
   "cell_type": "markdown",
   "id": "693d9cf8",
   "metadata": {},
   "source": [
    "**Para instalar thema escuro no jupyter via pronpt de comando do python**\n",
    "* pip install jupyterthemes      \n",
    "* jt -l # para listar themas      \n",
    "* jt -t monokai # escolhendo thema monokai      \n",
    "* jt -r # thema padrão      \n",
    "\n",
    "**Uma extensão do chorme boa para deixar o tema escuro é Dark Reader**     \n",
    "* https://chrome.google.com/webstore/detail/dark-reader/eimadpbcbfnmbkopoojfekhnkhdbieeh?hl=pt-BR"
   ]
  },
  {
   "cell_type": "markdown",
   "id": "b654b546-901d-4e33-bf68-5974842c434b",
   "metadata": {},
   "source": [
    "**Observações importantes**\n",
    "\n",
    "* O Python é indexado em zero, ou seja, toda contagem começa pelo número zero.\n",
    "* O Python é case-sensitive."
   ]
  },
  {
   "cell_type": "code",
   "execution_count": null,
   "id": "6dbc8bb3",
   "metadata": {},
   "outputs": [],
   "source": [
    "# Ver a versão do Python que estamos utilizando\n",
    "from platform import python_version\n",
    "print('Versão da Linguagem Python', python_version())"
   ]
  },
  {
   "cell_type": "code",
   "execution_count": null,
   "id": "5a1dcbf1",
   "metadata": {},
   "outputs": [],
   "source": [
    "# Para inserir comentários maiores ou texto\n",
    "\"\"\"cole o texto aqui\"\"\""
   ]
  },
  {
   "cell_type": "code",
   "execution_count": null,
   "id": "812dbbb3",
   "metadata": {},
   "outputs": [],
   "source": [
    "# Para instalar um pacote diretamente do notebook\n",
    "!pip install pandas"
   ]
  },
  {
   "cell_type": "code",
   "execution_count": null,
   "id": "6454b8ab",
   "metadata": {},
   "outputs": [],
   "source": [
    "# Instalar uma versão especifica de um pacote\n",
    "!pip install -q -U matplotlib==3.2.1"
   ]
  },
  {
   "cell_type": "code",
   "execution_count": null,
   "id": "7d2f0c52",
   "metadata": {},
   "outputs": [],
   "source": [
    "# Instala o pacote de modo silencioso, ou seja, não mostra nada exceto se der erro \"-q\"\n",
    "!pip install -q imdb-sqlite"
   ]
  },
  {
   "cell_type": "code",
   "execution_count": null,
   "id": "94194dfc",
   "metadata": {},
   "outputs": [],
   "source": [
    "# Para atualizar um pacote\n",
    "!pip install numpy -U"
   ]
  },
  {
   "cell_type": "code",
   "execution_count": null,
   "id": "92c4f87e",
   "metadata": {},
   "outputs": [],
   "source": [
    "# Ver versão de um pacote \n",
    "np.__version__"
   ]
  },
  {
   "cell_type": "code",
   "execution_count": null,
   "id": "3b241156",
   "metadata": {},
   "outputs": [],
   "source": [
    "# importar pacotes instalados\n",
    "#[OBS: o comando significa \"importar pandas como pd\" então basta chamar pd ao invés de pandas]\n",
    "import numpy as np\n",
    "import pandas as pd\n",
    "import matplotlib\n",
    "import seaborn as sns"
   ]
  },
  {
   "cell_type": "code",
   "execution_count": null,
   "id": "14ac39fe",
   "metadata": {},
   "outputs": [],
   "source": [
    "# Importar todos os módulos do NumPy, isso evitará a utilização de np.\n",
    "from numpy import * . "
   ]
  },
  {
   "cell_type": "code",
   "execution_count": null,
   "id": "92af6563",
   "metadata": {},
   "outputs": [],
   "source": [
    "# importar somente um modulo de um pacote\n",
    "import matplotlib.pyplot as plt\n",
    "from sklearn.utils import resample"
   ]
  },
  {
   "cell_type": "code",
   "execution_count": null,
   "id": "b17875d0",
   "metadata": {},
   "outputs": [],
   "source": [
    "# ver versão de um pacote\n",
    "import pandas as pd\n",
    "pd.__version__"
   ]
  },
  {
   "cell_type": "code",
   "execution_count": null,
   "id": "734d7cdc",
   "metadata": {},
   "outputs": [],
   "source": [
    "# Ver todos os modulos de um pacote \n",
    "dir(pd)"
   ]
  },
  {
   "cell_type": "code",
   "execution_count": null,
   "id": "b00ba77a",
   "metadata": {},
   "outputs": [],
   "source": [
    "# Ver pasta de trabalho\n",
    "%pwd"
   ]
  },
  {
   "cell_type": "code",
   "execution_count": null,
   "id": "db6f0013",
   "metadata": {},
   "outputs": [],
   "source": [
    "# Alterar pasta de trabalho\n",
    "%cd C:\\..."
   ]
  },
  {
   "cell_type": "code",
   "execution_count": null,
   "id": "bf1521b4",
   "metadata": {},
   "outputs": [],
   "source": [
    "# Para acessar o help de um pacote \n",
    "help(pd)"
   ]
  },
  {
   "cell_type": "code",
   "execution_count": null,
   "id": "a0ff324b",
   "metadata": {},
   "outputs": [],
   "source": [
    "# Filtar alertas\n",
    "import warnings "
   ]
  },
  {
   "cell_type": "code",
   "execution_count": null,
   "id": "52eff824-522e-4f25-af01-d76f5c1de1f6",
   "metadata": {},
   "outputs": [],
   "source": [
    "# Extensão para vizualizador de variáveis no jupyter lab (instalar via cmd)\n",
    "!pip3 install lckr-jupyterlab-variableinspector"
   ]
  },
  {
   "cell_type": "markdown",
   "id": "a26b98d8",
   "metadata": {},
   "source": [
    "-----------------------------------------------------------------------------------------\n",
    "##   MÓDULO 2 - Objetos"
   ]
  },
  {
   "cell_type": "markdown",
   "id": "620a3744",
   "metadata": {},
   "source": [
    "###  STRINGS \n",
    "\n",
    "* As strings são sequências de caracteres, de forma que podemos acessar um caractere em uma dada posição utilizando um índice. \n",
    "\n",
    "* Para criar uma string em Python você pode usar aspas simples ou duplas."
   ]
  },
  {
   "cell_type": "code",
   "execution_count": 1,
   "id": "d9d25252-6fd2-41ed-a6a9-113043fad2ee",
   "metadata": {},
   "outputs": [
    {
     "data": {
      "text/plain": [
       "'Criando uma string em Python'"
      ]
     },
     "execution_count": 1,
     "metadata": {},
     "output_type": "execute_result"
    }
   ],
   "source": [
    "'Criando uma string em Python'"
   ]
  },
  {
   "cell_type": "code",
   "execution_count": null,
   "id": "eafd3a3f",
   "metadata": {},
   "outputs": [],
   "source": [
    "# Uma única palavra\n",
    "\"Oi\"\n",
    "\n",
    "# Uma frase\n",
    "'Criando uma string em Python'\n",
    "\n",
    "# Você pode combinar aspas duplas e simples\n",
    "\"Testando strings em 'Python'\"\n",
    "\n",
    "# Imprimir uma string\n",
    "print ('Testando Strings em Python')\n",
    "\n",
    "# Imprimir uma string com uma palavra abaixo da outra utilizando \n",
    "#o \"enter do python\" \\n\n",
    "print ('Testando \\nStrings \\nem \\nPython')\n",
    "\n",
    "# Atribuindo uma string\n",
    "s = 'Data Science Academy'\n",
    "\n",
    "# Primeiro elemento da string. \n",
    "s[0]\n",
    "\n",
    "# Retorna todos os elementos da string, começando pela posição \n",
    "#(lembre-se que Python começa a indexação pela posição 0), até o fim da string.\n",
    "s[1:]\n",
    "\n",
    "# Retorna tudo até a posição 3\n",
    "s[:3]\n",
    "\n",
    "# Nós também podemos usar a indexação negativa e ler de trás para frente.\n",
    "s[-1]\n",
    "\n",
    "# Retornar tudo, exceto a última letra\n",
    "s[:-1]\n",
    "\n",
    "# Nós também podemos usar a notação de índice e fatiar a string em pedaços específicos (o padrão é 1). \n",
    "# Por exemplo, podemos usar dois pontos duas vezes em uma linha e, em seguida, um número que especifica \n",
    "# a frequência para retornar elementos. Por exemplo:\n",
    "s[::1]\n",
    "\n",
    "# Podemos usar o símbolo de multiplicação para criar repetição!\n",
    "letra = 'w'\n",
    "letra * 3\n",
    "\n",
    "# Upper Case (deixar tudo maiusculo) \n",
    "s.upper()\n",
    "\n",
    "# Upper Case (deixar tudo minusculo) \n",
    "s.upper()\n",
    "\n",
    "# Dividir uma string por espaços em branco (padrão)\n",
    "s.split()\n",
    "\n",
    "# Dividir uma string por um elemento específico\n",
    "s.split('y')\n",
    "\n",
    "# Funções String\n",
    "s = 'seja bem vindo ao universo de python'\n",
    "s.capitalize() # deixar primeira letra maiuscula\n",
    "s.count('a')   # contar o numero de letras a no texto\n",
    "s.find('p')    # encontrar a posição da letra p\n",
    "\n",
    "# Comparando Strings\n",
    "print(\"Python\" == \"R\")\n",
    "print(\"Python\" == \"Python\")"
   ]
  },
  {
   "cell_type": "markdown",
   "id": "5114ec5d",
   "metadata": {},
   "source": [
    "###  LISTAS \n",
    "\n",
    "* Uma lista (list) em Python é uma sequência ou coleção ordenada de valores. Cada valor na lista é identificado por um índice. O valores que formam uma lista são chamados elementos ou itens. Listas são similares a strings, que são uma sequência de caracteres, no entanto, diferentemente de strings, os itens de uma lista podem ser de tipos diferentes\n",
    "\n",
    "* Para criar um dicionário se usa colchetes [ ]\n",
    "* Listas de listas são matrizes em Python"
   ]
  },
  {
   "cell_type": "code",
   "execution_count": 4,
   "id": "3e6bbece-afcc-4eb9-8e4a-7818ef89f99d",
   "metadata": {},
   "outputs": [
    {
     "data": {
      "text/plain": [
       "3"
      ]
     },
     "execution_count": 4,
     "metadata": {},
     "output_type": "execute_result"
    }
   ],
   "source": [
    "lista = [10, \"farinha e leite\", \"maças\"]\n",
    "len(lista)"
   ]
  },
  {
   "cell_type": "code",
   "execution_count": null,
   "id": "54d4d712",
   "metadata": {},
   "outputs": [],
   "source": [
    "# Criando uma lista\n",
    "lista = [10, \"farinha e leite\", \"maças\"]\n",
    "\n",
    "# Imprimindo a lista\n",
    "print(lista)\n",
    "\n",
    "# Verificando o comprimento de uma lista\n",
    "len(lista)\n",
    "\n",
    "# Slicing, de uma lista (pegar todos itens a partir da primeira posição)\n",
    "lista[1:]\n",
    "\n",
    "# Slicing, de uma lista (pegar todos antes da segunda posição)\n",
    "lista[:2]\n",
    "\n",
    "# Atribuindo cada valor da lista a uma variável.\n",
    "item1 = lista[0]\n",
    "item2 = lista[1]\n",
    "item3 = lista[2]\n",
    "\n",
    "# Imprimindo as variáveis\n",
    "print(item1, item2, item3)\n",
    "\n",
    "# Imprimindo um item da lista\n",
    "lista[2]\n",
    "\n",
    "# Atualizando um item da lista (replace lista)\n",
    "lista[2] = \"chocolate\"\n",
    "lista\n",
    "\n",
    "# Deletando um item específico da lista\n",
    "del lista[2]\n",
    "lista\n",
    "\n",
    "# Criando uma lista aninhada ou seja uma lista de listas\n",
    "listas = [[1,2,3], [10,15,14], [10.1,8.7,2.3]]\n",
    "listas\n",
    "\n",
    "# Concatenando listas\n",
    "lista_s1 = [34, 32, 56]\n",
    "lista_s2 = [21, 90, 51]\n",
    "lista_total = lista_s1 + lista_s2\n",
    "\n",
    "# Verificando se o valor 10 pertence a lista (com operador IN)\n",
    "print(21 in lista_total)\n",
    "\n",
    "# Contar quantas vezes aparece um item em uma lista\n",
    "lista.count(\"item\")\n",
    "\n",
    "# Adicionar um item a lita\n",
    "lista.append(99)\n",
    "lista\n",
    "\n",
    "# Extendendo uma lista\n",
    "cidades = ['Recife', 'Manaus', 'Salvador']\n",
    "cidades.extend(['Fortaleza', 'Palmas'])\n",
    "print (cidades)\n",
    "\n",
    "# Remove um item da lista\n",
    "cidades.remove(\"Recife\")\n",
    "cidades\n",
    "\n",
    "# Reverte a lista\n",
    "cidades.reverse()\n",
    "\n",
    "# Deletando a tupla\n",
    "# del lista"
   ]
  },
  {
   "cell_type": "markdown",
   "id": "7ce0aabc",
   "metadata": {},
   "source": [
    "###  TUPLA \n",
    "\n",
    "* Tupla é um tipo de estrutura de dados utilizada em Python que funciona de modo semelhante a uma lista, entretanto, com a característica principal de ser imutável. Isso significa que quando uma tupla é criada não é possível adicionar, alterar ou remover seus elementos. Geralmente, ela é utilizada para adicionar tipos diferentes de informações, porém, com a quantidade de elementos definidos.\n",
    "* Para criar uma tupla se usa parenteses ()\n",
    "* Tuplas não suportam atribuição de item\n",
    "* Tuplas não suportam delete de um item específico\n",
    "* Tuplas não suportam append()\n",
    "* Tuplas podem ter um único item\n",
    "* Para adiciar itens a uma tupla converta ela para lista e adicione itens e converta para lista"
   ]
  },
  {
   "cell_type": "code",
   "execution_count": null,
   "id": "f19264b0",
   "metadata": {},
   "outputs": [],
   "source": [
    "# Criando uma tupla\n",
    "tupla1 = (\"Geografia\", 23, \"Elefantes\")\n",
    "\n",
    "# Imprimindo a tupla\n",
    "tupla1\n",
    "\n",
    "# Ver um unico item\n",
    "tupla1[0]\n",
    "\n",
    "# Verificando o comprimento da tupla\n",
    "len(tupla1)\n",
    "\n",
    "# Slicing, da mesma forma que se faz com listas\n",
    "tupla1[1:]\n",
    "\n",
    "# Usando a função list() para converter uma tupla para lista\n",
    "lista_t2 = list(tupla1)\n",
    "\n",
    "# Usando a função tuple() para converter uma lista para tupla\n",
    "tupla1 = tuple(lista_t2)\n",
    "\n",
    "# Deletando a tupla\n",
    "del tupla1"
   ]
  },
  {
   "cell_type": "markdown",
   "id": "dada8c16",
   "metadata": {},
   "source": [
    "### DICIONÁRIOS\n",
    "\n",
    "* Dicionário é um tipo diferente de coleção. Ele é um tipo de mapeamento nativo do Python. Um mapa é uma coleção associativa desordenada. A associação, ou mapeamento, é feita a partir de uma chave, que pode ser qualquer tipo imutável, para um valor, que pode ser qualquer objeto de dados do Python.\n",
    "\n",
    "* Para criar um dicionário se usa chave-valor. O dicionário vazio é denotado {}\n",
    "* Os dicionarios são compostos por chave e valor, nesta ordem"
   ]
  },
  {
   "cell_type": "code",
   "execution_count": null,
   "id": "070b093e",
   "metadata": {},
   "outputs": [],
   "source": [
    "# Criando um dicionario\n",
    "estudantes = {\"Mateus\":24, \"Fernanda\":22, \"Tamires\":26, \"Cristiano\":25}\n",
    "\n",
    "# Imprimindo um dicionario\n",
    "estudantes\n",
    "\n",
    "# Verificando o comprimento da tupla\n",
    "len(estudantes_dict)\n",
    "\n",
    "# Ver chaves de um dicionario ou seja 'Mateus', 'Fernanda', 'Tamires', 'Cristiano'\n",
    "estudantes.keys()\n",
    "\n",
    "# Ver valores de um dicionario\n",
    "estudantes.values()\n",
    "\n",
    "# Ver itens de uma dicionario\n",
    "estudantes.items()\n",
    "\n",
    "# Adicionar itens a uma dicionario\n",
    "estudantes2 = {\"Maria\":27, \"Erika\":28, \"Milton\":26}\n",
    "estudantes.update(estudantes2)\n",
    "estudantes\n",
    "\n",
    "# É possivel criar um dicionário de listas\n",
    "dict3 = {'key1':1230,'key2':[22,453,73.4],'key3':['leite','maça','batata']}\n",
    "dict3\n",
    "\n",
    "# Criando dicionários aninhados\n",
    "dict_aninhado = {'key1':{'key2_aninhada':{'key3_aninhada':'Dict aninhado em Python'}}}\n",
    "dict_aninhado\n",
    "\n",
    "# Deletando um dicionario\n",
    "del dict_aninhado"
   ]
  },
  {
   "cell_type": "markdown",
   "id": "9a59d100",
   "metadata": {},
   "source": [
    "------------------------------------------------------------------------------------------\n",
    "##   MÓDULO 3 - input, ifelse, for, while, metodos, funções, lambda "
   ]
  },
  {
   "cell_type": "markdown",
   "id": "68d87f6b",
   "metadata": {},
   "source": [
    "##  Função input() \n",
    "\n",
    "* Serve para fazer abrir uma caixa de texto para imputar algo."
   ]
  },
  {
   "cell_type": "code",
   "execution_count": null,
   "id": "1cb654e9",
   "metadata": {},
   "outputs": [],
   "source": [
    "disciplina = input('Digite o nome da disciplina que você quer cursar: ')\n",
    "disciplina"
   ]
  },
  {
   "cell_type": "code",
   "execution_count": null,
   "id": "87fc575e",
   "metadata": {},
   "outputs": [],
   "source": [
    "# Usando a função int para converter o valor digitado\n",
    "idade = int(input(\"Digite sua idade: \"))\n",
    "if idade > 13:\n",
    "    print(\"Você pode acessar o Facebook\")  "
   ]
  },
  {
   "cell_type": "markdown",
   "id": "dd3ff68e",
   "metadata": {},
   "source": [
    "## Funções IF, ELSE, ELIF\n",
    "\n",
    "* O if é uma estrutura de condição que permite avaliar uma expressão e, de acordo com seu resultado, executar uma determinada ação.\n",
    "\n",
    "* O encadeamento no Python é dado por um TAB ou 4 espaços\n",
    "* if   -> se\n",
    "* else -> caso contrario\n",
    "* O elif serve para verificar outra condição caso a condição do If seja falsa."
   ]
  },
  {
   "cell_type": "code",
   "execution_count": null,
   "id": "59a63659",
   "metadata": {},
   "outputs": [],
   "source": [
    "# Condicional If\n",
    "if 2 > 5:\n",
    "    print(\"Esta correto!\")\n",
    "else:\n",
    "    print(\"Esta errado!\")\n",
    "    \n",
    "# Condicionar aninhados if else elif\n",
    "dia = \"Terça\"\n",
    "if dia == \"Segunda\":\n",
    "    print(\"Hoje fará sol!\")\n",
    "elif dia == \"Terça\":\n",
    "    print(\"Hoje vai chover!\")\n",
    "else:\n",
    "    print(\"Sem previsão do tempo para o dia selecionado\")"
   ]
  },
  {
   "cell_type": "code",
   "execution_count": null,
   "id": "e2895f58",
   "metadata": {},
   "outputs": [],
   "source": [
    "# Usando mais de uma condição na cláusula if e introduzindo Placeholders\n",
    "\n",
    "disciplina = input('Digite o nome da disciplina: ')\n",
    "nota_final = input('Digite a nota final (entre 0 e 100): ')\n",
    "semestre = input('Digite o semestre (1 a 4): ')\n",
    "\n",
    "if disciplina == 'Geografia' and nota_final >= '50' and int(semestre) != 1:\n",
    "    print('Você foi aprovado em %s com média final %r!' %(disciplina, nota_final))\n",
    "else:\n",
    "    print('Lamento, acho que você precisa estudar mais!')"
   ]
  },
  {
   "cell_type": "markdown",
   "id": "79ef93d7",
   "metadata": {},
   "source": [
    "##  Função FOR( )\n",
    "\n",
    "* A estrutura de repetição é um recurso das linguagens de programação responsável por executar um bloco de código repetidas vezes enquanto determinada condição é atendida.\n",
    "\n",
    "* For -> tradução \"para\" "
   ]
  },
  {
   "cell_type": "code",
   "execution_count": null,
   "id": "61c7b458",
   "metadata": {},
   "outputs": [],
   "source": [
    "# Criando uma tupla e imprimindo cada um dos valores\n",
    "tp = (2,3,4)\n",
    "for i in tp:\n",
    "    print(i)\n",
    "    \n",
    "# Criando uma lista e imprimindo cada um dos valores\n",
    "ListaDoMercado = [\"Leite\", \"Frutas\", \"Carne\"]\n",
    "for i in ListaDoMercado:\n",
    "    print(i)"
   ]
  },
  {
   "cell_type": "code",
   "execution_count": null,
   "id": "c4702db4",
   "metadata": {},
   "outputs": [],
   "source": [
    "# Função RANGE dentro do for\n",
    "# Imprimindo os valores no intervalo entre 0 e 5 (exclusive)\n",
    "for contador in range(0,5):\n",
    "    print(contador)"
   ]
  },
  {
   "cell_type": "code",
   "execution_count": null,
   "id": "a8f56376",
   "metadata": {},
   "outputs": [],
   "source": [
    "# Imprimindo na tela os números pares da lista de números\n",
    "lista = [1,2,3,4,5,6,7,8,9,10]\n",
    "for num in lista:\n",
    "    if num % 2 == 0: # obs: o operador % pede o resto da divisão\n",
    "        print (num)"
   ]
  },
  {
   "cell_type": "code",
   "execution_count": null,
   "id": "0121c787",
   "metadata": {},
   "outputs": [],
   "source": [
    "# Listando os números no intervalo entre 0 e 10, com incremento em 2\n",
    "for i in range(0,10,2):  \n",
    "    print(i)"
   ]
  },
  {
   "cell_type": "code",
   "execution_count": null,
   "id": "bf195591",
   "metadata": {},
   "outputs": [],
   "source": [
    "# Strings também são sequências\n",
    "for caracter in 'Python!':\n",
    "    print (caracter)"
   ]
  },
  {
   "cell_type": "code",
   "execution_count": null,
   "id": "92b3b502",
   "metadata": {},
   "outputs": [],
   "source": [
    "# Operando os valores de uma lista com loop for\n",
    "listaB = [32,53,85,10,15,17,19]\n",
    "soma = 0\n",
    "for i in listaB:\n",
    "    double_i = i * 2\n",
    "    soma += double_i # o operador += vai somando conforme o loop vai rodando\n",
    "print(soma)"
   ]
  },
  {
   "cell_type": "code",
   "execution_count": null,
   "id": "5fc04120",
   "metadata": {},
   "outputs": [],
   "source": [
    "# Contando o número de colunas\n",
    "lst = [[1,2,3],[3,4,5],[5,6,7]]\n",
    "primeira_linha = lst[0]\n",
    "count = 0\n",
    "for column in primeira_linha:\n",
    "    count = count + 1\n",
    "print(count)"
   ]
  },
  {
   "cell_type": "code",
   "execution_count": null,
   "id": "52dd87a2",
   "metadata": {},
   "outputs": [],
   "source": [
    "# Pesquisando em listas\n",
    "listaC = [5, 6, 7, 10, 50]\n",
    "\n",
    "# Loop através da lista\n",
    "for item in listaC:\n",
    "    if item == 50:\n",
    "        print(\"Número encontrado na lista!\")"
   ]
  },
  {
   "cell_type": "markdown",
   "id": "13a5f5c9",
   "metadata": {},
   "source": [
    "##  Função WHILE( )\n",
    "\n",
    "* A estrutura de repetição é um recurso das linguagens de programação responsável por executar um bloco de código repetidas vezes enquanto determinada condição é atendida.\n",
    "\n",
    "* while -> tradução \"enquanto\" \n"
   ]
  },
  {
   "cell_type": "code",
   "execution_count": null,
   "id": "e1573d0d",
   "metadata": {},
   "outputs": [],
   "source": [
    "# Usando o loop while para imprimir os valores de 0 a 9\n",
    "counter = 0\n",
    "while counter <= 10:\n",
    "    print(counter)\n",
    "    counter = counter + 1"
   ]
  },
  {
   "cell_type": "code",
   "execution_count": null,
   "id": "17569eeb",
   "metadata": {},
   "outputs": [],
   "source": [
    "# Também é possível usar a claúsula else para encerrar o loop while\n",
    "x = 0\n",
    "\n",
    "while x < 10:\n",
    "    print ('O valor de x nesta iteração é: ', x)\n",
    "    print (' x ainda é menor que 10, somando 1 a x')\n",
    "    x += 1\n",
    "    \n",
    "else:\n",
    "    print ('Loop concluído!')"
   ]
  },
  {
   "cell_type": "code",
   "execution_count": null,
   "id": "ad548a1f",
   "metadata": {},
   "outputs": [],
   "source": [
    "counter = 0\n",
    "while counter < 100:\n",
    "    if counter == 4:\n",
    "        break\n",
    "    else:\n",
    "        pass\n",
    "    print(counter)\n",
    "    counter = counter + 1"
   ]
  },
  {
   "cell_type": "code",
   "execution_count": null,
   "id": "8cb47a16",
   "metadata": {},
   "outputs": [],
   "source": [
    "for verificador in \"Python\":\n",
    "    if verificador == \"h\":\n",
    "        continue\n",
    "    print(verificador)"
   ]
  },
  {
   "cell_type": "markdown",
   "id": "7f8388e1",
   "metadata": {},
   "source": [
    "## Função RANGE( )\n",
    "\n",
    "* A função range () retorna uma sequência de números, começando em 0 por padrão e incrementando em 1 (por padrão), e pára antes de um número especificado."
   ]
  },
  {
   "cell_type": "code",
   "execution_count": null,
   "id": "e26db65f",
   "metadata": {},
   "outputs": [],
   "source": [
    "# Imprimindo números pares entre 50 e 101\n",
    "for i in range(50, 70, 2):\n",
    "    variavel = i\n",
    "    print(variavel)\n",
    "    \n",
    "for i in range(3, 6):\n",
    "    print (i)"
   ]
  },
  {
   "cell_type": "code",
   "execution_count": null,
   "id": "c4c80cfd",
   "metadata": {},
   "outputs": [],
   "source": [
    "lista = ['Morango', 'Banana', 'Abacaxi', 'Uva']\n",
    "lista_tamanho = len(lista)\n",
    "for i in range(0, lista_tamanho):\n",
    "    print(lista[i])"
   ]
  },
  {
   "cell_type": "markdown",
   "id": "61e10f3e",
   "metadata": {},
   "source": [
    "## Função DEF( )\n",
    "\n",
    "* Podemos criar uma função qualquer do zero ou combinar funções em uma só."
   ]
  },
  {
   "cell_type": "code",
   "execution_count": null,
   "id": "f6331b93",
   "metadata": {},
   "outputs": [],
   "source": [
    "# Definindo uma função\n",
    "def primeiraFunc():\n",
    "    print('Hello World')\n",
    "primeiraFunc()    "
   ]
  },
  {
   "cell_type": "code",
   "execution_count": null,
   "id": "10ae040a",
   "metadata": {},
   "outputs": [],
   "source": [
    "# Função para somar números\n",
    "def addNum(firstnum, secondnum):\n",
    "    print(\"Primeiro número: \" + str(firstnum))\n",
    "    print(\"Segundo número: \" + str(secondnum))\n",
    "    print(\"Soma: \", firstnum + secondnum)\n",
    "addNum(45, 3)"
   ]
  },
  {
   "cell_type": "code",
   "execution_count": null,
   "id": "1630efb0",
   "metadata": {},
   "outputs": [],
   "source": [
    "import math\n",
    "def numPrimo(num):\n",
    "    '''\n",
    "    Verificando se um número \n",
    "    é primo. \n",
    "    '''\n",
    "    if (num % 2) == 0 and num > 2: \n",
    "        return \"Este número não é primo\"\n",
    "    for i in range(3, int(math.sqrt(num)) + 1, 2):\n",
    "        if (num % i) == 0:\n",
    "            return \"Este número não é primo\"\n",
    "    return \"Este número é primo\"\n",
    "\n",
    "numPrimo(5) # quero saber se o numero 5 é primo"
   ]
  },
  {
   "cell_type": "markdown",
   "id": "166e3e81",
   "metadata": {},
   "source": [
    "##  Função MAP( )\n",
    "\n",
    "* Podemos usar a função integrada do Python, map(), para aplicar uma função a cada item em um iterável (como uma lista ou um dicionário) e retornar um novo iterador para recuperar os resultados. map() retorna um objeto map (um iterador), que podemos usar em outras partes do nosso programa. Também podemos passar o objeto map à função list(), ou outro tipo de sequência, para criar um iterável."
   ]
  },
  {
   "cell_type": "code",
   "execution_count": null,
   "id": "1b291fa0",
   "metadata": {},
   "outputs": [],
   "source": [
    "# Criando duas funções\n",
    "\n",
    "# Função 1 - Recebe uma temperatura como parâmetro e retorna a temperatura em Fahrenheit\n",
    "def fahrenheit(T):\n",
    "    return ((float(9)/5)*T + 32)\n",
    "\n",
    "# Função 2 - Recebe uma temperatura como parâmetro e retorna a temperatura em Celsius\n",
    "def celsius(T):\n",
    "    return (float(5)/9)*(T-32)\n",
    "\n",
    "# Criando uma lista\n",
    "temperaturas = [0, 22.5, 40, 100]\n",
    "\n",
    "# Função map() retornando a lista de temperaturas convertidas em Fahrenheit\n",
    "list(map(fahrenheit, temperaturas))"
   ]
  },
  {
   "cell_type": "code",
   "execution_count": null,
   "id": "8c440dae",
   "metadata": {},
   "outputs": [],
   "source": [
    "# Somando os elementos de 2 listas\n",
    "a = [1,2,3,4]\n",
    "b = [5,6,7,8]\n",
    "\n",
    "list(map(lambda x,y:x+y, a, b))"
   ]
  },
  {
   "cell_type": "markdown",
   "id": "05f84514",
   "metadata": {},
   "source": [
    "## Função REDUCE( )\n",
    "\n",
    "* A função reduce , disponível no módulo built-in functools , serve pra \"reduzir\" um iterável (como uma lista) a um único valor. É um paradigma um pouco mais comum em linguagens funcionais, mas que também é bastante útil em linguagens imperativas/orientadas a objetos como o Python."
   ]
  },
  {
   "cell_type": "code",
   "execution_count": null,
   "id": "ccbc6fa8",
   "metadata": {},
   "outputs": [],
   "source": [
    "# Importando a função reduce do módulo functools\n",
    "from functools import reduce\n",
    "\n",
    "# Criando uma lista\n",
    "lista = [47,11,42,13]\n",
    "\n",
    "# Gerar uma funão de soma \n",
    "def soma(a,b):\n",
    "    x = a + b\n",
    "    return x\n",
    "\n",
    "# Usando reduce com uma função e uma lista. A função vai retornar o valor máximo\n",
    "reduce(soma, lista)"
   ]
  },
  {
   "cell_type": "markdown",
   "id": "e133716d",
   "metadata": {},
   "source": [
    "## Função FILTER( )\n",
    "\n",
    "* A função Filter pega uma lista e aplica uma regra, onde compara cada elemento da lista contra a regra de filtragem booleana. Uma vez aplicada a condição, retorna um subconjunto da lista original."
   ]
  },
  {
   "cell_type": "code",
   "execution_count": null,
   "id": "1148d3eb",
   "metadata": {},
   "outputs": [],
   "source": [
    "# Criando uma função para verificar se um numero é par\n",
    "def verificaPar(num):\n",
    "    if num % 2 == 0:\n",
    "        return True\n",
    "    else:\n",
    "        return False\n",
    "\n",
    "# lista de valores para verificar    \n",
    "lista = [0, 1, 2, 3, 4, 5, 6, 7, 8, 9, 10, 11, 12, 13, 14, 15, 16, 17, 18]\n",
    "\n",
    "# Aplicando o filter\n",
    "list(filter(verificaPar, lista))"
   ]
  },
  {
   "cell_type": "markdown",
   "id": "e0283efa",
   "metadata": {},
   "source": [
    "## LIST COMPREHENSION\n",
    "\n",
    "* Permite desenvolver listas usando uma notação diferente. Seria essencialmente uma linha de loop for, contruida dentro de [ ]\n",
    "* Essa função é mais veloz que map ou filter pois roda em C."
   ]
  },
  {
   "cell_type": "code",
   "execution_count": null,
   "id": "6333825b",
   "metadata": {},
   "outputs": [],
   "source": [
    "# Retornar cada caracter em uma sequência de caracteres\n",
    "# Traduzindo esse comando: retornar x para cada x in uma sequencia.\n",
    "lst = [x for x in 'python']\n",
    "\n",
    "# Check\n",
    "lst\n",
    "\n",
    "# Variável x elevada ao quadrado para um range de números e retornar uma lista\n",
    "lst = [x**2 for x in range(0, 11)]\n",
    "\n",
    "# Check\n",
    "lst"
   ]
  },
  {
   "cell_type": "code",
   "execution_count": null,
   "id": "f4bd6d9a",
   "metadata": {},
   "outputs": [],
   "source": [
    "# Converter Celsius para Fahrenheit\n",
    "celsius = [0,10,20.1,34.5]\n",
    "\n",
    "fahrenheit = [ ((float(9) / 5) * temp + 32) for temp in celsius ]\n",
    "\n",
    "fahrenheit"
   ]
  },
  {
   "cell_type": "markdown",
   "id": "98b1d446",
   "metadata": {},
   "source": [
    "##  Função ZIP( )\n",
    "\n",
    "* A função zip agrega os valores de duas sequências e retorna uma tupla"
   ]
  },
  {
   "cell_type": "code",
   "execution_count": null,
   "id": "ce4b8ae7",
   "metadata": {},
   "outputs": [],
   "source": [
    "# Criando duas listas\n",
    "x = [1,2,3]\n",
    "y = [4,5,6]\n",
    "\n",
    "# Perceba que zip retorna tuplas. Neste caso, uma lista de tuplas\n",
    "list(zip(x,y))"
   ]
  },
  {
   "cell_type": "code",
   "execution_count": null,
   "id": "cc900219",
   "metadata": {},
   "outputs": [],
   "source": [
    "# Atenção quando as sequências tiverem número diferente de elementos alguns\n",
    "# elementos firam de fora\n",
    "a = [1,2,3]\n",
    "b = [4,5,6,7,8]\n",
    "list(zip(a,b)) "
   ]
  },
  {
   "cell_type": "code",
   "execution_count": null,
   "id": "e3ba2987",
   "metadata": {},
   "outputs": [],
   "source": [
    "# Criando 2 dicionários\n",
    "d1 = {'a':1,'b':2}\n",
    "d2 = {'c':4,'d':5}\n",
    "\n",
    "# Zip pode unir os valores (itens)\n",
    "list(zip(d1, d2.values()))"
   ]
  },
  {
   "cell_type": "markdown",
   "id": "665e6c9f",
   "metadata": {},
   "source": [
    "## Função ENUMERATE( )\n",
    "\n",
    "* A função enumerate permite retornar o índice de cada valor em uma sequência, á medida que você percorre toda a sequência. Gera tuplas."
   ]
  },
  {
   "cell_type": "code",
   "execution_count": null,
   "id": "eb3fc0b8",
   "metadata": {},
   "outputs": [],
   "source": [
    "# Criando uma lista\n",
    "seq = ['a','b','c']\n",
    "\n",
    "list(enumerate(seq))"
   ]
  },
  {
   "cell_type": "code",
   "execution_count": null,
   "id": "1999985c",
   "metadata": {},
   "outputs": [],
   "source": [
    "# Imprimindo os valores de uma lista com a função enumerate() e seus índices\n",
    "for indice, valor in enumerate(seq):\n",
    "    print (indice, valor)"
   ]
  },
  {
   "cell_type": "code",
   "execution_count": null,
   "id": "d7f56df5",
   "metadata": {},
   "outputs": [],
   "source": [
    "# Imprimindo os valores de uma lista com a função enumerate() e seus índices\n",
    "lista = ['Marketing', 'Tecnologia', 'Business']\n",
    "for i, item in enumerate(lista):\n",
    "    print(i, item)"
   ]
  },
  {
   "cell_type": "markdown",
   "id": "e2de26c1",
   "metadata": {},
   "source": [
    "## Variáveis GLOBAL e LOCAL\n",
    "\n",
    "* Variável Global -> Em Python, uma variável declarada fora da função ou que seja de escopo global é conhecida como variável global. Isto significa que a variável global pode ser lida e atualizada dentro ou fora da função.\n",
    "\n",
    "* Variável Local -> Toda variável declarada dentro do escopo de uma função ou método, é local a este método ou função. Ou seja, só é “reconhecida” por este trecho de código. Veja o exemplo a seguir:\n"
   ]
  },
  {
   "cell_type": "code",
   "execution_count": null,
   "id": "2742a329",
   "metadata": {},
   "outputs": [],
   "source": [
    "# Variável Global\n",
    "var_global = 10  # Esta é uma variável global\n",
    "\n",
    "def multiply(num1, num2):\n",
    "    var_local = num1 * num2  # Esta é uma variável local\n",
    "    print(var_global)\n",
    "    \n",
    "multiply(5, 25)\n",
    "\n",
    "print(var_global) # observe que ele vai responder que é 10, \n",
    "print(var_local) # não temos como saber qual o valor da var local"
   ]
  },
  {
   "cell_type": "markdown",
   "id": "01176b07",
   "metadata": {},
   "source": [
    "## Expressão LAMBDA\n",
    "\n",
    "* Uma expressão Lambda é uma função anônima que você pode usar para criar Delegates ou tipos de árvores de Expressão. São particularmente muito úteis para escrever consultas LINQ. Para facilitar o entendimento, a expressão lambda é uma espécie de função, porém sem nome."
   ]
  },
  {
   "cell_type": "code",
   "execution_count": null,
   "id": "01a72b09",
   "metadata": {},
   "outputs": [],
   "source": [
    "# Sem o lambda fariamos assim: Definindo uma função\n",
    "def potencia(num):\n",
    "    return num**2\n",
    "potencia(5)\n",
    "\n",
    "#ou assim\n",
    "def potencia(num): return num**2\n",
    "potencia(5)"
   ]
  },
  {
   "cell_type": "code",
   "execution_count": null,
   "id": "6553e92e",
   "metadata": {},
   "outputs": [],
   "source": [
    "# Com o lambda ficaria assim\n",
    "potencia = lambda num: num**2\n",
    "potencia(5)"
   ]
  },
  {
   "cell_type": "markdown",
   "id": "74bfb0d4",
   "metadata": {},
   "source": [
    "## Erros & Exceções (TRY, EXCEPT, FINALLY)\n",
    "\n",
    "* Erros de sintaxe, também conhecidos como erros de análise, são talvez o tipo de reclamação mais comum que você recebe enquanto ainda está aprendendo Python.\n",
    "\n",
    "* TRY: \"tente\"\n",
    "\n",
    "* EXCEPT: \"exceto\"\n",
    "\n",
    "* FINALLY: \"finalmente\" força a execução mesmo com erro"
   ]
  },
  {
   "cell_type": "code",
   "execution_count": null,
   "id": "bf46fffc",
   "metadata": {},
   "outputs": [],
   "source": [
    "# Utilizando try e except\n",
    "# pedir para o python dizer se tem erro na operação 8 + s\n",
    "try:\n",
    "    8 + 's'\n",
    "except TypeError:\n",
    "    print(\"Operação não permitida\")"
   ]
  },
  {
   "cell_type": "code",
   "execution_count": null,
   "id": "ad7bcb9f",
   "metadata": {},
   "outputs": [],
   "source": [
    "def askint():\n",
    "    try:\n",
    "        val = int((input(\"Digite um número: \")))\n",
    "    except UnboundLocalError:\n",
    "        print (\"Você não digitou um número!\")\n",
    "    finally:\n",
    "        print (\"Obrigado!\")\n",
    "        print (val) \n",
    "askint()        "
   ]
  },
  {
   "cell_type": "code",
   "execution_count": null,
   "id": "d282cba3",
   "metadata": {},
   "outputs": [],
   "source": [
    "# Insistindo para o usuário digitar um número com a função \"continue\"\n",
    "def askint():\n",
    "    while True:\n",
    "        try:\n",
    "            val = int(input(\"Digite um número: \"))\n",
    "        except:\n",
    "            print (\"Você não digitou um número!\")\n",
    "            continue # essa função obriga o usuário digitar um numero!\n",
    "        else:\n",
    "            print (\"Obrigado por digitar um número!\")\n",
    "            break\n",
    "        finally:\n",
    "            print(\"Fim da execução!\")\n",
    "        print (val) \n",
    "askint()"
   ]
  },
  {
   "cell_type": "markdown",
   "id": "e8fa6fb8",
   "metadata": {},
   "source": [
    "##  CLASSES, INSTÂNCIAS E OBJETOS \n",
    "\n",
    "* Para criar uma classe, utiliza-se a palavra reservada class. O nome da sua classe segue a mesma convenção de nomes para criação de funções e variáveis, mas normalmente se usa a primeira letra maiúscula em cada palavra no nome da classe.                \n",
    "\n",
    "* Classes: é como um template, ou seja, um molde. Uma especificação que define o que um objeto desse tipo deverá ter como atributo e como ele deve se comportar.            \n",
    "\n",
    "* Instâncias: cada instência é um objeto especifico criado a partir de uma classe.                \n",
    "\n",
    "* Ojbetos: os objetos representam entidades, com suas qualidades (atributos) e ações (métodos) que estas podem realizar.  \n",
    "\n",
    "* EM PYTHON TUDO É UM OBJETO! (Ex: list, tuple, dict, int, float, ...).\n",
    "\n",
    "* Função class( ) cria as classes.\n",
    "\n",
    "* \"__init__\" é um Construtor chamado para criar um objeto desta classe. "
   ]
  },
  {
   "cell_type": "code",
   "execution_count": null,
   "id": "f8558468",
   "metadata": {},
   "outputs": [],
   "source": [
    "# Objetos definidos pelos usuários são criados a partir de instâncias de classes\n",
    "# Criando uma classe chamada Livro\n",
    "class Livro():\n",
    "    \n",
    "    # Este método vai inicializar cada objeto criado a partir desta classe\n",
    "    # O nome deste método é __init__\n",
    "    # (self) é uma referência a cada atributo de um objeto criado a partir desta classe\n",
    "    def __init__(self, titulo, isbn):\n",
    "        \n",
    "        # Atributos de cada objeto criado a partir desta classe. \n",
    "        # O self indica que estes são atributos dos objetos\n",
    "        self.titulo = titulo\n",
    "        self.isbn = isbn\n",
    "        print(\"Construtor chamado para criar um objeto desta classe\")\n",
    "        \n",
    "    # Métodos são funções, que recebem como parâmetro atributos do objeto criado    \n",
    "    def imprime(self, titulo, isbn):\n",
    "        print(\"Este é o livro %s e ISBN %d\" %(titulo, isbn))"
   ]
  },
  {
   "cell_type": "code",
   "execution_count": null,
   "id": "a6c6dda9",
   "metadata": {},
   "outputs": [],
   "source": [
    "# Criando o objeto Livro2 que é uma instância da classe Livro\n",
    "Livro2 = Livro(\"A Menina que Roubava Livros\", 77886611)\n",
    "\n",
    "# Ver atributos\n",
    "Livro2.titulo\n",
    "\n",
    "# Método do objeto Livro2\n",
    "Livro2.imprime(\"A Menina que Roubava Livros\", 77886611)"
   ]
  },
  {
   "cell_type": "code",
   "execution_count": null,
   "id": "5b0d899a",
   "metadata": {},
   "outputs": [],
   "source": [
    "# Usamos a função type, para verificar o tipo de um objeto\n",
    "print(type(10))\n",
    "print(type(10.3))\n",
    "print(type([]))\n",
    "print(type(()))\n",
    "print(type({}))\n",
    "print(type('a'))\n",
    "print(type(Livro2))"
   ]
  },
  {
   "cell_type": "code",
   "execution_count": null,
   "id": "1994e7e9",
   "metadata": {},
   "outputs": [],
   "source": [
    "# Criando uma classe\n",
    "class Funcionarios:\n",
    "    def __init__(self, nome, salario):\n",
    "        self.nome = nome\n",
    "        self.salario = salario\n",
    "\n",
    "    def listFunc(self):\n",
    "        print(\"O nome do funcionário é \" + self.nome + \" e o salário é R$\" + str(self.salario))"
   ]
  },
  {
   "cell_type": "code",
   "execution_count": null,
   "id": "57148246",
   "metadata": {},
   "outputs": [],
   "source": [
    "# Criando um objeto chamado Func1 a partir da classe Funcionarios\n",
    "Func1 = Funcionarios(\"Obama\", 20000)"
   ]
  },
  {
   "cell_type": "code",
   "execution_count": null,
   "id": "93f73e7e",
   "metadata": {},
   "outputs": [],
   "source": [
    "# Usando o método da classe\n",
    "Func1.listFunc()"
   ]
  },
  {
   "cell_type": "code",
   "execution_count": null,
   "id": "8795a404",
   "metadata": {},
   "outputs": [],
   "source": [
    "# Funções especiais, para visualizar e manipular atributos de um objeto\n",
    "\n",
    "# hasattr = utilizado para verificar a existencia de um atributo\n",
    "hasattr(Func1, \"salario\")\n",
    "\n",
    "# setattr = utilizado para configurar \"set\" o atributo \"attr\"\n",
    "setattr(Func1, \"salario\", 4500)\n",
    "\n",
    "# getattr = utilizado para obter o atributo\n",
    "getattr(Func1, \"salario\")\n",
    "\n",
    "# delattr = utilizado para deletar um objeto\n",
    "delattr(Func1, \"salario\")"
   ]
  },
  {
   "cell_type": "markdown",
   "id": "ab61da52",
   "metadata": {},
   "source": [
    "##  MÉTODOS\n",
    "\n",
    "* Métodos são funções definidas dentro do corpo de uma classe.\n",
    "* Os métodos são utilizados para realizar operações com os atributos dos objetos.\n",
    "* Métodos são usados no conceito de encapsulamento do paradigma de Programação Orientada a Objetos (POO).\n",
    "* Métodos são basicamente funções definidas dentro de uma classe, para manipular os objetos criados a partir da classe.\n",
    "* A função def( ) é utilizada para criar métodos, da mesma forma que se cria funções.\n",
    "* Na análise de dados podemos criar classes para nossas atividades e criar métodos específicos para cada tarefa, encapsulando nossa lógica de programação.\n",
    "\n",
    "* MÉTODOS ESPECIAIS: ao usar métodos especiais, a classe poderá ter um comportamento semelhante a um dicionário, uma função ou mesmo um número."
   ]
  },
  {
   "cell_type": "code",
   "execution_count": null,
   "id": "8ace2afa",
   "metadata": {},
   "outputs": [],
   "source": [
    "# Criando uma classe chamada Circulo\n",
    "class Circulo():\n",
    "    \n",
    "    # O valor de pi é constante\n",
    "    pi = 3.14\n",
    "\n",
    "    # Quando um objeto desta classe for criado, este método será executado e o valor default do raio será 5.\n",
    "    def __init__(self, raio = 5):\n",
    "        self.raio = raio \n",
    "\n",
    "    # Esse método calcula a área. Self utiliza os atributos deste mesmo objeto\n",
    "    def area(self):\n",
    "        return (self.raio * self.raio) * Circulo.pi\n",
    "\n",
    "    # Método para gerar um novo raio\n",
    "    def setRaio(self, novo_raio):\n",
    "        self.raio = novo_raio\n",
    "\n",
    "    # Método para obter o raio do círculo\n",
    "    def getRaio(self):\n",
    "        return self.raio"
   ]
  },
  {
   "cell_type": "code",
   "execution_count": null,
   "id": "032c3825",
   "metadata": {},
   "outputs": [],
   "source": [
    "# Criando o objeto circ. Uma instância da classe Circulo()\n",
    "circ = Circulo()\n",
    "\n",
    "# Executando um método da classe Circulo\n",
    "circ.getRaio()"
   ]
  },
  {
   "cell_type": "code",
   "execution_count": null,
   "id": "fedbe5fd",
   "metadata": {},
   "outputs": [],
   "source": [
    "# Criando outro objeto chamado circ1. Uma instância da classe Circulo()\n",
    "# Agora sobrescrevendo o valor do atributo\n",
    "circ1 = Circulo(7)\n",
    "\n",
    "# Executando um método da classe Circulo\n",
    "circ1.getRaio()\n",
    "\n",
    "# Imprimindo o raio\n",
    "print ('O raio é: ', circ.getRaio())\n",
    "\n",
    "# Imprimindo a area\n",
    "print('Area igual a: ', circ.area())"
   ]
  },
  {
   "cell_type": "code",
   "execution_count": null,
   "id": "f2a20348",
   "metadata": {},
   "outputs": [],
   "source": [
    "# MÉTODOS ESPECIAIS\n",
    "# Criando a classe Livro\n",
    "class Livro():\n",
    "    def __init__(self, titulo, autor, paginas):\n",
    "        print (\"Livro criado\")\n",
    "        self.titulo = titulo\n",
    "        self.autor = autor\n",
    "        self.paginas = paginas\n",
    "                \n",
    "    def __str__(self):\n",
    "        return \"Título: %s , autor: %s, páginas: %s \" \\\n",
    "    %(self.titulo, self.autor, self.paginas)\n",
    "\n",
    "    def __len__(self):\n",
    "        return self.paginas\n",
    "    \n",
    "    def len(self):\n",
    "        return print(\"Páginas do livro com método comum: \", self.paginas)"
   ]
  },
  {
   "cell_type": "code",
   "execution_count": null,
   "id": "c411d4fb",
   "metadata": {},
   "outputs": [],
   "source": [
    "# Atribuindo\n",
    "livro1 = Livro(\"Os Lusíadas\", \"Luis de Camões\", 8816)\n",
    "\n",
    "# Métodos especiais\n",
    "print(livro1)\n",
    "\n",
    "# visualizar\n",
    "str(livro1)\n",
    "len(livro1)\n",
    "livro1.len()\n",
    "\n",
    "# Ao executar a função del para remover um atributo, o Python executa:\n",
    "# livro1.__delattr__(\"paginas\")\n",
    "del livro1.paginas"
   ]
  },
  {
   "cell_type": "markdown",
   "id": "45051d2a",
   "metadata": {},
   "source": [
    "## HERANÇA\n",
    "\n",
    "* A Classe que deu origem a sub-classe, é chamada super-classe ou classe base.\n",
    "\n",
    "* Um dos principais benefícios da herança é a reutilização de código e a redução da complexidade dos programas.\n",
    "\n",
    "* As classes derivadas estendem as funcionalidades das classes base."
   ]
  },
  {
   "cell_type": "code",
   "execution_count": null,
   "id": "52e1c61d",
   "metadata": {},
   "outputs": [],
   "source": [
    "# Criando a classe Animal - Super-classe\n",
    "class Animal():\n",
    "    \n",
    "    def __init__(self):\n",
    "        print(\"Animal criado\")\n",
    "\n",
    "    def Identif(self):\n",
    "        print(\"Animal\")\n",
    "\n",
    "    def comer(self):\n",
    "        print(\"Comendo\")"
   ]
  },
  {
   "cell_type": "code",
   "execution_count": null,
   "id": "19287d57",
   "metadata": {},
   "outputs": [],
   "source": [
    "# Criando a classe Cachorro - Sub-classe\n",
    "# A subclasse cachorro tem seus proprios métodos mas ela herda alguns métodos\n",
    "# da super-classe, como por exemplo a classe animal, pois ela é comum entre \n",
    "# entre as duas.\n",
    "\n",
    "class Cachorro(Animal):\n",
    "    \n",
    "    def __init__(self):\n",
    "        Animal.__init__(self) # construtor da classe animal - super-classe.\n",
    "        print(\"Objeto Cachorro criado\")\n",
    "\n",
    "    def Identif(self):\n",
    "        print(\"Cachorro\")\n",
    "\n",
    "    def latir(self):\n",
    "        print(\"Au Au!\")"
   ]
  },
  {
   "cell_type": "code",
   "execution_count": null,
   "id": "06aa1664",
   "metadata": {},
   "outputs": [],
   "source": [
    "# Criando um objeto (Instanciando a classe)\n",
    "rex = Cachorro()\n",
    "\n",
    "# Executando o método da classe Cachorro (sub-classe)\n",
    "rex.Identif()\n",
    "\n",
    "# Executando o método da classe Animal (super-classe)\n",
    "rex.comer()\n",
    "\n",
    "# Executando o método da classe Cachorro (sub-classe)\n",
    "rex.latir()"
   ]
  },
  {
   "cell_type": "markdown",
   "id": "ece37c83",
   "metadata": {},
   "source": [
    "------------------------------------------------------------------------------------------\n",
    "## MÓDULO 4 - Packages e Funções"
   ]
  },
  {
   "cell_type": "markdown",
   "id": "f122d836",
   "metadata": {},
   "source": [
    "###  NumPy\n",
    "\n",
    "https://numpy.org/\n",
    "\n",
    "* O NumPy, é um acronimo para Numerical Python;                       \n",
    "* NumPy é um pacote fundamental para computação matemática em python, pois fornece suporte para arrays e matrizes, além de funções matemáticas para operações com esses objetos;                    \n",
    "* O NumPy nasceu a partir de 2 pacotes: Numeric e Numarray;                   \n",
    "* Esses pacotes foram criados em um esforço para prover uma solução open-source ao Matlab;  \n",
    "* NumPy não é um pacote para análise de dados, porém ele suporta os objetos do NumPy;           \n",
    "\n",
    "### O Numpy oferece:\n",
    "* Um rápido e eficiente array multidimensional;                            \n",
    "* Ferramentas para leitura de datasets baseados em arrays;                                       \n",
    "* Operações de álgebra linear;                                      \n",
    "* Integração com C, C++ e Fortran;                           \n",
    "* O NumPy adiciona a possibilidade de passar dados de um algoritmo para outro;                       \n",
    "* O NumPy é mais eficiente para armazenar e manipular dados, em relação a outros objetos Built-in (nativos) em Python, pois ele é ótimizado para performace;\n"
   ]
  },
  {
   "cell_type": "markdown",
   "id": "ae12dc6c",
   "metadata": {},
   "source": [
    "##  Arrays Numpy\n",
    "\n",
    "* Um Array é um conjunto de valores, todos do mesmo tipo e indexados por uma tupla de valores não-negativos;\n",
    "\n",
    "OBS:\n",
    "* Um vetor é um array unidimensional;                \n",
    "* Uma matriz é um array bidimencionsal;                            \n",
    "* Um tensor é um array trimensional;                      \n",
    "* E podemos ter array com mais dimenssões;        \n",
    "\n",
    "### Por que usar arrays com NumPy?\n",
    "* Arrays NumPy são homogéneos e possuem tipos estaticos;               \n",
    "* Arrays NumPy são mais eficientes no uso de memória;                      \n",
    "* Arrays oferecem rápida implementação de funções matemáticas;                                        \n",
    "* Arrays são uma opção mais rápida e mais poderosa que listas;  \n",
    "\n",
    "Embora NumPy não ofereca funcionalidades analíticas de alto nível, a compreensão sobre arrays ajudará a utilizar as ferramentas do Pandas de forma muito mais eficaz, além de ser a base para construção de modelosde Machine Learning em Python."
   ]
  },
  {
   "cell_type": "code",
   "execution_count": null,
   "id": "3b6c1c47",
   "metadata": {},
   "outputs": [],
   "source": [
    "# Importando o NumPy\n",
    "import numpy as np"
   ]
  },
  {
   "cell_type": "markdown",
   "id": "0a7a3d7d",
   "metadata": {},
   "source": [
    "#### CRIANDO ARRAYS "
   ]
  },
  {
   "cell_type": "code",
   "execution_count": null,
   "id": "019204c2",
   "metadata": {},
   "outputs": [],
   "source": [
    "# Criando Array unidimensional também chamado de vetor a partir de uma lista:\n",
    "vetor1 = np.array([0, 1, 2, 3, 4, 5, 6, 7, 8])\n",
    "print(vetor1)\n",
    "type(vetor1)"
   ]
  },
  {
   "cell_type": "code",
   "execution_count": null,
   "id": "9ffa7ec9",
   "metadata": {},
   "outputs": [],
   "source": [
    "# Imprimindo na tela um elemento específico no array\n",
    "vetor1[0] \n",
    "\n",
    "# Alterando um elemento do array\n",
    "vetor1[0] = 100\n",
    "\n",
    "print(vetor1)"
   ]
  },
  {
   "cell_type": "code",
   "execution_count": null,
   "id": "c1860143",
   "metadata": {},
   "outputs": [],
   "source": [
    "# Não é possível incluir elemento de outro tipo\n",
    "vetor1[0] = 'Novo elemento'"
   ]
  },
  {
   "cell_type": "code",
   "execution_count": null,
   "id": "007554aa",
   "metadata": {},
   "outputs": [],
   "source": [
    "# Verificando o formato do array\n",
    "print(vetor1.shape)\n",
    "# ele nos diz (9,) ou seja, um vetor unidimensional com 9 observações"
   ]
  },
  {
   "cell_type": "markdown",
   "id": "a102e6c1",
   "metadata": {},
   "source": [
    "#### FUNÇÕES NumPy"
   ]
  },
  {
   "cell_type": "code",
   "execution_count": null,
   "id": "ec3e4030",
   "metadata": {},
   "outputs": [],
   "source": [
    "# A função arange cria um vetor contendo uma progressão aritmética \n",
    "# a partir de um intervalo - start, stop, step\n",
    "vetor2 = np.arange(0., 4.5, .5)\n",
    "print(vetor2)\n",
    "\n",
    "# Verificando o tipo do objeto\n",
    "type(vetor2)\n",
    "\n",
    "# Formato do array\n",
    "np.shape(vetor2)\n",
    "\n",
    "# atributo\n",
    "print (vetor2.dtype)"
   ]
  },
  {
   "cell_type": "code",
   "execution_count": null,
   "id": "b8c943f5",
   "metadata": {},
   "outputs": [],
   "source": [
    "# criar um array com zeros\n",
    "print(np.zeros(10))"
   ]
  },
  {
   "cell_type": "code",
   "execution_count": null,
   "id": "0a22a509",
   "metadata": {},
   "outputs": [],
   "source": [
    "# Retorna 1 nas posições em diagonal e 0 no restante\n",
    "z = np.eye(3)\n",
    "\n",
    "# ver\n",
    "z"
   ]
  },
  {
   "cell_type": "code",
   "execution_count": null,
   "id": "b50f9b01",
   "metadata": {},
   "outputs": [],
   "source": [
    "# Os valores passados como parâmetro, formam uma diagonal\n",
    "d = np.diag(np.array([1, 2, 3, 4]))\n",
    "d"
   ]
  },
  {
   "cell_type": "code",
   "execution_count": null,
   "id": "7237fae2",
   "metadata": {},
   "outputs": [],
   "source": [
    "# Array de números complexos\n",
    "c = np.array([1+2j, 3+4j, 5+6*1j])\n",
    "c"
   ]
  },
  {
   "cell_type": "code",
   "execution_count": null,
   "id": "14c82714",
   "metadata": {},
   "outputs": [],
   "source": [
    "# Array de valores booleanos\n",
    "b = np.array([True, False, False, True])\n",
    "b"
   ]
  },
  {
   "cell_type": "code",
   "execution_count": null,
   "id": "76058676",
   "metadata": {},
   "outputs": [],
   "source": [
    "# Array de strings\n",
    "s = np.array(['Python', 'R', 'Julia'])\n",
    "s"
   ]
  },
  {
   "cell_type": "code",
   "execution_count": null,
   "id": "57e09fa9",
   "metadata": {},
   "outputs": [],
   "source": [
    "# O método linspace (linearly spaced vector) retorna um número de \n",
    "# valores igualmente distribuídos no intervalo especificado \n",
    "np.linspace(0, 10)"
   ]
  },
  {
   "cell_type": "code",
   "execution_count": null,
   "id": "4f3a5ec5",
   "metadata": {},
   "outputs": [],
   "source": [
    "# O método linspace\n",
    "print(np.linspace(0, 10, 15))"
   ]
  },
  {
   "cell_type": "code",
   "execution_count": null,
   "id": "43a6560b",
   "metadata": {},
   "outputs": [],
   "source": [
    "# Tirando log dos valores\n",
    "print(np.logspace(0, 5, 10))"
   ]
  },
  {
   "cell_type": "markdown",
   "id": "2a329673",
   "metadata": {},
   "source": [
    "#### CRIANDO MATRIZES"
   ]
  },
  {
   "cell_type": "code",
   "execution_count": null,
   "id": "3acda4da",
   "metadata": {},
   "outputs": [],
   "source": [
    "# Criando uma matriz \n",
    "matriz = np.array([[1,2,3],[4,5,6]])\n",
    "matriz"
   ]
  },
  {
   "cell_type": "code",
   "execution_count": null,
   "id": "86bf2897",
   "metadata": {},
   "outputs": [],
   "source": [
    "# ver numero de linhas e colunas\n",
    "print(matriz.shape)"
   ]
  },
  {
   "cell_type": "code",
   "execution_count": null,
   "id": "cde17a25",
   "metadata": {},
   "outputs": [],
   "source": [
    "# Criando uma matriz 2x3 apenas com números \"1\"\n",
    "matriz1 = np.ones((2,3))\n",
    "matriz1"
   ]
  },
  {
   "cell_type": "code",
   "execution_count": null,
   "id": "c3057e89",
   "metadata": {},
   "outputs": [],
   "source": [
    "# Criando uma matriz a partir de uma lista de listas\n",
    "lista = [[13,81,22], [0, 34, 59], [21, 48, 94]]\n",
    "\n",
    "# A função matrix cria uma matria a partir de uma sequência\n",
    "matriz2 = np.matrix(lista)\n",
    "matriz2"
   ]
  },
  {
   "cell_type": "code",
   "execution_count": null,
   "id": "c5c4fd81",
   "metadata": {},
   "outputs": [],
   "source": [
    "# Formato da matriz\n",
    "np.shape(matriz2)"
   ]
  },
  {
   "cell_type": "code",
   "execution_count": null,
   "id": "99ef7a6c",
   "metadata": {},
   "outputs": [],
   "source": [
    "# Ver tota de observações da matriz\n",
    "matriz2.size"
   ]
  },
  {
   "cell_type": "code",
   "execution_count": null,
   "id": "06b14c07",
   "metadata": {},
   "outputs": [],
   "source": [
    "# verificar o tamanho do item\n",
    "matriz2.itemsize"
   ]
  },
  {
   "cell_type": "code",
   "execution_count": null,
   "id": "3a061f72",
   "metadata": {},
   "outputs": [],
   "source": [
    "# verficar o tamnho em mb\n",
    "matriz2.nbytes"
   ]
  },
  {
   "cell_type": "code",
   "execution_count": null,
   "id": "bb3778a2",
   "metadata": {},
   "outputs": [],
   "source": [
    "# verificar dimenssões\n",
    "matriz2.ndim"
   ]
  },
  {
   "cell_type": "code",
   "execution_count": null,
   "id": "6c3156b2",
   "metadata": {},
   "outputs": [],
   "source": [
    "# Alterando um elemento da matriz\n",
    "matriz2[1,0] = 100"
   ]
  },
  {
   "cell_type": "code",
   "execution_count": null,
   "id": "39bd671b",
   "metadata": {},
   "outputs": [],
   "source": [
    "# ver tipo de dados em cada linha\n",
    "x = np.array([1, 2])  # NumPy decide o tipo dos dados\n",
    "y = np.array([1.0, 2.0])  # NumPy decide o tipo dos dados\n",
    "z = np.array([1, 2], dtype=np.float64)  # Forçamos um tipo de dado em particular\n",
    "\n",
    "print (x.dtype, y.dtype, z.dtype)"
   ]
  },
  {
   "cell_type": "code",
   "execution_count": null,
   "id": "79a45cb1",
   "metadata": {},
   "outputs": [],
   "source": [
    "# criar matriz com tipo float\n",
    "matriz3 = np.array([[24, 76], [35, 89]], dtype=float)\n",
    "matriz3"
   ]
  },
  {
   "cell_type": "markdown",
   "id": "388badd0",
   "metadata": {},
   "source": [
    "#### USANDO O MÉTODO random() NumPy"
   ]
  },
  {
   "cell_type": "code",
   "execution_count": null,
   "id": "0b316c56",
   "metadata": {},
   "outputs": [],
   "source": [
    "# Gerar 10 valores aleatórios\n",
    "print(np.random.rand(10))"
   ]
  },
  {
   "cell_type": "markdown",
   "id": "36f22971",
   "metadata": {},
   "source": [
    "#### OPERAÇÕES COM DATASETS"
   ]
  },
  {
   "cell_type": "code",
   "execution_count": null,
   "id": "974f145f",
   "metadata": {},
   "outputs": [],
   "source": [
    "# Carregando um dataset para dentro de um array sem cabeçalio\n",
    "arquivo = np.loadtxt(\"D:/onedrive/Documentos/ANALISE_DADOS/SOFTWARE_PYTHON/Arquivos_utilizados/iris.csv\", delimiter=',', usecols=(0,1,2,3), skiprows=1)\n",
    "print (arquivo)\n",
    "type(arquivo)"
   ]
  },
  {
   "cell_type": "markdown",
   "id": "1e5c1907",
   "metadata": {},
   "source": [
    "#### ESTATÍSTICAS "
   ]
  },
  {
   "cell_type": "code",
   "execution_count": null,
   "id": "92294e85",
   "metadata": {},
   "outputs": [],
   "source": [
    "# Criando um array\n",
    "A = np.array([15, 23, 63, 94, 75])"
   ]
  },
  {
   "cell_type": "code",
   "execution_count": null,
   "id": "84d12cbb",
   "metadata": {},
   "outputs": [],
   "source": [
    "# Em estatística a média\n",
    "np.mean(A)"
   ]
  },
  {
   "cell_type": "code",
   "execution_count": null,
   "id": "5eb2923f",
   "metadata": {},
   "outputs": [],
   "source": [
    "# desvio padrão\n",
    "np.std(A)"
   ]
  },
  {
   "cell_type": "code",
   "execution_count": null,
   "id": "03a48f5d",
   "metadata": {},
   "outputs": [],
   "source": [
    "# Variância\n",
    "np.var(A)"
   ]
  },
  {
   "cell_type": "code",
   "execution_count": null,
   "id": "8dbd1dc7",
   "metadata": {},
   "outputs": [],
   "source": [
    "# Gerar vetor\n",
    "d = np.arange(1, 10)"
   ]
  },
  {
   "cell_type": "code",
   "execution_count": null,
   "id": "e7eec4b3",
   "metadata": {},
   "outputs": [],
   "source": [
    "# Retorna o produto dos elementos\n",
    "np.prod(d)"
   ]
  },
  {
   "cell_type": "code",
   "execution_count": null,
   "id": "6403ba1a",
   "metadata": {},
   "outputs": [],
   "source": [
    "# Soma acumulada dos elementos\n",
    "np.cumsum(d)"
   ]
  },
  {
   "cell_type": "code",
   "execution_count": null,
   "id": "cb4c2a60",
   "metadata": {},
   "outputs": [],
   "source": [
    "# Gerar vetor de forma aleatória\n",
    "a = np.random.randn(10,2)\n",
    "a"
   ]
  },
  {
   "cell_type": "markdown",
   "id": "3d3dc22a",
   "metadata": {},
   "source": [
    "#### OUTRAS OPERAÇÕES COM ARRAYS"
   ]
  },
  {
   "cell_type": "code",
   "execution_count": null,
   "id": "50401464",
   "metadata": {},
   "outputs": [],
   "source": [
    "# criar um array com diagona 1 2 e 3\n",
    "a = np.diag(np.arange(3))\n",
    "a"
   ]
  },
  {
   "cell_type": "code",
   "execution_count": null,
   "id": "934a0f67",
   "metadata": {},
   "outputs": [],
   "source": [
    "# Slicing da linha 1 e coluna 1 (lembrese o python começa em 0)\n",
    "a[1, 1]"
   ]
  },
  {
   "cell_type": "code",
   "execution_count": null,
   "id": "3c4b8a49",
   "metadata": {},
   "outputs": [],
   "source": [
    "# Slicing da linha 1\n",
    "a[1]"
   ]
  },
  {
   "cell_type": "code",
   "execution_count": null,
   "id": "4217f9fe",
   "metadata": {},
   "outputs": [],
   "source": [
    "# Criar outro arrary\n",
    "b = np.arange(10)\n",
    "b"
   ]
  },
  {
   "cell_type": "code",
   "execution_count": null,
   "id": "7c0a71a8",
   "metadata": {},
   "outputs": [],
   "source": [
    "# [start:end:step] pedindo os elementos que começa na posição 2 até 9 \n",
    "#pulando de 3 em 3\n",
    "b[2:9:3] "
   ]
  },
  {
   "cell_type": "code",
   "execution_count": null,
   "id": "45026769",
   "metadata": {},
   "outputs": [],
   "source": [
    "# Comparação\n",
    "a = np.array([1, 2, 3, 4])\n",
    "b = np.array([4, 2, 2, 4])\n",
    "a == b"
   ]
  },
  {
   "cell_type": "code",
   "execution_count": null,
   "id": "7166b56a",
   "metadata": {},
   "outputs": [],
   "source": [
    "# Comparar os dois arrays\n",
    "np.array_equal(a, b)"
   ]
  },
  {
   "cell_type": "code",
   "execution_count": null,
   "id": "adae8e45",
   "metadata": {},
   "outputs": [],
   "source": [
    "# pedir valores min e max\n",
    "a.min()\n",
    "a.max()"
   ]
  },
  {
   "cell_type": "code",
   "execution_count": null,
   "id": "260ca97b",
   "metadata": {},
   "outputs": [],
   "source": [
    "# Usando o método around\n",
    "a = np.array([1.2, 1.5, 1.6, 2.5, 3.5, 4.5])\n",
    "b = np.around(a)\n",
    "b"
   ]
  },
  {
   "cell_type": "code",
   "execution_count": null,
   "id": "78470eb7",
   "metadata": {},
   "outputs": [],
   "source": [
    "# Copiando um array\n",
    "C = b.flatten()\n",
    "C"
   ]
  },
  {
   "cell_type": "code",
   "execution_count": null,
   "id": "3813870e",
   "metadata": {},
   "outputs": [],
   "source": [
    "# Somando um elemento ao array\n",
    "D = np.array(C) + 1.5\n",
    "D"
   ]
  },
  {
   "cell_type": "code",
   "execution_count": null,
   "id": "8778f9a8",
   "metadata": {},
   "outputs": [],
   "source": [
    "# Repetindo os elementos de um array\n",
    "np.repeat(D, 3)"
   ]
  },
  {
   "cell_type": "code",
   "execution_count": null,
   "id": "a4b34ccf",
   "metadata": {},
   "outputs": [],
   "source": [
    "# Repetindo as linhas \n",
    "np.tile(D, 3)"
   ]
  },
  {
   "cell_type": "code",
   "execution_count": null,
   "id": "55fdfe0c",
   "metadata": {},
   "outputs": [],
   "source": [
    "# Concatenando\n",
    "a1 = np.array([1, 2, 3])\n",
    "a2 = np.array([4, 5 ,6])\n",
    "np.concatenate((a1, a2), axis=0)"
   ]
  },
  {
   "cell_type": "markdown",
   "id": "8303b9a5",
   "metadata": {},
   "source": [
    "---------------------------------------------------------------------------------------\n",
    "##   MÓDULO 5 - Carregar Arquivos ou Dados e Exportar"
   ]
  },
  {
   "cell_type": "code",
   "execution_count": null,
   "id": "d3a6da61",
   "metadata": {},
   "outputs": [],
   "source": [
    "# Como carregar dados em CSV com pandas\n",
    "df = pd.read_csv('df.csv', sep = \",\")"
   ]
  },
  {
   "cell_type": "code",
   "execution_count": null,
   "id": "3e64e582",
   "metadata": {},
   "outputs": [],
   "source": [
    "# Como salvar dados em CSV com pandas\n",
    "df.to_csv('df.csv', encoding = 'utf-8', index = False)"
   ]
  },
  {
   "cell_type": "code",
   "execution_count": null,
   "id": "ae073e60",
   "metadata": {},
   "outputs": [],
   "source": [
    "# Abrir arquivo TXT no modo leitura \"r\" de read\n",
    "arquivo_txt_r = open(\"arquivo1.txt\", \"r\", encoding='utf8')\n",
    "\n",
    "# Abrir arquivo TXT no modo escrita \"w\" de write\n",
    "arquivo_txt_w = open(\"arquivo.txt\", \"w\", encoding='utf8')\n",
    "\n",
    "# Gravando arquivo\n",
    "arquivo_txt_w.write(\"Testando gravação de arquivos em Python\")\n",
    "\n",
    "# Abrir arquivo TXT no modo acrescentar \"a\" de append\n",
    "arquivo_txt_a = open(\"arquivo.txt\", \"a\", encoding='utf8')\n",
    "\n",
    "# Acrescentando conteúdo\n",
    "arq2.write(\" Acrescentando conteúdo\")\n",
    "\n",
    "# Fechar arquivo \n",
    "arquivo_txt.close()\n"
   ]
  },
  {
   "cell_type": "markdown",
   "id": "86ef8a07",
   "metadata": {},
   "source": [
    "------------------------------------------------------------------------------------\n",
    "##  MÓDULO 6 - Visualizar e Análise Exploratória de Dados"
   ]
  },
  {
   "cell_type": "code",
   "execution_count": null,
   "id": "97584244",
   "metadata": {},
   "outputs": [],
   "source": [
    "# Ver o tipo da variável\n",
    "type() # podendo ser int ex:5; float ex:5.2; string ex:\"teste\""
   ]
  },
  {
   "cell_type": "code",
   "execution_count": null,
   "id": "720d7138",
   "metadata": {},
   "outputs": [],
   "source": [
    "import pandas as pd\n",
    "d = {'col1': [1, 2, 5, 5.2, 17, 83, 93, 100], \n",
    "     'col2': [3, 4, 3.3, 2, 15, 95, 32, 200]}\n",
    "df = pd.DataFrame(data=d)\n",
    "df"
   ]
  },
  {
   "cell_type": "code",
   "execution_count": null,
   "id": "6a35bdfc",
   "metadata": {},
   "outputs": [],
   "source": [
    "# ver as primeiras linhas de um data.frame\n",
    "df.head()"
   ]
  },
  {
   "cell_type": "code",
   "execution_count": null,
   "id": "f55fa829",
   "metadata": {},
   "outputs": [],
   "source": [
    "# ver todo data.frame\n",
    "df"
   ]
  },
  {
   "cell_type": "code",
   "execution_count": null,
   "id": "22461531",
   "metadata": {},
   "outputs": [],
   "source": [
    "# ver todos os dataframes carregados\n",
    "%who\n",
    "%who_ls"
   ]
  },
  {
   "cell_type": "code",
   "execution_count": null,
   "id": "96c8a3fa",
   "metadata": {},
   "outputs": [],
   "source": [
    "# Ver quantidade de linhas e colunas de um data.frame\n",
    "df.shape"
   ]
  },
  {
   "cell_type": "code",
   "execution_count": null,
   "id": "4aedc24e",
   "metadata": {},
   "outputs": [],
   "source": [
    "# ver outras informações como tipo de variável observaçoes numero das colunas\n",
    "df.info()"
   ]
  },
  {
   "cell_type": "code",
   "execution_count": null,
   "id": "4da695c7",
   "metadata": {},
   "outputs": [],
   "source": [
    "# ver o total de missings das colunas\n",
    "df.isnull().sum()"
   ]
  },
  {
   "cell_type": "code",
   "execution_count": null,
   "id": "3d27c40b",
   "metadata": {},
   "outputs": [],
   "source": [
    "# table(R) ou tab(stata) no python\n",
    "df.value_counts()\n",
    "\n",
    "# table ampliado para todas as variáveis\n",
    "df.groupby(['col1']).count()"
   ]
  },
  {
   "cell_type": "code",
   "execution_count": null,
   "id": "121b6c01",
   "metadata": {},
   "outputs": [],
   "source": [
    "# Estatisticas descritivas\n",
    "summary = df.describe()\n",
    "summary.head()\n",
    "\n",
    "#se preferir pode transpor e deixar as variáveis nas linhas\n",
    "summary = summary.transpose()\n",
    "summary.head()"
   ]
  },
  {
   "cell_type": "code",
   "execution_count": null,
   "id": "a9d6fc49",
   "metadata": {},
   "outputs": [],
   "source": [
    "# Matriz de correlção\n",
    "corr = df.corr()\n",
    "corr.head()"
   ]
  },
  {
   "cell_type": "code",
   "execution_count": null,
   "id": "6b8f4b88",
   "metadata": {},
   "outputs": [],
   "source": [
    "# Contar o número de caracteres metodo \"tell\" que significa contar\n",
    "arquivo=[]\n",
    "print(arquivo.tell())"
   ]
  },
  {
   "cell_type": "code",
   "execution_count": null,
   "id": "e32e7291",
   "metadata": {},
   "outputs": [],
   "source": [
    "# visualizando datas com datetime\n",
    "import datetime\n",
    "\n",
    "# ver data hora atual\n",
    "agora = datetime.datetime.now()\n",
    "print(agora)"
   ]
  },
  {
   "cell_type": "code",
   "execution_count": null,
   "id": "836ba9bb",
   "metadata": {},
   "outputs": [],
   "source": [
    "# Olhando hora minuto segundo milisegundo\n",
    "import datetime\n",
    "t = datetime.time(7, 43, 28)\n",
    "print (t)\n",
    "print ('Hora  :', t.hour)\n",
    "print ('Minute:', t.minute)\n",
    "print ('Segundo:', t.second)\n",
    "print ('Microsegundo:', t.microsecond)"
   ]
  },
  {
   "cell_type": "code",
   "execution_count": null,
   "id": "fd0fb7eb",
   "metadata": {},
   "outputs": [],
   "source": [
    "# ver data hora atual\n",
    "import datetime\n",
    "hoje = datetime.date.today()\n",
    "print (hoje)\n",
    "print ('ctime:', hoje.ctime())\n",
    "print ('Ano:', hoje.year)\n",
    "print ('Mês :', hoje.month)\n",
    "print ('Dia :', hoje.day)"
   ]
  },
  {
   "cell_type": "markdown",
   "id": "b38e3ec6",
   "metadata": {},
   "source": [
    "---------------------------------------------------------------------------------\n",
    "##   MÓDULO 7 - Manipulação de Dados "
   ]
  },
  {
   "cell_type": "code",
   "execution_count": null,
   "id": "2494917f",
   "metadata": {},
   "outputs": [],
   "source": [
    "# O operadoções em Python\n",
    "1 + 1  # soma\n",
    "4 - 3  # Subtração\n",
    "3 * 3  # Multiplicação\n",
    "3 / 2  # Divisão\n",
    "4 // 3 # Divisão inteira, sem considerar o resto\n",
    "4 ** 2 # Potência\n",
    "pow(4,2) # Potência\n",
    "10 % 3 # Módulo\n",
    "abs(-8) # Retorna o valor absoluto\n",
    "round(3.14151922, 2) # Retorna o valor com arredondamento de duas casas\n",
    "6 > 3 # sinal de maior\n",
    "4 < 8 # sinal de menor\n",
    "4 >= 4 # maior ou igual\n",
    "4 <= 4 # menor ou igual\n",
    "=  # é um sinal de atribuição\n",
    "== # é igual\n",
    "20 % 6 # Resto da divisão\n",
    "and # \"e\" lógico\n",
    "or # \"ou\" lógico\n",
    "not # \"não\" lógico\n",
    "+= # adiciona o item a mais e soma (utilizado em estrutura de repetição)\n",
    "bool(0) # numero booleano onde 0 = false\n",
    "bool(1) # numero booleano onde 0 = true\n",
    "math.sqrt(25) # Raiz quadrada Usando um dos métodos do módulo math (import math) "
   ]
  },
  {
   "cell_type": "code",
   "execution_count": null,
   "id": "9faaad4a",
   "metadata": {},
   "outputs": [],
   "source": [
    "# Imputar dados com a moda mediana e média\n",
    "# Para moda \"obs [0] significa que vamos pegar o valor que mais se repete\"\n",
    "df['var'].fillna(df['var'].mode()[0], inplace = True) \n",
    "df['var'].fillna(df['var'].median(), inplace = True) \n",
    "df['var'].fillna(df['var'].mean(), inplace = True) "
   ]
  },
  {
   "cell_type": "code",
   "execution_count": null,
   "id": "07a92c16",
   "metadata": {},
   "outputs": [],
   "source": [
    "# Remover duplicados\n",
    "df =df.drop_duplicates()"
   ]
  },
  {
   "cell_type": "code",
   "execution_count": null,
   "id": "d9104159",
   "metadata": {},
   "outputs": [],
   "source": [
    "# Usando a função list() para converter uma tupla para lista\n",
    "lista_t2 = list(t2)"
   ]
  },
  {
   "cell_type": "code",
   "execution_count": null,
   "id": "87c9450d",
   "metadata": {},
   "outputs": [],
   "source": [
    "# Usando a função tuple() para converter uma lista para tupla\n",
    "t2 = tuple(lista_t2)"
   ]
  },
  {
   "cell_type": "code",
   "execution_count": null,
   "id": "5d1cbb05",
   "metadata": {},
   "outputs": [],
   "source": [
    "# valor máximo da lista Função max()\n",
    "max(lista)"
   ]
  },
  {
   "cell_type": "code",
   "execution_count": null,
   "id": "fc842278",
   "metadata": {},
   "outputs": [],
   "source": [
    "# valor mínimo da lista Função min()\n",
    "min(lista)"
   ]
  },
  {
   "cell_type": "code",
   "execution_count": null,
   "id": "4faac432",
   "metadata": {},
   "outputs": [],
   "source": [
    "# Fazendo split dos dados\n",
    "def split_string(text):\n",
    "    return text.split(\" \")\n",
    "texto = \"Esta função será bastante útil para separar grandes volumes de dados.\"\n",
    "\n",
    "# Isso divide a string em uma lista.\n",
    "print(split_string(texto))\n",
    "\n",
    "# Podemos atribuir o output de uma função, para uma variável\n",
    "token = split_string(texto)\n",
    "token"
   ]
  },
  {
   "cell_type": "code",
   "execution_count": null,
   "id": "c7df9794",
   "metadata": {},
   "outputs": [],
   "source": [
    "# Como fazer um sorteio aleatório\n",
    "import random\n",
    "random.choice(['Maça', 'Banana', 'Laranja'])"
   ]
  },
  {
   "cell_type": "code",
   "execution_count": null,
   "id": "210f4d95",
   "metadata": {},
   "outputs": [],
   "source": [
    "# Escolher 10 valores aleatoriamente entre 0 e 100\n",
    "random.sample(range(100), 10)"
   ]
  },
  {
   "cell_type": "code",
   "execution_count": null,
   "id": "36793124",
   "metadata": {},
   "outputs": [],
   "source": [
    "# Manipulando datas com datetime\n",
    "import datetime\n",
    "\n",
    "# Data 1 2015-04-28\n",
    "d1 = datetime.date(2015, 4, 28)\n",
    "print ('d1:', d1)\n",
    "\n",
    "# Data 2 2016-04-28\n",
    "d2 = datetime.date(2016, 4, 28)\n",
    "print ('d2:', d2)\n",
    "\n",
    "# Diferença em dias entre duas datas\n",
    "d2 - d1"
   ]
  },
  {
   "cell_type": "markdown",
   "id": "9f2171d1",
   "metadata": {},
   "source": [
    "-----------------------------------------------------------------------------------\n",
    "##   MÓDULO 8 - SQL com Python utilizando SQLite "
   ]
  },
  {
   "cell_type": "code",
   "execution_count": null,
   "id": "aa437227",
   "metadata": {},
   "outputs": [],
   "source": [
    "# Adicionar uma imagen do pc no jupyter notebook\n",
    "from IPython.display import Image\n",
    "Image(filename='Imagens_utilizadas/imagem sqlite.jpg',width=1200, height=300)"
   ]
  },
  {
   "cell_type": "markdown",
   "id": "0f5ac674",
   "metadata": {},
   "source": [
    "## SQLite \n",
    "\n",
    "* O SQLite é instalado automaticamente juntocom o Anaconda.\n",
    "* Documentação SQLite: http://www.sqlite.org/docs.html \n",
    "* É possivel abrir o SQLite no SQL Browser https://sqlitebrowser.org/dl/\n",
    "\n",
    "#### Bancos de dados Relacionais\n",
    "* Bancos de dados relacionais como MySQL, PostgreSQL e SQLite3 representam e armazenam dados em tabelas e linhas.\n",
    "* Os bancos de dados relacionais utilizam SQL (Structured Querying Language), sendo uma escolha adequada para aplicativos que envolvam o gerenciamento de várias transações.\n",
    "* A estrutura de um banco de dados relacional permite vincular informações de diferentes tabelas por meio do uso de chaves (ou índices)."
   ]
  },
  {
   "cell_type": "markdown",
   "id": "46d31497",
   "metadata": {},
   "source": [
    "### Exemplo 1 - Como criar um banco SQL e adicionar valores."
   ]
  },
  {
   "cell_type": "code",
   "execution_count": null,
   "id": "883e73b7",
   "metadata": {},
   "outputs": [],
   "source": [
    "# Reemover banco de dados SQLite (caso exista)\n",
    "import os\n",
    "os.remove(\"escola.db\") if os.path.exists(\"escola.db\") else None"
   ]
  },
  {
   "cell_type": "code",
   "execution_count": null,
   "id": "323c1524",
   "metadata": {},
   "outputs": [],
   "source": [
    "# Importando o módulo de acesso ao SQLite\n",
    "import sqlite3"
   ]
  },
  {
   "cell_type": "code",
   "execution_count": null,
   "id": "30fa22a1",
   "metadata": {},
   "outputs": [],
   "source": [
    "# Cria uma conexão com o banco de dados. \n",
    "# Se o banco de dados não existir, ele é criado neste momento.\n",
    "con = sqlite3.connect('escola.db')\n",
    "type(con)"
   ]
  },
  {
   "cell_type": "code",
   "execution_count": null,
   "id": "9368974b",
   "metadata": {},
   "outputs": [],
   "source": [
    "# Criando um cursor \n",
    "# (Um cursor permite percorrer todos os registros em um conjunto de dados)\n",
    "cur = con.cursor()\n",
    "type(cur)"
   ]
  },
  {
   "cell_type": "code",
   "execution_count": null,
   "id": "c2e94af2",
   "metadata": {},
   "outputs": [],
   "source": [
    "# Cria uma instrução sql\n",
    "# OBS: a contra barra \\ serve para quebrar o comando em mais de uma linha\n",
    "sql_create = 'create table cursos '\\\n",
    "             '(id integer primary key, '\\\n",
    "             'titulo varchar(100), '\\\n",
    "             'categoria varchar(140))'\n",
    "\n",
    "# Executando a instrução sql no cursor\n",
    "cur.execute(sql_create)\n",
    "\n",
    "# Criando outra sentença SQL para inserir registros\n",
    "sql_insert = 'insert into cursos values (?, ?, ?)'\n",
    "\n",
    "# Dados\n",
    "recset = [(1000, 'Ciência de Dados', 'Data Science'),\n",
    "          (1001, 'Big Data Fundamentos', 'Big Data'),\n",
    "          (1002, 'Python Fundamentos', 'Análise de Dados')]\n",
    "\n",
    "# Inserindo os registros\n",
    "for rec in recset:\n",
    "    cur.execute(sql_insert, rec)\n",
    "    \n",
    "# Grava a transação\n",
    "con.commit()"
   ]
  },
  {
   "cell_type": "code",
   "execution_count": null,
   "id": "9ccdc532",
   "metadata": {},
   "outputs": [],
   "source": [
    "# Criando outra sentença SQL para selecionar registros\n",
    "sql_select = 'select * from cursos'"
   ]
  },
  {
   "cell_type": "code",
   "execution_count": null,
   "id": "83cb8f79",
   "metadata": {},
   "outputs": [],
   "source": [
    "# Seleciona todos os registros e recupera os registros\n",
    "cur.execute(sql_select)\n",
    "\n",
    "# OBS: o fetchall pega todos os registros e salva em dados\n",
    "dados = cur.fetchall()"
   ]
  },
  {
   "cell_type": "code",
   "execution_count": null,
   "id": "c60374b6",
   "metadata": {},
   "outputs": [],
   "source": [
    "# Mostra dados linha a linha\n",
    "for linha in dados:\n",
    "    print ('Curso Id: %d, Título: %s, Categoria: %s \\n' % linha)"
   ]
  },
  {
   "cell_type": "code",
   "execution_count": null,
   "id": "34f312a9",
   "metadata": {},
   "outputs": [],
   "source": [
    "# Mostrar dados \n",
    "print(dados)"
   ]
  },
  {
   "cell_type": "code",
   "execution_count": null,
   "id": "7ba9d95e",
   "metadata": {},
   "outputs": [],
   "source": [
    "# Gerando outros registros\n",
    "recset = [(1003, 'Gestão de Dados com MongoDB', 'Big Data'),\n",
    "          (1004, 'R Fundamentos', 'Análise de Dados')]\n",
    "\n",
    "# Inserindo os registros\n",
    "for rec in recset:\n",
    "    cur.execute(sql_insert, rec)\n",
    "    \n",
    "# Gravando a transação\n",
    "con.commit()"
   ]
  },
  {
   "cell_type": "code",
   "execution_count": null,
   "id": "85b2d11b",
   "metadata": {},
   "outputs": [],
   "source": [
    "# Seleciona todos os registros\n",
    "cur.execute('select * from cursos')\n",
    "\n",
    "# Recupera os resultados\n",
    "recset = cur.fetchall()\n",
    "\n",
    "# Mostra\n",
    "for rec in recset:\n",
    "    print ('Curso Id: %d, Título: %s, Categoria: %s \\n' % rec)"
   ]
  },
  {
   "cell_type": "code",
   "execution_count": null,
   "id": "320e1acc",
   "metadata": {},
   "outputs": [],
   "source": [
    "# Fecha a conexão\n",
    "con.close()"
   ]
  },
  {
   "cell_type": "markdown",
   "id": "a4824600",
   "metadata": {},
   "source": [
    "### Exemplo 2 - Automatizando comandos SQL\n",
    "\n",
    "* A vantagem de automatizar os comandos é não precisar ficar repetindo comandos SQL a todos momento.\n",
    "\n",
    "### Automatizar os comandos CREATE e INSERT"
   ]
  },
  {
   "cell_type": "code",
   "execution_count": null,
   "id": "9ad0bd6b",
   "metadata": {},
   "outputs": [],
   "source": [
    "# Remove o arquivo com o banco de dados SQLite (caso exista)\n",
    "import os\n",
    "os.remove(\"dsa.db\") if os.path.exists(\"dsa.db\") else None"
   ]
  },
  {
   "cell_type": "code",
   "execution_count": null,
   "id": "e35647ab",
   "metadata": {},
   "outputs": [],
   "source": [
    "import sqlite3\n",
    " \n",
    "# Criando uma conexão\n",
    "conn = sqlite3.connect('dsa.db')   \n",
    "\n",
    "# Criando um cursor\n",
    "c = conn.cursor()\n",
    " \n",
    "# Função para criar uma tabela\n",
    "def create_table():\n",
    "    c.execute('CREATE TABLE IF NOT EXISTS produtos(id INTEGER PRIMARY KEY AUTOINCREMENT NOT NULL, date TEXT, '\\\n",
    "              'prod_name TEXT, valor REAL)')\n",
    "    \n",
    "# Função para inserir uma linha\n",
    "def data_insert():\n",
    "    c.execute(\"INSERT INTO produtos VALUES(10, '2020-05-02 14:32:11', 'Teclado', 90 )\")\n",
    "    conn.commit()\n",
    "    c.close()\n",
    "    conn.close()"
   ]
  },
  {
   "cell_type": "code",
   "execution_count": null,
   "id": "72467e1e",
   "metadata": {},
   "outputs": [],
   "source": [
    "# Criar tabela\n",
    "create_table()"
   ]
  },
  {
   "cell_type": "code",
   "execution_count": null,
   "id": "9ab91eca",
   "metadata": {},
   "outputs": [],
   "source": [
    "# Inserir dados\n",
    "data_insert()"
   ]
  },
  {
   "cell_type": "code",
   "execution_count": null,
   "id": "fb7409c1",
   "metadata": {},
   "outputs": [],
   "source": [
    "# Encerrando a conexão\n",
    "conn.close()"
   ]
  },
  {
   "cell_type": "markdown",
   "id": "e915feb8",
   "metadata": {},
   "source": [
    "### [CONTINUAÇÃO] - Abrindo base gerada e adcionando dados automaticamente                  "
   ]
  },
  {
   "cell_type": "code",
   "execution_count": null,
   "id": "5b8f02ed",
   "metadata": {},
   "outputs": [],
   "source": [
    "# importar biblioteca\n",
    "import sqlite3\n",
    "import random\n",
    "import time\n",
    "import datetime\n",
    " \n",
    "# conectando novamente no banco gerado\n",
    "conn = sqlite3.connect('dsa.db')   \n",
    "\n",
    "# Criando um cursor\n",
    "c = conn.cursor()\n",
    "  \n",
    "# Usando variáveis para inserir dados    \n",
    "def data_insert_var():\n",
    "    new_date = datetime.datetime.now()\n",
    "    new_prod_name = 'Monitor'\n",
    "    new_valor = random.randrange(50,100)\n",
    "    c.execute(\"INSERT INTO produtos (date, prod_name, valor) VALUES (?, ?, ?)\", (new_date, new_prod_name, new_valor))\n",
    "    conn.commit()"
   ]
  },
  {
   "cell_type": "code",
   "execution_count": null,
   "id": "fa246333",
   "metadata": {},
   "outputs": [],
   "source": [
    "# Gerando valores e inserindo na tabela\n",
    "for i in range(10):\n",
    "    data_insert_var()\n",
    "    time.sleep(1)"
   ]
  },
  {
   "cell_type": "code",
   "execution_count": null,
   "id": "16c24bc8",
   "metadata": {},
   "outputs": [],
   "source": [
    "# Encerrando a conexão\n",
    "c.close()\n",
    "conn.close()"
   ]
  },
  {
   "cell_type": "markdown",
   "id": "62252d76",
   "metadata": {},
   "source": [
    "### [CONTINUAÇÃO] -  Automatizando o comando SELECT "
   ]
  },
  {
   "cell_type": "code",
   "execution_count": null,
   "id": "c9d51b65",
   "metadata": {},
   "outputs": [],
   "source": [
    "import sqlite3\n",
    "import random\n",
    "import time\n",
    "import datetime\n",
    " \n",
    "# Criando uma conexão\n",
    "conn = sqlite3.connect('dsa.db')   \n",
    "\n",
    "# Criando um cursor\n",
    "c = conn.cursor()\n",
    "  \n",
    "# Leitura de dados\n",
    "def leitura_todos_dados():\n",
    "    c.execute(\"SELECT * FROM PRODUTOS\")\n",
    "    for linha in c.fetchall():\n",
    "        print(linha)\n",
    "        \n",
    "# Leitura de registros específicos\n",
    "def leitura_registros():\n",
    "    c.execute(\"SELECT * FROM PRODUTOS WHERE valor > 60.0\")\n",
    "    for linha in c.fetchall():\n",
    "        print(linha)      \n",
    "        \n",
    "# Leitura de colunas específicos\n",
    "def leitura_colunas():\n",
    "    c.execute(\"SELECT * FROM PRODUTOS\")\n",
    "    for linha in c.fetchall():\n",
    "        print(linha[3])         \n"
   ]
  },
  {
   "cell_type": "code",
   "execution_count": null,
   "id": "8de61e42",
   "metadata": {},
   "outputs": [],
   "source": [
    "# Select nos dados\n",
    "leitura_todos_dados()"
   ]
  },
  {
   "cell_type": "code",
   "execution_count": null,
   "id": "efeee655",
   "metadata": {},
   "outputs": [],
   "source": [
    "# Leitura de registros específicos\n",
    "leitura_registros()"
   ]
  },
  {
   "cell_type": "code",
   "execution_count": null,
   "id": "96afab2d",
   "metadata": {},
   "outputs": [],
   "source": [
    "# Leitura de colunas específicas\n",
    "leitura_colunas()"
   ]
  },
  {
   "cell_type": "code",
   "execution_count": null,
   "id": "40818cdb",
   "metadata": {},
   "outputs": [],
   "source": [
    "# Encerrando a conexão\n",
    "c.close()\n",
    "conn.close()"
   ]
  },
  {
   "cell_type": "markdown",
   "id": "4539cc9e",
   "metadata": {},
   "source": [
    "### [CONTINUAÇÃO] - Automatizando os comandos UPDATE e DELETE"
   ]
  },
  {
   "cell_type": "code",
   "execution_count": null,
   "id": "69b0bdfb",
   "metadata": {},
   "outputs": [],
   "source": [
    "import sqlite3\n",
    "import random\n",
    "import time\n",
    "import datetime\n",
    " \n",
    "# Criando uma conexão\n",
    "conn = sqlite3.connect('dsa.db')   \n",
    "\n",
    "# Criando um cursor\n",
    "c = conn.cursor()\n",
    "        \n",
    "# Update\n",
    "def atualiza_dados():\n",
    "    c.execute(\"UPDATE produtos SET valor = 70.00 WHERE valor = 98.0\")\n",
    "    conn.commit()\n",
    "    \n",
    "# Delete\n",
    "def remove_dados():\n",
    "    c.execute(\"DELETE FROM produtos WHERE valor = 62.0\")\n",
    "    conn.commit()"
   ]
  },
  {
   "cell_type": "code",
   "execution_count": null,
   "id": "1ddf2a65",
   "metadata": {},
   "outputs": [],
   "source": [
    "atualiza_dados()"
   ]
  },
  {
   "cell_type": "code",
   "execution_count": null,
   "id": "ddf3448c",
   "metadata": {},
   "outputs": [],
   "source": [
    "leitura_todos_dados()"
   ]
  },
  {
   "cell_type": "code",
   "execution_count": null,
   "id": "33a5f104",
   "metadata": {},
   "outputs": [],
   "source": [
    "remove_dados()"
   ]
  },
  {
   "cell_type": "code",
   "execution_count": null,
   "id": "a8ad1e41",
   "metadata": {},
   "outputs": [],
   "source": [
    "leitura_todos_dados()"
   ]
  },
  {
   "cell_type": "markdown",
   "id": "aab743b9",
   "metadata": {},
   "source": [
    "### [CONTINUAÇÃO] - Plotando graficos apartir de dados do SQL"
   ]
  },
  {
   "cell_type": "code",
   "execution_count": null,
   "id": "460cbf3d",
   "metadata": {},
   "outputs": [],
   "source": [
    "# Instala a versão exata do pacote matplotlib\n",
    "!pip install -q -U matplotlib==3.2.1"
   ]
  },
  {
   "cell_type": "code",
   "execution_count": null,
   "id": "06246405",
   "metadata": {},
   "outputs": [],
   "source": [
    "import matplotlib as mat\n",
    "mat.__version__"
   ]
  },
  {
   "cell_type": "code",
   "execution_count": null,
   "id": "8892c7f6",
   "metadata": {},
   "outputs": [],
   "source": [
    "import sqlite3\n",
    "import random\n",
    "import datetime\n",
    "import matplotlib.pyplot as plt\n",
    "%matplotlib notebook\n",
    " \n",
    "# Criando uma conexão\n",
    "conn = sqlite3.connect('dsa.db')   \n",
    "\n",
    "# Criando um cursor\n",
    "c = conn.cursor()"
   ]
  },
  {
   "cell_type": "code",
   "execution_count": null,
   "id": "22af2ebd",
   "metadata": {},
   "outputs": [],
   "source": [
    "# Gerar gráfico com os dados no banco de dados\n",
    "def dados_grafico():\n",
    "    c.execute(\"SELECT id, valor FROM produtos\")\n",
    "    ids = []\n",
    "    valores = []\n",
    "    dados = c.fetchall()\n",
    "    for linha in dados:\n",
    "        ids.append(linha[0])\n",
    "        valores.append(linha[1])\n",
    "        \n",
    "    plt.bar(ids, valores)\n",
    "    plt.show()"
   ]
  },
  {
   "cell_type": "code",
   "execution_count": null,
   "id": "9f3c57f2",
   "metadata": {},
   "outputs": [],
   "source": [
    "# Gerando gráficos\n",
    "dados_grafico()"
   ]
  },
  {
   "cell_type": "markdown",
   "id": "a0bbbaa6",
   "metadata": {},
   "source": [
    "### **-------------------------------------------------------------------------------------------**\n",
    "##  MÓDULO 9 - Stata 16 e 17 em Python"
   ]
  },
  {
   "cell_type": "code",
   "execution_count": null,
   "id": "b22f0600",
   "metadata": {},
   "outputs": [],
   "source": [
    "# Adicionar uma imagen do pc no jupyter notebook\n",
    "from IPython.display import Image\n",
    "Image(filename='Imagens_utilizadas/imagem stata17.jpg',width=1000, height=300)"
   ]
  },
  {
   "cell_type": "markdown",
   "id": "fde834b3",
   "metadata": {},
   "source": [
    "##  Stata\n",
    "\n",
    "* Para utilizar este módulo é preciso ter o stata 16 ou superior instalado\n",
    "* Documentação PyStata: https://blog.stata.com/2020/08/18/stata-python-integration-part-1-setting-up-stata-to-use-python/ \n",
    "* Chamando Stata com Jupyter notebook: https://www.youtube.com/watch?v=VGRDR3J346M\n",
    "\n",
    "#### Utilizando Stata em Python\n",
    "* Para começar, precisamos configurar o pacote pystata dentro do Python para que ele possa ser encontrado e importado pelo Python."
   ]
  },
  {
   "cell_type": "code",
   "execution_count": null,
   "id": "e85fd602",
   "metadata": {},
   "outputs": [],
   "source": [
    "import os\n",
    "os.chdir('C:/Program Files (x86)/Stata17/utilities')\n",
    "from pystata import config\n",
    "config.init('mp')"
   ]
  },
  {
   "cell_type": "code",
   "execution_count": null,
   "id": "c4510932",
   "metadata": {},
   "outputs": [],
   "source": [
    "%%stata\n",
    "sysyse auto, clear\n",
    "summary"
   ]
  },
  {
   "cell_type": "markdown",
   "id": "177eebed",
   "metadata": {},
   "source": [
    "### **-------------------------------------------------------------------------------------------**\n",
    "##  MÓDULO 10 - TensorFlow"
   ]
  },
  {
   "cell_type": "markdown",
   "id": "eb533af6",
   "metadata": {},
   "source": [
    "##  TensorFlow\n",
    "\n",
    "https://www.tensorflow.org/?hl=pt-br\n",
    "\n"
   ]
  },
  {
   "cell_type": "code",
   "execution_count": null,
   "id": "0cd94d6e",
   "metadata": {},
   "outputs": [],
   "source": [
    "# Instalando TensorFlow\n",
    "!pip3 install tensorflow"
   ]
  },
  {
   "cell_type": "code",
   "execution_count": null,
   "id": "4bdaf9e3",
   "metadata": {},
   "outputs": [],
   "source": [
    "# ver a versão instalada\n",
    "import tensorflow as tf\n",
    "tf.__version__"
   ]
  },
  {
   "cell_type": "markdown",
   "id": "43acbaf1",
   "metadata": {},
   "source": [
    "O Tensorflow é uma das bibliotecas mais amplamente utilizadas para implementar o aprendizado de máquina e outros algoritmos que envolvem grandes operações matemáticas. O Tensorflow foi desenvolvido pelo Google e é uma das bibliotecas de aprendizado de máquina mais populares no GitHub. O Google usa o Tensorflow para aprendizado de máquina em quase todos os aplicativos. Se você já usou o Google Photos ou o Google Voice Search, então já utlizou uma aplicação criada com a ajuda do TensorFlow. Vamos compreender os detalhes por trás do TensorFlow.\n",
    "\n",
    "Matematicamente, um tensor é um vetor N-dimensional, significando que um tensor pode ser usado para representar conjuntos de dados N-dimensionais. Aqui está um exemplo:"
   ]
  },
  {
   "cell_type": "code",
   "execution_count": null,
   "id": "5e725fc5",
   "metadata": {},
   "outputs": [],
   "source": [
    "from IPython.display import Image\n",
    "Image('Arquivos_utilizados/tensor1.png')"
   ]
  },
  {
   "cell_type": "markdown",
   "id": "bfafb1df",
   "metadata": {},
   "source": [
    "A figura acima mostra alguns tensores simplificados com dimensões mínimas. À medida que a dimensão continua crescendo, os dados se tornam mais e mais complexos. Por exemplo, se pegarmos um Tensor da forma (3x3), posso chamá-lo de matriz de 3 linhas e colunas. Se eu selecionar outro Tensor de forma (1000x3x3), posso chamá-lo como tensor ou conjunto de 1000 matrizes 3x3. Aqui chamamos (1000x3x3) como a forma ou dimensão do tensor resultante. Os tensores podem ser constantes ou variáveis."
   ]
  },
  {
   "cell_type": "code",
   "execution_count": null,
   "id": "34854d21",
   "metadata": {},
   "outputs": [],
   "source": [
    "from IPython.display import Image\n",
    "Image('Arquivos_utilizados/tensor2.png')"
   ]
  },
  {
   "cell_type": "markdown",
   "id": "8fe96103",
   "metadata": {},
   "source": [
    "### TensorFlow x NumPy"
   ]
  },
  {
   "cell_type": "markdown",
   "id": "4a017ef7",
   "metadata": {},
   "source": [
    "TensorFlow e NumPy são bastante semelhantes (ambos são bibliotecas de matriz N-d). NumPy é o pacote fundamental para computação científica com Python. Ele contém um poderoso objeto array N-dimensional, funções sofisticadas (broadcasting) e etc. Acredito que os usuários Python não podem viver sem o NumPy. O NumPy tem suporte a matriz N-d, mas não oferece métodos para criar funções de tensor e automaticamente computar derivadas, além de não ter suporte a GPU, e esta é uma das principais razões para a existência do TensorFlow. Abaixo uma comparação entre NumPy e TensorFlow, e você vai perceber que muitas palavras-chave são semelhantes."
   ]
  },
  {
   "cell_type": "code",
   "execution_count": null,
   "id": "7a0f633b",
   "metadata": {},
   "outputs": [],
   "source": [
    "from IPython.display import Image\n",
    "Image('Arquivos_utilizados/tf_numpy.png')"
   ]
  },
  {
   "cell_type": "markdown",
   "id": "eb5971f8",
   "metadata": {},
   "source": [
    "## Grafo Computacional\n",
    "\n",
    "Conheça a Formação Inteligência Artificial, um programa completo, 100% online e 100% em português, com mais de 402 horas em 9 cursos de nível intermediário/avançado, que vão ajudá-lo a se tornar um dos profissionais mais cobiçados do mercado de tecnologia. Clique no link abaixo, faça sua inscrição, comece hoje mesmo e aumente sua empregabilidade:\n",
    "\n",
    "https://www.datascienceacademy.com.br/bundle/formacao-inteligencia-artificial\n",
    "\n",
    "Agora sabemos o que o tensor realmente significa e é hora de entender o fluxo. Este fluxo refere-se a um grafo computacional ou simplesmente um grafo. \n",
    "\n",
    "Grafos computacionais são uma boa maneira de pensar em expressões matemáticas. O conceito de grafo foi introduzido por Leonhard Euler em 1736 para tentar resolver o problema das Pontes de Konigsberg. Grafos são modelos matemáticos para resolver problemas práticos do dia a dia, com várias aplicações no mundo real tais como: circuitos elétricos, redes de distribuição, relações de parentesco entre pessoas, análise de redes sociais, logística, redes de estradas, redes de computadores e muito mais. Grafos são muito usados para modelar problemas em computação.\n",
    "\n",
    "Um Grafo é um modelo matemático que representa relações entre objetos. Um grafo G = (V, E) consiste de um conjunto de vértices V (também chamados de nós), ligados por um conjunto de bordas ou arestas E. \n",
    "\n",
    "Considere o diagrama abaixo:"
   ]
  },
  {
   "cell_type": "code",
   "execution_count": null,
   "id": "0005862a",
   "metadata": {},
   "outputs": [],
   "source": [
    "from IPython.display import Image\n",
    "Image('Arquivos_utilizados/grafo1.png')"
   ]
  },
  {
   "cell_type": "markdown",
   "id": "cf14179c",
   "metadata": {},
   "source": [
    "Existem três operações: duas adições e uma multiplicação. Ou seja: \n",
    "\n",
    "- c = a+b\n",
    "- d = b+1\n",
    "- e = c∗d\n",
    "\n",
    "Para criar um grafo computacional, fazemos cada uma dessas operações nos nós, juntamente com as variáveis de entrada. Quando o valor de um nó é a entrada para outro nó, uma seta vai de um para outro e temos nesse caso um grafo direcionado.\n",
    "\n",
    "Esses tipos de grafos surgem o tempo todo em Ciência da Computação, especialmente ao falar sobre programas funcionais. Eles estão intimamente relacionados com as noções de grafos de dependência e grafos de chamadas. Eles também são a principal abstração por trás do popular framework de Deep Learning, o TensorFlow.\n",
    "\n",
    "Para mais detalhes sobre grafos, leia um dos capítulos do Deep Learning Book:\n",
    "\n",
    "https://deeplearningbook.com.br/algoritmo-backpropagation-parte1-grafos-computacionais-e-chain-rule/"
   ]
  },
  {
   "cell_type": "markdown",
   "id": "c42c9b45",
   "metadata": {},
   "source": [
    "Um grafo para execução de um modelo de Machine Learning pode ser bem grande e podemos executar sub-grafos (porções dos grafos) em dispositivos diferentes, como uma GPU. Exemplo:"
   ]
  },
  {
   "cell_type": "code",
   "execution_count": null,
   "id": "2e545087",
   "metadata": {},
   "outputs": [],
   "source": [
    "from IPython.display import Image\n",
    "Image('Arquivos_utilizados/grafo2.png')"
   ]
  },
  {
   "cell_type": "markdown",
   "id": "f80746d4",
   "metadata": {},
   "source": [
    "A figura acima explica a execução paralela de sub-grafos. Aqui estão 2 operações de multiplicação de matrizes, já que ambas estão no mesmo nível. Os nós são executados em gpu_0 e gpu_1 em paralelo."
   ]
  },
  {
   "cell_type": "markdown",
   "id": "78849c4a",
   "metadata": {},
   "source": [
    "### Modelo de Programação TensorFlow"
   ]
  },
  {
   "cell_type": "markdown",
   "id": "eccfa82f",
   "metadata": {},
   "source": [
    "O principal objetivo de um programa TensorFlow é expressar uma computação numérica como um grafo direcionado. A figura abaixo é um exemplo de grafo de computação, que representa o cálculo de h = ReLU (Wx + b). Este é um componente muito clássico em muitas redes neurais, que conduz a transformação linear dos dados de entrada e, em seguida, alimenta uma linearidade (função de ativação linear retificada, neste caso)."
   ]
  },
  {
   "cell_type": "code",
   "execution_count": null,
   "id": "0c26be2b",
   "metadata": {},
   "outputs": [],
   "source": [
    "from IPython.display import Image\n",
    "Image('Arquivos_utilizados/grafo3.png')"
   ]
  },
  {
   "cell_type": "markdown",
   "id": "0c33ec0e",
   "metadata": {},
   "source": [
    "O grafo acima representa um cálculo de fluxo de dados; cada nó está em operação com zero ou mais entradas e zero ou mais saídas. As arestas do grafo são tensores que fluem entre os nós. Os Cientistas de Dados geralmente constroem um grafo computacional usando uma das linguagens frontend suportadas como Python e C ++ e, em seguida, iniciam o grafo."
   ]
  },
  {
   "cell_type": "markdown",
   "id": "9a79982f",
   "metadata": {},
   "source": [
    "Vamos ver o grafo computacional acima em detalhes. Truncamos o grafo e deixamos a parte acima do nó ReLU, que é exatamente o cálculo h = ReLU (Wx + b)."
   ]
  },
  {
   "cell_type": "code",
   "execution_count": null,
   "id": "0aede787",
   "metadata": {},
   "outputs": [],
   "source": [
    "from IPython.display import Image\n",
    "Image('Arquivos_utilizados/grafo4.png')"
   ]
  },
  {
   "cell_type": "markdown",
   "id": "0ada7372",
   "metadata": {},
   "source": [
    "Podemos ver o grafo como um sistema, que tem entradas (os dados x), saída (h neste caso), variáveis com estado (W e b) e um monte de operações (matmul, add e ReLU). Deixe-me apresentar-lhe um por um.\n",
    "\n",
    "- Variáveis: quando treinamos um modelo, usamos variáveis para manter e atualizar parâmetros. Ao contrário de muitos tensores que fluem ao longo das margens do grafo, uma variável é um tipo especial de operação. Na maioria dos modelos de aprendizado de máquina, existem muitos parâmetros que temos que aprender, que são atualizados durante o treinamento. Variáveis são nós com estado que armazenam parâmetros e produzem seus valores atuais de tempos em tempos. Seus estados são mantidos em múltiplas execuções de um grafo. Por exemplo, os valores desses nós não serão atualizados até que uma etapa completa de treinamento usando um mini lote de dados seja concluída.\n",
    "\n",
    "\n",
    "- Operações matemáticas: Neste grafo, existem três tipos de operações matemáticas. A operação MatMul multiplica dois valores de matriz; A operação Add adiciona elementos e a operação ReLU é ativada com a função linear retificada de elementos."
   ]
  },
  {
   "cell_type": "markdown",
   "id": "6bea2210",
   "metadata": {},
   "source": [
    "### Hello World"
   ]
  },
  {
   "cell_type": "code",
   "execution_count": null,
   "id": "0e49fb60",
   "metadata": {},
   "outputs": [],
   "source": [
    "# Cria um tensor\n",
    "# Esse tensor é adicionado como um nó ao grafo.\n",
    "hello = tf.constant('Hello, TensorFlow!')\n",
    "print(hello)"
   ]
  },
  {
   "cell_type": "markdown",
   "id": "cc64809e",
   "metadata": {},
   "source": [
    "### Operações Matemáticas com Tensores"
   ]
  },
  {
   "cell_type": "markdown",
   "id": "afa6183c",
   "metadata": {},
   "source": [
    "#### Soma"
   ]
  },
  {
   "cell_type": "code",
   "execution_count": null,
   "id": "80f9be7a",
   "metadata": {},
   "outputs": [],
   "source": [
    "# Constantes\n",
    "const_a = tf.constant(5)\n",
    "const_b = tf.constant(9)"
   ]
  },
  {
   "cell_type": "code",
   "execution_count": null,
   "id": "1cc0ad39",
   "metadata": {},
   "outputs": [],
   "source": [
    "print(const_a)"
   ]
  },
  {
   "cell_type": "code",
   "execution_count": null,
   "id": "3576aac3",
   "metadata": {},
   "outputs": [],
   "source": [
    "# Soma\n",
    "total = const_a + const_b\n",
    "print(total)"
   ]
  },
  {
   "cell_type": "code",
   "execution_count": null,
   "id": "c27b1498",
   "metadata": {},
   "outputs": [],
   "source": [
    "# Criando os nodes no grafo computacional\n",
    "node1 = tf.constant(5, dtype = tf.int32)\n",
    "node2 = tf.constant(9, dtype = tf.int32)\n",
    "node3 = tf.add(node1, node2)\n",
    " \n",
    "# Executa o grafo\n",
    "print(\"\\nA soma do node1 com o node2 é:\", node3)"
   ]
  },
  {
   "cell_type": "markdown",
   "id": "1dbc69e6",
   "metadata": {},
   "source": [
    "#### Subtração"
   ]
  },
  {
   "cell_type": "code",
   "execution_count": null,
   "id": "1f330984",
   "metadata": {},
   "outputs": [],
   "source": [
    "# Tensores randômicos\n",
    "rand_a = tf.random.normal([3], 2.0)\n",
    "rand_b = tf.random.uniform([3], 1.0, 4.0)"
   ]
  },
  {
   "cell_type": "code",
   "execution_count": null,
   "id": "446a8ceb",
   "metadata": {},
   "outputs": [],
   "source": [
    "print(rand_a)"
   ]
  },
  {
   "cell_type": "code",
   "execution_count": null,
   "id": "eb3381b2",
   "metadata": {},
   "outputs": [],
   "source": [
    "print(rand_b)"
   ]
  },
  {
   "cell_type": "code",
   "execution_count": null,
   "id": "5d1fb541",
   "metadata": {},
   "outputs": [],
   "source": [
    "# Subtração\n",
    "diff = tf.subtract(rand_a, rand_b)"
   ]
  },
  {
   "cell_type": "code",
   "execution_count": null,
   "id": "eec08a55",
   "metadata": {},
   "outputs": [],
   "source": [
    "type(diff)"
   ]
  },
  {
   "cell_type": "code",
   "execution_count": null,
   "id": "a7f9faaf",
   "metadata": {},
   "outputs": [],
   "source": [
    "print('\\nSubtração entre os 2 tensores é: ', diff)"
   ]
  },
  {
   "cell_type": "markdown",
   "id": "0156ae75",
   "metadata": {},
   "source": [
    "#### Divisão"
   ]
  },
  {
   "cell_type": "code",
   "execution_count": null,
   "id": "ead087b7",
   "metadata": {},
   "outputs": [],
   "source": [
    "# Tensores\n",
    "node1 = tf.constant(21, dtype = tf.int32)\n",
    "node2 = tf.constant(7, dtype = tf.int32)"
   ]
  },
  {
   "cell_type": "code",
   "execution_count": null,
   "id": "21e4d0a4",
   "metadata": {},
   "outputs": [],
   "source": [
    "# Divisão\n",
    "div = tf.math.truediv(node1, node2)"
   ]
  },
  {
   "cell_type": "code",
   "execution_count": null,
   "id": "2d0d3fc9",
   "metadata": {},
   "outputs": [],
   "source": [
    "print('\\nDivisão Entre os Tensores: \\n', div)"
   ]
  },
  {
   "cell_type": "markdown",
   "id": "5538488c",
   "metadata": {},
   "source": [
    "#### Multiplicação"
   ]
  },
  {
   "cell_type": "markdown",
   "id": "0c9d9060",
   "metadata": {},
   "source": [
    "Para aprender a teoria e prática sobre operações com matrizes acesse <a href=\"https://www.datascienceacademy.com.br/bundle/formacao-inteligencia-artificial\">aqui</a>."
   ]
  },
  {
   "cell_type": "code",
   "execution_count": null,
   "id": "714f168a",
   "metadata": {},
   "outputs": [],
   "source": [
    "# Criando tensores\n",
    "tensor_a = tf.constant([[4., 2.]])\n",
    "tensor_b = tf.constant([[3.],[7.]])"
   ]
  },
  {
   "cell_type": "code",
   "execution_count": null,
   "id": "737ec569",
   "metadata": {},
   "outputs": [],
   "source": [
    "print(tensor_a)"
   ]
  },
  {
   "cell_type": "code",
   "execution_count": null,
   "id": "da815a23",
   "metadata": {},
   "outputs": [],
   "source": [
    "print(tensor_b)"
   ]
  },
  {
   "cell_type": "code",
   "execution_count": null,
   "id": "5c453e15",
   "metadata": {},
   "outputs": [],
   "source": [
    "# Multiplicação\n",
    "# tf.math.multiply(X, Y) executa multiplicação element-wise \n",
    "# https://www.tensorflow.org/api_docs/python/tf/math/multiply\n",
    "prod = tf.math.multiply(tensor_a, tensor_b)"
   ]
  },
  {
   "cell_type": "code",
   "execution_count": null,
   "id": "65f5182f",
   "metadata": {},
   "outputs": [],
   "source": [
    "print('\\nProduto Element-wise Entre os Tensores: \\n', prod)"
   ]
  },
  {
   "cell_type": "code",
   "execution_count": null,
   "id": "00dcd8a0",
   "metadata": {},
   "outputs": [],
   "source": [
    "# Outro exemplo de Multiplicação de Matrizes\n",
    "mat_a = tf.constant([[2, 3], [9, 2], [4, 5]])\n",
    "mat_b = tf.constant([[6, 4, 5], [3, 7, 2]])"
   ]
  },
  {
   "cell_type": "code",
   "execution_count": null,
   "id": "9acbde0a",
   "metadata": {},
   "outputs": [],
   "source": [
    "print(mat_a)"
   ]
  },
  {
   "cell_type": "code",
   "execution_count": null,
   "id": "062beab9",
   "metadata": {},
   "outputs": [],
   "source": [
    "print(mat_b)"
   ]
  },
  {
   "cell_type": "code",
   "execution_count": null,
   "id": "02f5ae42",
   "metadata": {},
   "outputs": [],
   "source": [
    "# Multiplicação\n",
    "# tf.linalg.matmul(X, Y) executa multiplicação entre matrizes \n",
    "# https://www.tensorflow.org/api_docs/python/tf/linalg/matmul\n",
    "mat_prod = tf.linalg.matmul(mat_a, mat_b)"
   ]
  },
  {
   "cell_type": "code",
   "execution_count": null,
   "id": "b86d5543",
   "metadata": {},
   "outputs": [],
   "source": [
    "print('\\nProduto Element-wise Entre os Tensores (Matrizes): \\n', mat_prod)"
   ]
  },
  {
   "cell_type": "code",
   "execution_count": null,
   "id": "34806bcd",
   "metadata": {},
   "outputs": [],
   "source": [
    "from IPython.display import Image\n",
    "Image('Arquivos_utilizados/matrizes.png')"
   ]
  },
  {
   "cell_type": "markdown",
   "id": "59c62b9f",
   "metadata": {},
   "source": [
    "### Usando Variáveis"
   ]
  },
  {
   "cell_type": "markdown",
   "id": "2fcb1a54",
   "metadata": {},
   "source": [
    "O TensorFlow também possui nodes variáveis que podem conter dados variáveis. Elas são usados principalmente para manter e atualizar parâmetros de um modelo de treinamento.\n",
    "\n",
    "Variáveis são buffers na memória contendo tensores. Elas devem ser inicializados e podem ser salvas durante e após o treinamento. Você pode restaurar os valores salvos posteriormente para exercitar ou analisar o modelo.\n",
    "\n",
    "Uma diferença importante a notar entre uma constante e uma variável é:\n",
    "\n",
    "O valor de uma constante é armazenado no grafo e seu valor é replicado onde o grafo é carregado. Uma variável é armazenada separadamente e pode estar em um servidor de parâmetros."
   ]
  },
  {
   "cell_type": "code",
   "execution_count": null,
   "id": "7ca20aa9",
   "metadata": {},
   "outputs": [],
   "source": [
    "# Criado o mesmo tensor com tf.Variable() e tf.constant()\n",
    "changeable_tensor = tf.Variable([10, 7])\n",
    "unchangeable_tensor = tf.constant([10, 7])\n",
    "changeable_tensor, unchangeable_tensor"
   ]
  },
  {
   "cell_type": "code",
   "execution_count": null,
   "id": "5091be60",
   "metadata": {},
   "outputs": [],
   "source": [
    "# Isso vai gerar erro - requer o método assign()\n",
    "changeable_tensor[0] = 7\n",
    "changeable_tensor"
   ]
  },
  {
   "cell_type": "code",
   "execution_count": null,
   "id": "6060a18f",
   "metadata": {},
   "outputs": [],
   "source": [
    "# Isso vai funcionar\n",
    "changeable_tensor[0].assign(7)\n",
    "changeable_tensor"
   ]
  },
  {
   "cell_type": "code",
   "execution_count": null,
   "id": "37c3fff2",
   "metadata": {},
   "outputs": [],
   "source": [
    "# Isso vai gerar erro (não podemos alterar tensores criados com tf.constant())\n",
    "unchangeable_tensor[0].assign(7)\n",
    "unchangleable_tensor"
   ]
  },
  {
   "cell_type": "markdown",
   "id": "a01e0f7a",
   "metadata": {},
   "source": [
    "Qual você deve usar? `tf.constant ()` ou `tf.Variable ()`?\n",
    "\n",
    "Dependerá do que o seu problema requer. No entanto, na maioria das vezes, o TensorFlow escolhe automaticamente para você (ao carregar dados ou modelar dados)."
   ]
  },
  {
   "cell_type": "markdown",
   "id": "8b68dcd5",
   "metadata": {},
   "source": [
    "### Outras Formas de Criar Tensores"
   ]
  },
  {
   "cell_type": "code",
   "execution_count": null,
   "id": "77fc8c36",
   "metadata": {},
   "outputs": [],
   "source": [
    "# Tensor preenchido com 1\n",
    "tf.ones(shape=(3, 2))"
   ]
  },
  {
   "cell_type": "code",
   "execution_count": null,
   "id": "1a8af13b",
   "metadata": {},
   "outputs": [],
   "source": [
    "# Tensor preenchido com 0\n",
    "tf.zeros(shape=(3, 2))"
   ]
  },
  {
   "cell_type": "code",
   "execution_count": null,
   "id": "c4868ec6",
   "metadata": {},
   "outputs": [],
   "source": [
    "# Cria um tensor rank 4 (4 dimensões)\n",
    "rank_4_tensor = tf.zeros([2, 3, 4, 5])\n",
    "rank_4_tensor"
   ]
  },
  {
   "cell_type": "code",
   "execution_count": null,
   "id": "c2d8bc48",
   "metadata": {},
   "outputs": [],
   "source": [
    "# Imprime atributos do tensor\n",
    "print(\"Tipo de dado de cada elemento:\", rank_4_tensor.dtype)\n",
    "print(\"Número de dimensões (rank):\", rank_4_tensor.ndim)\n",
    "print(\"Shape do tensor:\", rank_4_tensor.shape)\n",
    "print(\"Elementos no eixo 0 do tensor:\", rank_4_tensor.shape[0])\n",
    "print(\"Elementos no último eixo do tensor:\", rank_4_tensor.shape[-1])\n",
    "print(\"Número total de elementos (2*3*4*5):\", tf.size(rank_4_tensor).numpy())"
   ]
  },
  {
   "cell_type": "code",
   "execution_count": null,
   "id": "e0f9883f",
   "metadata": {},
   "outputs": [],
   "source": [
    "# Obtém os 2 primeiros itens de cada dimensão\n",
    "rank_4_tensor[:2, :2, :2, :2]"
   ]
  },
  {
   "cell_type": "code",
   "execution_count": null,
   "id": "7d0c735a",
   "metadata": {},
   "outputs": [],
   "source": [
    "# Obtém a dimensão de cada índice, exceto o final\n",
    "rank_4_tensor[:1, :1, :1, :]"
   ]
  },
  {
   "cell_type": "code",
   "execution_count": null,
   "id": "a09a6a2b",
   "metadata": {},
   "outputs": [],
   "source": [
    "# Cria um tensor e rank 2 (2 dimensões)\n",
    "rank_2_tensor = tf.constant([[10, 7],\n",
    "                             [3, 4]])"
   ]
  },
  {
   "cell_type": "code",
   "execution_count": null,
   "id": "64b66097",
   "metadata": {},
   "outputs": [],
   "source": [
    "# Obtém o último item de cada linha\n",
    "rank_2_tensor[:, -1]"
   ]
  }
 ],
 "metadata": {
  "kernelspec": {
   "display_name": "Python 3",
   "language": "python",
   "name": "python3"
  },
  "language_info": {
   "codemirror_mode": {
    "name": "ipython",
    "version": 3
   },
   "file_extension": ".py",
   "mimetype": "text/x-python",
   "name": "python",
   "nbconvert_exporter": "python",
   "pygments_lexer": "ipython3",
   "version": "3.8.8"
  },
  "nbTranslate": {
   "displayLangs": [
    "*"
   ],
   "hotkey": "alt-t",
   "langInMainMenu": true,
   "sourceLang": "en",
   "targetLang": "fr",
   "useGoogleTranslate": true
  },
  "toc": {
   "base_numbering": 1,
   "nav_menu": {},
   "number_sections": true,
   "sideBar": true,
   "skip_h1_title": false,
   "title_cell": "Table of Contents",
   "title_sidebar": "Contents",
   "toc_cell": false,
   "toc_position": {
    "height": "calc(100% - 180px)",
    "left": "10px",
    "top": "150px",
    "width": "459.091px"
   },
   "toc_section_display": true,
   "toc_window_display": true
  },
  "varInspector": {
   "cols": {
    "lenName": 16,
    "lenType": 16,
    "lenVar": 40
   },
   "kernels_config": {
    "python": {
     "delete_cmd_postfix": "",
     "delete_cmd_prefix": "del ",
     "library": "var_list.py",
     "varRefreshCmd": "print(var_dic_list())"
    },
    "r": {
     "delete_cmd_postfix": ") ",
     "delete_cmd_prefix": "rm(",
     "library": "var_list.r",
     "varRefreshCmd": "cat(var_dic_list()) "
    }
   },
   "oldHeight": 122.72736400000001,
   "position": {
    "height": "40px",
    "left": "1475.45px",
    "right": "20px",
    "top": "120px",
    "width": "250px"
   },
   "types_to_exclude": [
    "module",
    "function",
    "builtin_function_or_method",
    "instance",
    "_Feature"
   ],
   "varInspector_section_display": "none",
   "window_display": false
  }
 },
 "nbformat": 4,
 "nbformat_minor": 5
}
